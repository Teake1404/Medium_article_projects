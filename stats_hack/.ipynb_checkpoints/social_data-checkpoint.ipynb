{
 "cells": [
  {
   "cell_type": "code",
   "execution_count": null,
   "id": "bd9b8cfc-01c8-4aa2-bdb9-5acb85f4a21f",
   "metadata": {},
   "outputs": [],
   "source": [
    "import pandas as pd\n",
    "import numpy as np\n",
    "from googleapiclient.discovery import build\n",
    "import re\n",
    "import csv\n",
    "import json\n",
    "\n",
    "import os"
   ]
  },
  {
   "cell_type": "code",
   "execution_count": 19,
   "id": "5c2ab7a4-32de-4c64-9f40-5dc7e5c1a651",
   "metadata": {},
   "outputs": [],
   "source": [
    "with open([f for f in os.listdir(os.getcwd()) if f.endswith('json')][0]) as f:\n",
    "    config = json.load(f)\n",
    "\n",
    "api_key = config[\"YOUTUBE_API_KEY\"]"
   ]
  },
  {
   "cell_type": "code",
   "execution_count": 7,
   "id": "ca9e2956-fc60-4203-bd32-071f8aba7a0a",
   "metadata": {},
   "outputs": [],
   "source": [
    "youtube = build(\"youtube\", \"v3\", developerKey=api_key)\n",
    "\n",
    "user_name =\"https://www.youtube.com/@MyNameIsDeya\""
   ]
  },
  {
   "cell_type": "code",
   "execution_count": 9,
   "id": "3de03348-6ec5-46a0-93b4-5b7e84a6ee9e",
   "metadata": {},
   "outputs": [],
   "source": [
    "def get_channel_id_from_username(username):\n",
    "    res = youtube.search().list(\n",
    "        q=username,\n",
    "        type='channel',\n",
    "        part='snippet',\n",
    "        maxResults=1\n",
    "    ).execute()\n",
    "    return res['items'][0]['snippet']['channelId']\n",
    "\n",
    "def get_uploads_playlist_id(channel_id):\n",
    "    res = youtube.channels().list(id=channel_id, part='contentDetails').execute()\n",
    "    return res['items'][0]['contentDetails']['relatedPlaylists']['uploads']\n",
    "\n",
    "def get_video_ids(playlist_id):\n",
    "    video_ids = []\n",
    "    next_page_token = None\n",
    "    while True:\n",
    "        res = youtube.playlistItems().list(\n",
    "            playlistId=playlist_id,\n",
    "            part='contentDetails',\n",
    "            maxResults=50,\n",
    "            pageToken=next_page_token\n",
    "        ).execute()\n",
    "        video_ids += [item['contentDetails']['videoId'] for item in res['items']]\n",
    "        next_page_token = res.get('nextPageToken')\n",
    "        if next_page_token is None:\n",
    "            break\n",
    "    return video_ids\n",
    "\n",
    "def get_video_details(video_ids):\n",
    "    video_data = []\n",
    "    for i in range(0, len(video_ids), 50):\n",
    "        res = youtube.videos().list(\n",
    "            id=','.join(video_ids[i:i+50]),\n",
    "            part='snippet,statistics'\n",
    "        ).execute()\n",
    "        for video in res['items']:\n",
    "            data = {\n",
    "                'video_id': video['id'],\n",
    "                'title': video['snippet']['title'],\n",
    "                'published_at': video['snippet']['publishedAt'],\n",
    "                'views': int(video['statistics'].get('viewCount', 0)),\n",
    "                'likes': int(video['statistics'].get('likeCount', 0)),\n",
    "                'comments': int(video['statistics'].get('commentCount', 0)),\n",
    "            }\n",
    "            video_data.append(data)\n",
    "    return pd.DataFrame(video_data)"
   ]
  },
  {
   "cell_type": "code",
   "execution_count": null,
   "id": "820eba3e-4c90-4468-a8c2-0d53f10f346c",
   "metadata": {},
   "outputs": [],
   "source": [
    "channel_id=get_channel_id_from_username(user_name)\n",
    "\n",
    "playlist_id=get_uploads_playlist_id(channel_id)\n"
   ]
  },
  {
   "cell_type": "code",
   "execution_count": 21,
   "id": "aa83e8c2-401b-4228-bbd0-c2a8444f87a2",
   "metadata": {},
   "outputs": [],
   "source": [
    "video_ids=get_video_ids(playlist_id)"
   ]
  },
  {
   "cell_type": "code",
   "execution_count": 25,
   "id": "1f983873-c7c2-4762-b751-9871bfb92ac6",
   "metadata": {},
   "outputs": [],
   "source": [
    "df=get_video_details(video_ids)"
   ]
  },
  {
   "cell_type": "code",
   "execution_count": 29,
   "id": "0d7b77d1-b37b-4965-90d5-1bbc62a8413e",
   "metadata": {},
   "outputs": [],
   "source": [
    "df.to_csv('youtube_data.csv',index=False)"
   ]
  }
 ],
 "metadata": {
  "kernelspec": {
   "display_name": "Python 3 (ipykernel)",
   "language": "python",
   "name": "python3"
  },
  "language_info": {
   "codemirror_mode": {
    "name": "ipython",
    "version": 3
   },
   "file_extension": ".py",
   "mimetype": "text/x-python",
   "name": "python",
   "nbconvert_exporter": "python",
   "pygments_lexer": "ipython3",
   "version": "3.12.4"
  }
 },
 "nbformat": 4,
 "nbformat_minor": 5
}
