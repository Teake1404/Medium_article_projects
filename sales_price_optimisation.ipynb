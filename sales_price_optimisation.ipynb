{
 "cells": [
  {
   "cell_type": "code",
   "execution_count": null,
   "id": "cf933170-39b6-439c-8232-7a050524401a",
   "metadata": {},
   "outputs": [],
   "source": [
    "import pandas as pd\n",
    "import numpy as np\n",
    "import os\n",
    "import matplotlib.pyplot as plt\n",
    "%matplotlib inline \n",
    "import seaborn as sns\n",
    "import plotly.express as px\n",
    "import plotly.graph_objs as go\n",
    "import plotly.io as pio\n",
    "pio.renderers.default = 'iframe'\n",
    "pd.set_option('display.max_columns', None)\n",
    "import statsmodels.api as sm\n",
    "from statsmodels.tools.tools import add_constant\n",
    "from statsmodels.nonparametric.smoothers_lowess import lowess\n",
    "from pygam import ExpectileGAM\n",
    "from price_optimisation_data import * \n",
    "from sklearn.preprocessing import LabelEncoder\n",
    "from sklearn.metrics import mean_squared_error,r2_score"
   ]
  },
  {
   "cell_type": "code",
   "execution_count": 6,
   "id": "ee257fb3-47cd-411e-8a73-a950fd89f919",
   "metadata": {},
   "outputs": [],
   "source": [
    "file_path=os.path.join(os.getcwd(),'./price_data.csv')\n",
    "df=pd.read_csv(file_path)\n",
    "\n",
    "df.rename(columns=lambda x:x.lower(),inplace=True)"
   ]
  },
  {
   "cell_type": "code",
   "execution_count": 10,
   "id": "e39bb223-7dd2-4e4d-8ebb-4647bd2fe208",
   "metadata": {},
   "outputs": [
    {
     "data": {
      "text/html": [
       "<iframe\n",
       "    scrolling=\"no\"\n",
       "    width=\"100%\"\n",
       "    height=\"545px\"\n",
       "    src=\"iframe_figures/figure_10.html\"\n",
       "    frameborder=\"0\"\n",
       "    allowfullscreen\n",
       "></iframe>\n"
      ]
     },
     "metadata": {},
     "output_type": "display_data"
    }
   ],
   "source": [
    "fig=px.scatter(df,x='price',y='quantity',size=df['quantity'])\n",
    "fig.update_layout({'title':'Correlation between Price and Quantity'})"
   ]
  },
  {
   "cell_type": "markdown",
   "id": "6a30c940-27e9-4eb7-a0e3-e9ef58b92ddb",
   "metadata": {},
   "source": [
    "### Linear Model"
   ]
  },
  {
   "cell_type": "code",
   "execution_count": 10,
   "id": "7ac8eb2f-66bf-4f4b-a442-93bc2e114532",
   "metadata": {},
   "outputs": [],
   "source": [
    "import statsmodels.api as sm\n",
    "from statsmodels.tools.tools import add_constant"
   ]
  },
  {
   "cell_type": "code",
   "execution_count": 14,
   "id": "71eda9c7-b945-41f9-8744-dae3c89f4467",
   "metadata": {},
   "outputs": [
    {
     "name": "stdout",
     "output_type": "stream",
     "text": [
      "                            OLS Regression Results                            \n",
      "==============================================================================\n",
      "Dep. Variable:               quantity   R-squared:                       0.049\n",
      "Model:                            OLS   Adj. R-squared:                  0.048\n",
      "Method:                 Least Squares   F-statistic:                     51.14\n",
      "Date:                Mon, 21 Oct 2024   Prob (F-statistic):           1.66e-12\n",
      "Time:                        19:24:23   Log-Likelihood:                -9231.1\n",
      "No. Observations:                1000   AIC:                         1.847e+04\n",
      "Df Residuals:                     998   BIC:                         1.848e+04\n",
      "Df Model:                           1                                         \n",
      "Covariance Type:            nonrobust                                         \n",
      "==============================================================================\n",
      "                 coef    std err          t      P>|t|      [0.025      0.975]\n",
      "------------------------------------------------------------------------------\n",
      "const       2889.2504    194.994     14.817      0.000    2506.605    3271.896\n",
      "price         -6.6389      0.928     -7.151      0.000      -8.461      -4.817\n",
      "==============================================================================\n",
      "Omnibus:                      845.570   Durbin-Watson:                   1.989\n",
      "Prob(Omnibus):                  0.000   Jarque-Bera (JB):            19965.020\n",
      "Skew:                           3.862   Prob(JB):                         0.00\n",
      "Kurtosis:                      23.482   Cond. No.                         524.\n",
      "==============================================================================\n",
      "\n",
      "Notes:\n",
      "[1] Standard Errors assume that the covariance matrix of the errors is correctly specified.\n"
     ]
    }
   ],
   "source": [
    "# Using linear demand function\n",
    "x_value = df['price']\n",
    "y_value = df['quantity']\n",
    "X = add_constant(x_value)\n",
    "model = sm.OLS(y_value, X)\n",
    "result = model.fit()\n",
    "    \n",
    "print(result.summary())"
   ]
  },
  {
   "cell_type": "code",
   "execution_count": null,
   "id": "9adb5ccb-1aa9-4e08-bcbe-90476a9af5d1",
   "metadata": {},
   "outputs": [],
   "source": [
    "x_value=df['price']\n",
    "y_value=df['quantity']\n",
    "X=add_constant(x_value)\n",
    "model=sm.OLS(y_value,X)\n",
    "result=model.fit()"
   ]
  },
  {
   "cell_type": "code",
   "execution_count": null,
   "id": "e6e5c210-f1a7-4107-a476-edc0926049a8",
   "metadata": {},
   "outputs": [],
   "source": [
    "result.summary() # small p_value means we can reject the null hypothesis that price doesn't have an effect on quantity. \n",
    "# However, small R-squared means the model can't explain a lot of the response variability"
   ]
  },
  {
   "cell_type": "code",
   "execution_count": null,
   "id": "824bdb04-0423-46ca-bfb3-f23abefb928f",
   "metadata": {},
   "outputs": [],
   "source": [
    "coefficient_pvalue=result.f_pvalue\n",
    "intercept,slope=result.params\n",
    "\n",
    "median_price=df['price'].median()\n",
    "median_qty=df['quantity'].median()\n",
    "\n",
    "price_elasticity=round(slope * (median_price/median_qty),2)\n",
    "\n",
    "print(f'Linear Price Elasticity {price_elasticity} with p_value {coefficient_pvalue}')"
   ]
  },
  {
   "cell_type": "markdown",
   "id": "146d74a6-1d7a-488c-ae76-bb8009cc0a2a",
   "metadata": {},
   "source": [
    "### Non-Linear Price Elasticity Model"
   ]
  },
  {
   "cell_type": "code",
   "execution_count": 12,
   "id": "6f2f95e2-9290-4691-9907-6048cdecec50",
   "metadata": {},
   "outputs": [],
   "source": [
    "# using non-linear demand function\n",
    "x_value=np.log(df['price'])\n",
    "y_value=np.log(df['quantity'])\n",
    "X=add_constant(x_value)\n",
    "\n",
    "model=sm.OLS(y_value,X)\n",
    "\n",
    "result=model.fit()"
   ]
  },
  {
   "cell_type": "code",
   "execution_count": 18,
   "id": "f123efe7-46bf-4a67-a86c-49be59609fd5",
   "metadata": {},
   "outputs": [
    {
     "data": {
      "text/html": [
       "<table class=\"simpletable\">\n",
       "<caption>OLS Regression Results</caption>\n",
       "<tr>\n",
       "  <th>Dep. Variable:</th>        <td>quantity</td>     <th>  R-squared:         </th> <td>   0.133</td>\n",
       "</tr>\n",
       "<tr>\n",
       "  <th>Model:</th>                   <td>OLS</td>       <th>  Adj. R-squared:    </th> <td>   0.132</td>\n",
       "</tr>\n",
       "<tr>\n",
       "  <th>Method:</th>             <td>Least Squares</td>  <th>  F-statistic:       </th> <td>   152.6</td>\n",
       "</tr>\n",
       "<tr>\n",
       "  <th>Date:</th>             <td>Mon, 21 Oct 2024</td> <th>  Prob (F-statistic):</th> <td>1.01e-32</td>\n",
       "</tr>\n",
       "<tr>\n",
       "  <th>Time:</th>                 <td>19:24:37</td>     <th>  Log-Likelihood:    </th> <td> -1562.7</td>\n",
       "</tr>\n",
       "<tr>\n",
       "  <th>No. Observations:</th>      <td>  1000</td>      <th>  AIC:               </th> <td>   3129.</td>\n",
       "</tr>\n",
       "<tr>\n",
       "  <th>Df Residuals:</th>          <td>   998</td>      <th>  BIC:               </th> <td>   3139.</td>\n",
       "</tr>\n",
       "<tr>\n",
       "  <th>Df Model:</th>              <td>     1</td>      <th>                     </th>     <td> </td>   \n",
       "</tr>\n",
       "<tr>\n",
       "  <th>Covariance Type:</th>      <td>nonrobust</td>    <th>                     </th>     <td> </td>   \n",
       "</tr>\n",
       "</table>\n",
       "<table class=\"simpletable\">\n",
       "<tr>\n",
       "    <td></td>       <th>coef</th>     <th>std err</th>      <th>t</th>      <th>P>|t|</th>  <th>[0.025</th>    <th>0.975]</th>  \n",
       "</tr>\n",
       "<tr>\n",
       "  <th>const</th> <td>   12.1370</td> <td>    0.449</td> <td>   27.027</td> <td> 0.000</td> <td>   11.256</td> <td>   13.018</td>\n",
       "</tr>\n",
       "<tr>\n",
       "  <th>price</th> <td>   -1.0683</td> <td>    0.086</td> <td>  -12.353</td> <td> 0.000</td> <td>   -1.238</td> <td>   -0.899</td>\n",
       "</tr>\n",
       "</table>\n",
       "<table class=\"simpletable\">\n",
       "<tr>\n",
       "  <th>Omnibus:</th>       <td> 9.853</td> <th>  Durbin-Watson:     </th> <td>   1.916</td>\n",
       "</tr>\n",
       "<tr>\n",
       "  <th>Prob(Omnibus):</th> <td> 0.007</td> <th>  Jarque-Bera (JB):  </th> <td>   9.804</td>\n",
       "</tr>\n",
       "<tr>\n",
       "  <th>Skew:</th>          <td> 0.221</td> <th>  Prob(JB):          </th> <td> 0.00743</td>\n",
       "</tr>\n",
       "<tr>\n",
       "  <th>Kurtosis:</th>      <td> 2.799</td> <th>  Cond. No.          </th> <td>    66.2</td>\n",
       "</tr>\n",
       "</table><br/><br/>Notes:<br/>[1] Standard Errors assume that the covariance matrix of the errors is correctly specified."
      ],
      "text/latex": [
       "\\begin{center}\n",
       "\\begin{tabular}{lclc}\n",
       "\\toprule\n",
       "\\textbf{Dep. Variable:}    &     quantity     & \\textbf{  R-squared:         } &     0.133   \\\\\n",
       "\\textbf{Model:}            &       OLS        & \\textbf{  Adj. R-squared:    } &     0.132   \\\\\n",
       "\\textbf{Method:}           &  Least Squares   & \\textbf{  F-statistic:       } &     152.6   \\\\\n",
       "\\textbf{Date:}             & Mon, 21 Oct 2024 & \\textbf{  Prob (F-statistic):} &  1.01e-32   \\\\\n",
       "\\textbf{Time:}             &     19:24:37     & \\textbf{  Log-Likelihood:    } &   -1562.7   \\\\\n",
       "\\textbf{No. Observations:} &        1000      & \\textbf{  AIC:               } &     3129.   \\\\\n",
       "\\textbf{Df Residuals:}     &         998      & \\textbf{  BIC:               } &     3139.   \\\\\n",
       "\\textbf{Df Model:}         &           1      & \\textbf{                     } &             \\\\\n",
       "\\textbf{Covariance Type:}  &    nonrobust     & \\textbf{                     } &             \\\\\n",
       "\\bottomrule\n",
       "\\end{tabular}\n",
       "\\begin{tabular}{lcccccc}\n",
       "               & \\textbf{coef} & \\textbf{std err} & \\textbf{t} & \\textbf{P$> |$t$|$} & \\textbf{[0.025} & \\textbf{0.975]}  \\\\\n",
       "\\midrule\n",
       "\\textbf{const} &      12.1370  &        0.449     &    27.027  &         0.000        &       11.256    &       13.018     \\\\\n",
       "\\textbf{price} &      -1.0683  &        0.086     &   -12.353  &         0.000        &       -1.238    &       -0.899     \\\\\n",
       "\\bottomrule\n",
       "\\end{tabular}\n",
       "\\begin{tabular}{lclc}\n",
       "\\textbf{Omnibus:}       &  9.853 & \\textbf{  Durbin-Watson:     } &    1.916  \\\\\n",
       "\\textbf{Prob(Omnibus):} &  0.007 & \\textbf{  Jarque-Bera (JB):  } &    9.804  \\\\\n",
       "\\textbf{Skew:}          &  0.221 & \\textbf{  Prob(JB):          } &  0.00743  \\\\\n",
       "\\textbf{Kurtosis:}      &  2.799 & \\textbf{  Cond. No.          } &     66.2  \\\\\n",
       "\\bottomrule\n",
       "\\end{tabular}\n",
       "%\\caption{OLS Regression Results}\n",
       "\\end{center}\n",
       "\n",
       "Notes: \\newline\n",
       " [1] Standard Errors assume that the covariance matrix of the errors is correctly specified."
      ],
      "text/plain": [
       "<class 'statsmodels.iolib.summary.Summary'>\n",
       "\"\"\"\n",
       "                            OLS Regression Results                            \n",
       "==============================================================================\n",
       "Dep. Variable:               quantity   R-squared:                       0.133\n",
       "Model:                            OLS   Adj. R-squared:                  0.132\n",
       "Method:                 Least Squares   F-statistic:                     152.6\n",
       "Date:                Mon, 21 Oct 2024   Prob (F-statistic):           1.01e-32\n",
       "Time:                        19:24:37   Log-Likelihood:                -1562.7\n",
       "No. Observations:                1000   AIC:                             3129.\n",
       "Df Residuals:                     998   BIC:                             3139.\n",
       "Df Model:                           1                                         \n",
       "Covariance Type:            nonrobust                                         \n",
       "==============================================================================\n",
       "                 coef    std err          t      P>|t|      [0.025      0.975]\n",
       "------------------------------------------------------------------------------\n",
       "const         12.1370      0.449     27.027      0.000      11.256      13.018\n",
       "price         -1.0683      0.086    -12.353      0.000      -1.238      -0.899\n",
       "==============================================================================\n",
       "Omnibus:                        9.853   Durbin-Watson:                   1.916\n",
       "Prob(Omnibus):                  0.007   Jarque-Bera (JB):                9.804\n",
       "Skew:                           0.221   Prob(JB):                      0.00743\n",
       "Kurtosis:                       2.799   Cond. No.                         66.2\n",
       "==============================================================================\n",
       "\n",
       "Notes:\n",
       "[1] Standard Errors assume that the covariance matrix of the errors is correctly specified.\n",
       "\"\"\""
      ]
     },
     "execution_count": 18,
     "metadata": {},
     "output_type": "execute_result"
    }
   ],
   "source": [
    "result.summary()"
   ]
  },
  {
   "cell_type": "code",
   "execution_count": 14,
   "id": "e80577f7-5bb6-4764-974b-26d64acf7453",
   "metadata": {},
   "outputs": [
    {
     "name": "stdout",
     "output_type": "stream",
     "text": [
      "Linear Price Elasticity -1.07 with p_value 1.008356315590762e-32\n"
     ]
    }
   ],
   "source": [
    "coefficient_pvalue=result.f_pvalue\n",
    "intercept,slope=result.params\n",
    "\n",
    "price_elasticity=round(slope,2)\n",
    "\n",
    "print(f'Linear Price Elasticity {price_elasticity} with p_value {coefficient_pvalue}')"
   ]
  },
  {
   "cell_type": "code",
   "execution_count": 16,
   "id": "6b709587-a2b1-4227-a4da-da4b53564b96",
   "metadata": {},
   "outputs": [
    {
     "name": "stdout",
     "output_type": "stream",
     "text": [
      "The final equation is 186652 * price**-1.07\n"
     ]
    }
   ],
   "source": [
    "import math\n",
    "\n",
    "round(math.exp(12.1370),0)\n",
    "print(f'The final equation is 186652 * price**{price_elasticity}')"
   ]
  },
  {
   "cell_type": "code",
   "execution_count": 24,
   "id": "f5f4a3ff-83e7-4627-8660-eb1f7f10af37",
   "metadata": {},
   "outputs": [
    {
     "data": {
      "text/plain": [
       "15.0"
      ]
     },
     "execution_count": 24,
     "metadata": {},
     "output_type": "execute_result"
    }
   ],
   "source": [
    "# Set price elasticity range\n",
    "elasticity = -1.07\n",
    "\n",
    "# Set price range\n",
    "price = list(np.linspace(15, 1000, num=100))\n",
    "demand = 186652 * np.power(price,elasticity)\n",
    "revenue = price  * demand\n",
    "max_revenue = np.max(revenue)\n",
    "max_index = np.argmax(revenue)\n",
    "price[max_index]"
   ]
  },
  {
   "cell_type": "code",
   "execution_count": 26,
   "id": "500b5e1e-e947-48ea-8372-bcc92f89bfca",
   "metadata": {},
   "outputs": [],
   "source": [
    "price_df=pd.DataFrame(price).rename(columns={0:'price'})\n",
    "\n",
    "price_df['revenue']=revenue"
   ]
  },
  {
   "cell_type": "code",
   "execution_count": 28,
   "id": "16c07638-f14f-44c6-8384-1d6570539812",
   "metadata": {},
   "outputs": [
    {
     "data": {
      "text/html": [
       "<iframe\n",
       "    scrolling=\"no\"\n",
       "    width=\"100%\"\n",
       "    height=\"545px\"\n",
       "    src=\"iframe_figures/figure_28.html\"\n",
       "    frameborder=\"0\"\n",
       "    allowfullscreen\n",
       "></iframe>\n"
      ]
     },
     "metadata": {},
     "output_type": "display_data"
    }
   ],
   "source": [
    "fig=px.line(price_df,x='price',y='revenue')\n",
    "fig.update_layout({'title':'Price vs Revennue'})"
   ]
  },
  {
   "cell_type": "code",
   "execution_count": 30,
   "id": "7caa5a92-d6a6-4653-aa95-7f0d668f3d34",
   "metadata": {},
   "outputs": [],
   "source": [
    "def create_multiple_price_elasticity_df(pe1,pe2,pe3):\n",
    "    price = list(np.linspace(15, 100, num=100))\n",
    "    demand1 = 186552 * np.power(price,pe1)\n",
    "    revenue1 = price  * demand1\n",
    "    \n",
    "    demand2 = 186552 * np.power(price,pe2)\n",
    "    revenue2 = price  * demand2\n",
    "\n",
    "    demand3 = 186552 * np.power(price,pe3)\n",
    "    revenue3 = price  * demand3\n",
    "\n",
    "    data={'price':price,f'{pe1}_revenue':revenue1,f'{pe2}_revenue':revenue2,f'{pe3}_revenue':revenue3}\n",
    "    price_df=pd.DataFrame(data)\n",
    "    \n",
    "    return price_df.set_index('price')"
   ]
  },
  {
   "cell_type": "code",
   "execution_count": 32,
   "id": "ba6133d7-f647-4438-8df1-b458468f08ed",
   "metadata": {},
   "outputs": [],
   "source": [
    "price_df=create_multiple_price_elasticity_df(-0.5,-0.8,-3)"
   ]
  },
  {
   "cell_type": "code",
   "execution_count": 34,
   "id": "6bc07f90-0265-4c14-a7f5-4a64514d9a94",
   "metadata": {},
   "outputs": [
    {
     "data": {
      "text/html": [
       "<iframe\n",
       "    scrolling=\"no\"\n",
       "    width=\"100%\"\n",
       "    height=\"545px\"\n",
       "    src=\"iframe_figures/figure_34.html\"\n",
       "    frameborder=\"0\"\n",
       "    allowfullscreen\n",
       "></iframe>\n"
      ]
     },
     "metadata": {},
     "output_type": "display_data"
    }
   ],
   "source": [
    "fig=px.line(price_df)\n",
    "fig.update_layout({'title':'Three Levels of PE Price & Revenue Comparison'})\n"
   ]
  },
  {
   "cell_type": "markdown",
   "id": "01302d74-cd62-4b5c-970f-3cff5b4481d2",
   "metadata": {},
   "source": [
    "# Comparing Non linear Demand function with ExpectileGAM using Kaggle dataset"
   ]
  },
  {
   "cell_type": "code",
   "execution_count": 19,
   "id": "dfe52876-f7a3-4995-ad62-f42245991a44",
   "metadata": {},
   "outputs": [],
   "source": [
    "df=pd.read_csv('retail_price.csv')"
   ]
  },
  {
   "cell_type": "code",
   "execution_count": 100,
   "id": "7f963e24-223c-4d54-9b82-978216c10c74",
   "metadata": {},
   "outputs": [],
   "source": [
    "agg_df=df.groupby(['product_category_name','month_year','unit_price','holiday','year'],\\\n",
    "                  as_index=False)[['qty','total_price']].sum()\n",
    "\n",
    "agg_df['if_holiday']=np.where(agg_df.holiday!=0,'1','0')\n",
    "agg_df['year']=agg_df['year'].astype('str')"
   ]
  },
  {
   "cell_type": "code",
   "execution_count": 98,
   "id": "143e480c-46aa-4c75-8d3e-e6444db79208",
   "metadata": {},
   "outputs": [
    {
     "data": {
      "text/html": [
       "<iframe\n",
       "    scrolling=\"no\"\n",
       "    width=\"620px\"\n",
       "    height=\"720\"\n",
       "    src=\"iframe_figures/figure_98.html\"\n",
       "    frameborder=\"0\"\n",
       "    allowfullscreen\n",
       "></iframe>\n"
      ]
     },
     "metadata": {},
     "output_type": "display_data"
    }
   ],
   "source": [
    "fig=px.scatter(agg_df,x='unit_price',y='qty',color='if_holiday',facet_col='product_category_name',facet_col_wrap=2,\n",
    "           facet_row_spacing=0.1,facet_col_spacing=0.1,opacity=0.6,trendline='lowess',trendline_color_override='blue',\n",
    "           template='none',title='Product Sales Holiday Analysis',width=600,height=700\n",
    ").update_traces(\n",
    "    marker=dict(size=7),hoverlabel=dict(font=dict(size=10))\n",
    ")\n",
    "\n",
    "fig.show('iframe')\n",
    "## Observation: some products are inelastic, such as Bed_Bath, some are very price sensitvie such as garden tools.\\\n",
    "## Sales mostly made in holiday seasons\n",
    "# Furniture deco is inelastic until price surpass certain 69"
   ]
  },
  {
   "cell_type": "code",
   "execution_count": 21,
   "id": "6d381eda-bc77-49b2-b87b-08df7c215436",
   "metadata": {},
   "outputs": [
    {
     "data": {
      "text/plain": [
       "Text(0.5, 1.0, 'KDE Plot for Unit Price per Product')"
      ]
     },
     "execution_count": 21,
     "metadata": {},
     "output_type": "execute_result"
    },
    {
     "data": {
      "image/png": "[encoded data removed]",
      "text/plain": [
       "<Figure size 640x480 with 1 Axes>"
      ]
     },
     "metadata": {},
     "output_type": "display_data"
    }
   ],
   "source": [
    "sns.kdeplot(df,x='unit_price',hue='product_category_name',multiple=\"stack\").set_title('KDE Plot for Unit Price per Product')"
   ]
  },
  {
   "cell_type": "code",
   "execution_count": 108,
   "id": "3f752c73-5f29-4f2d-b989-031cebd19380",
   "metadata": {},
   "outputs": [
    {
     "data": {
      "text/plain": [
       "product_category_name\n",
       "health_beauty            130\n",
       "watches_gifts            102\n",
       "garden_tools              93\n",
       "computers_accessories     69\n",
       "bed_bath_table            61\n",
       "cool_stuff                46\n",
       "furniture_decor           38\n",
       "perfumery                 26\n",
       "consoles_games            16\n",
       "Name: count, dtype: int64"
      ]
     },
     "execution_count": 108,
     "metadata": {},
     "output_type": "execute_result"
    }
   ],
   "source": [
    "agg_df.product_category_name.value_counts()"
   ]
  },
  {
   "cell_type": "code",
   "execution_count": 118,
   "id": "83421724-0a4f-4ded-8a6a-fe24b5a9487b",
   "metadata": {},
   "outputs": [
    {
     "data": {
      "text/html": [
       "<iframe\n",
       "    scrolling=\"no\"\n",
       "    width=\"820px\"\n",
       "    height=\"620\"\n",
       "    src=\"iframe_figures/figure_118.html\"\n",
       "    frameborder=\"0\"\n",
       "    allowfullscreen\n",
       "></iframe>\n"
      ]
     },
     "metadata": {},
     "output_type": "display_data"
    }
   ],
   "source": [
    "px.scatter(agg_df.loc[agg_df['product_category_name']=='garden_tools'], x='unit_price', y='qty', \\\n",
    "           trendline='lowess', width=800, height=600, title='Price vs Quantity Sold for garden Tools')"
   ]
  },
  {
   "cell_type": "code",
   "execution_count": 122,
   "id": "3b57fec4-f42f-435a-a805-a192d3b18b64",
   "metadata": {},
   "outputs": [],
   "source": [
    "# defining a function to create and find price elasticity using non-linear demand function\n",
    "def create_model_and_find_elasticity(df):\n",
    "\n",
    "    # creating an OLS model and fitting it on the data\n",
    "    x_value=np.log(df['unit_price'])\n",
    "    y_value=np.log(df['qty'])\n",
    "    X=add_constant(x_value)\n",
    "    model = sm.OLS(y_value,X).fit()\n",
    "    # getting the price elasticity\n",
    "    price_elasticity = model.params[1]\n",
    "    # printing the stats\n",
    "    print(f\"\\n\\nThe price elasticity of the model is {str(price_elasticity)}\\n\\n\")\n",
    "    print(model.summary())\n",
    "    # plotting\n",
    "    fig = plt.figure(figsize=(10,5))\n",
    "    fig = sm.graphics.plot_partregress_grid(model,fig=fig)\n",
    "    plt.show()\n",
    "\n",
    "    return price_elasticity,model"
   ]
  },
  {
   "cell_type": "code",
   "execution_count": 194,
   "id": "b8e26929-24b2-40fc-8914-3c9125117a2a",
   "metadata": {},
   "outputs": [
    {
     "data": {
      "text/plain": [
       "8163.269159351996"
      ]
     },
     "execution_count": 194,
     "metadata": {},
     "output_type": "execute_result"
    }
   ],
   "source": [
    "math.exp(9.0074)"
   ]
  },
  {
   "cell_type": "code",
   "execution_count": 124,
   "id": "943e1249-a9fd-4df1-af70-96aa5351277b",
   "metadata": {},
   "outputs": [
    {
     "name": "stdout",
     "output_type": "stream",
     "text": [
      "\n",
      "\n",
      "The price elasticity of the model is -1.4625418704743813\n",
      "\n",
      "\n",
      "                            OLS Regression Results                            \n",
      "==============================================================================\n",
      "Dep. Variable:                    qty   R-squared:                       0.263\n",
      "Model:                            OLS   Adj. R-squared:                  0.255\n",
      "Method:                 Least Squares   F-statistic:                     32.41\n",
      "Date:                Tue, 22 Oct 2024   Prob (F-statistic):           1.51e-07\n",
      "Time:                        16:17:34   Log-Likelihood:                -137.04\n",
      "No. Observations:                  93   AIC:                             278.1\n",
      "Df Residuals:                      91   BIC:                             283.2\n",
      "Df Model:                           1                                         \n",
      "Covariance Type:            nonrobust                                         \n",
      "==============================================================================\n",
      "                 coef    std err          t      P>|t|      [0.025      0.975]\n",
      "------------------------------------------------------------------------------\n",
      "const          9.0074      1.144      7.876      0.000       6.736      11.279\n",
      "unit_price    -1.4625      0.257     -5.693      0.000      -1.973      -0.952\n",
      "==============================================================================\n",
      "Omnibus:                        3.139   Durbin-Watson:                   2.111\n",
      "Prob(Omnibus):                  0.208   Jarque-Bera (JB):                2.952\n",
      "Skew:                          -0.435   Prob(JB):                        0.229\n",
      "Kurtosis:                       2.919   Cond. No.                         48.3\n",
      "==============================================================================\n",
      "\n",
      "Notes:\n",
      "[1] Standard Errors assume that the covariance matrix of the errors is correctly specified.\n"
     ]
    },
    {
     "name": "stderr",
     "output_type": "stream",
     "text": [
      "/var/folders/6w/xl0fj63d2814l77lzh6r8_6w0000gn/T/ipykernel_1353/1126812756.py:10: FutureWarning:\n",
      "\n",
      "Series.__getitem__ treating keys as positions is deprecated. In a future version, integer keys will always be treated as labels (consistent with DataFrame behavior). To access a value by position, use `ser.iloc[pos]`\n",
      "\n"
     ]
    },
    {
     "data": {
      "image/png": "[encoded data removed]",
      "text/plain": [
       "<Figure size 1000x500 with 2 Axes>"
      ]
     },
     "metadata": {},
     "output_type": "display_data"
    },
    {
     "data": {
      "text/plain": [
       "(-1.4625418704743813,\n",
       " <statsmodels.regression.linear_model.RegressionResultsWrapper at 0x301b1ea50>)"
      ]
     },
     "execution_count": 124,
     "metadata": {},
     "output_type": "execute_result"
    }
   ],
   "source": [
    "create_model_and_find_elasticity(agg_df.loc[agg_df['product_category_name']=='garden_tools'])\n",
    "##The equation for garden tools qty calculation is 8163 * price ** (-1.4625)\n",
    "## The R-squared is only 0.263 which means it doesn't explain the variablity of the data well \n",
    "#and as the graph shows the model doesn't capture the 'outliers' deviates from the main trend so the OLS model is not a good fit for our user case"
   ]
  },
  {
   "cell_type": "code",
   "execution_count": null,
   "id": "bf3d2426-8119-4918-b174-9ff116919c60",
   "metadata": {},
   "outputs": [],
   "source": [
    "# df_encoded=agg_df.copy()\n",
    "\n",
    "# df_encoded=pd.get_dummies(df_encoded,columns=['product_category_name'],drop_first=False) ## drop_first= False to intentionally to keep all the records\n",
    "\n",
    "# colnames_product=df_encoded.columns[df_encoded.columns.str.startswith('product')].tolist()\n",
    "\n",
    "# df_encoded[colnames_product]=df_encoded[colnames_product].astype(int)\n",
    "\n",
    "# X=df_encoded[['unit_price']+colnames_product]\n",
    "# X=sm.add_constant(X)\n",
    "# y=df_encoded['qty']\n",
    "# model=sm.OLS(y,X).fit()\n",
    "# model.summary()\n",
    "# pd.DataFrame(model.params).T"
   ]
  },
  {
   "cell_type": "code",
   "execution_count": null,
   "id": "7761e9da-162e-424d-88c4-a6500c83ad64",
   "metadata": {},
   "outputs": [],
   "source": [
    "all_gam_results=[]\n",
    "\n",
    "for p in unique_products:\n",
    "    product_data=agg_df.loc[agg_df['product_category_name']==p]\n",
    "    X=product_data['unit_price']\n",
    "    y=product_data['qty']\n",
    "    quantiles=[0.025,0.5,0.975]\n",
    "    gam_result={}\n",
    "    for q in quantiles:\n",
    "        gam=ExpectileGAM(expectile=q)\n",
    "        gam.fit(X,y)\n",
    "        gam_result[f'pred_{q}']=gam.predict(X)\n",
    "    pred_gam=pd.DataFrame(gam_result).set_index(X.index)\n",
    "    pred_gam_df=pd.concat([agg_df[['product_category_name','unit_price','qty','total_price']],pred_gam],axis=1)\n",
    "    all_gam_results.append(pred_gam_df)\n",
    "\n",
    "all_gam_results=pd.concat(all_gam_results)   "
   ]
  },
  {
   "cell_type": "code",
   "execution_count": 420,
   "id": "11351646-1cf0-480e-9da6-c50481f58dd3",
   "metadata": {},
   "outputs": [],
   "source": [
    "product_lists=all_gam_results['product_category_name'].unique().tolist()"
   ]
  },
  {
   "cell_type": "code",
   "execution_count": 422,
   "id": "7fd78810-bb3c-4a9a-bb34-d386b3bc63f3",
   "metadata": {
    "scrolled": true
   },
   "outputs": [
    {
     "data": {
      "text/html": [
       "<iframe\n",
       "    scrolling=\"no\"\n",
       "    width=\"100%\"\n",
       "    height=\"545px\"\n",
       "    src=\"iframe_figures/figure_422.html\"\n",
       "    frameborder=\"0\"\n",
       "    allowfullscreen\n",
       "></iframe>\n"
      ]
     },
     "metadata": {},
     "output_type": "display_data"
    },
    {
     "data": {
      "text/html": [
       "<iframe\n",
       "    scrolling=\"no\"\n",
       "    width=\"100%\"\n",
       "    height=\"545px\"\n",
       "    src=\"iframe_figures/figure_422.html\"\n",
       "    frameborder=\"0\"\n",
       "    allowfullscreen\n",
       "></iframe>\n"
      ]
     },
     "metadata": {},
     "output_type": "display_data"
    },
    {
     "data": {
      "text/html": [
       "<iframe\n",
       "    scrolling=\"no\"\n",
       "    width=\"100%\"\n",
       "    height=\"545px\"\n",
       "    src=\"iframe_figures/figure_422.html\"\n",
       "    frameborder=\"0\"\n",
       "    allowfullscreen\n",
       "></iframe>\n"
      ]
     },
     "metadata": {},
     "output_type": "display_data"
    },
    {
     "data": {
      "text/html": [
       "<iframe\n",
       "    scrolling=\"no\"\n",
       "    width=\"100%\"\n",
       "    height=\"545px\"\n",
       "    src=\"iframe_figures/figure_422.html\"\n",
       "    frameborder=\"0\"\n",
       "    allowfullscreen\n",
       "></iframe>\n"
      ]
     },
     "metadata": {},
     "output_type": "display_data"
    },
    {
     "data": {
      "text/html": [
       "<iframe\n",
       "    scrolling=\"no\"\n",
       "    width=\"100%\"\n",
       "    height=\"545px\"\n",
       "    src=\"iframe_figures/figure_422.html\"\n",
       "    frameborder=\"0\"\n",
       "    allowfullscreen\n",
       "></iframe>\n"
      ]
     },
     "metadata": {},
     "output_type": "display_data"
    },
    {
     "data": {
      "text/html": [
       "<iframe\n",
       "    scrolling=\"no\"\n",
       "    width=\"100%\"\n",
       "    height=\"545px\"\n",
       "    src=\"iframe_figures/figure_422.html\"\n",
       "    frameborder=\"0\"\n",
       "    allowfullscreen\n",
       "></iframe>\n"
      ]
     },
     "metadata": {},
     "output_type": "display_data"
    },
    {
     "data": {
      "text/html": [
       "<iframe\n",
       "    scrolling=\"no\"\n",
       "    width=\"100%\"\n",
       "    height=\"545px\"\n",
       "    src=\"iframe_figures/figure_422.html\"\n",
       "    frameborder=\"0\"\n",
       "    allowfullscreen\n",
       "></iframe>\n"
      ]
     },
     "metadata": {},
     "output_type": "display_data"
    },
    {
     "data": {
      "text/html": [
       "<iframe\n",
       "    scrolling=\"no\"\n",
       "    width=\"100%\"\n",
       "    height=\"545px\"\n",
       "    src=\"iframe_figures/figure_422.html\"\n",
       "    frameborder=\"0\"\n",
       "    allowfullscreen\n",
       "></iframe>\n"
      ]
     },
     "metadata": {},
     "output_type": "display_data"
    },
    {
     "data": {
      "text/html": [
       "<iframe\n",
       "    scrolling=\"no\"\n",
       "    width=\"100%\"\n",
       "    height=\"545px\"\n",
       "    src=\"iframe_figures/figure_422.html\"\n",
       "    frameborder=\"0\"\n",
       "    allowfullscreen\n",
       "></iframe>\n"
      ]
     },
     "metadata": {},
     "output_type": "display_data"
    }
   ],
   "source": [
    "for p in product_lists:\n",
    "    plot_gam_one_product_using_lowess(all_gam_results,p)"
   ]
  },
  {
   "cell_type": "code",
   "execution_count": 368,
   "id": "1c26a68a-bcc9-4fe4-9756-f9b07cdb2bfc",
   "metadata": {},
   "outputs": [
    {
     "data": {
      "text/html": [
       "<div>\n",
       "<style scoped>\n",
       "    .dataframe tbody tr th:only-of-type {\n",
       "        vertical-align: middle;\n",
       "    }\n",
       "\n",
       "    .dataframe tbody tr th {\n",
       "        vertical-align: top;\n",
       "    }\n",
       "\n",
       "    .dataframe thead th {\n",
       "        text-align: right;\n",
       "    }\n",
       "</style>\n",
       "<table border=\"1\" class=\"dataframe\">\n",
       "  <thead>\n",
       "    <tr style=\"text-align: right;\">\n",
       "      <th></th>\n",
       "      <th>product_category_name</th>\n",
       "      <th>unit_price</th>\n",
       "      <th>qty</th>\n",
       "      <th>total_price</th>\n",
       "      <th>pred_0.025</th>\n",
       "      <th>pred_0.5</th>\n",
       "      <th>pred_0.975</th>\n",
       "      <th>revenue_pred_0.025</th>\n",
       "      <th>revenue_pred_0.5</th>\n",
       "      <th>revenue_pred_0.975</th>\n",
       "    </tr>\n",
       "  </thead>\n",
       "  <tbody>\n",
       "    <tr>\n",
       "      <th>0</th>\n",
       "      <td>bed_bath_table</td>\n",
       "      <td>39.99</td>\n",
       "      <td>19</td>\n",
       "      <td>759.81</td>\n",
       "      <td>4.704761</td>\n",
       "      <td>12.466285</td>\n",
       "      <td>23.205160</td>\n",
       "      <td>89.390465</td>\n",
       "      <td>236.859415</td>\n",
       "      <td>440.898040</td>\n",
       "    </tr>\n",
       "    <tr>\n",
       "      <th>1</th>\n",
       "      <td>bed_bath_table</td>\n",
       "      <td>45.90</td>\n",
       "      <td>19</td>\n",
       "      <td>872.10</td>\n",
       "      <td>3.166853</td>\n",
       "      <td>9.604346</td>\n",
       "      <td>25.820797</td>\n",
       "      <td>60.170213</td>\n",
       "      <td>182.482572</td>\n",
       "      <td>490.595140</td>\n",
       "    </tr>\n",
       "    <tr>\n",
       "      <th>2</th>\n",
       "      <td>bed_bath_table</td>\n",
       "      <td>86.90</td>\n",
       "      <td>17</td>\n",
       "      <td>1477.30</td>\n",
       "      <td>4.953246</td>\n",
       "      <td>20.339733</td>\n",
       "      <td>47.476861</td>\n",
       "      <td>84.205190</td>\n",
       "      <td>345.775467</td>\n",
       "      <td>807.106639</td>\n",
       "    </tr>\n",
       "    <tr>\n",
       "      <th>3</th>\n",
       "      <td>bed_bath_table</td>\n",
       "      <td>98.30</td>\n",
       "      <td>11</td>\n",
       "      <td>1082.00</td>\n",
       "      <td>7.819541</td>\n",
       "      <td>19.692067</td>\n",
       "      <td>51.681987</td>\n",
       "      <td>86.014953</td>\n",
       "      <td>216.612733</td>\n",
       "      <td>568.501858</td>\n",
       "    </tr>\n",
       "    <tr>\n",
       "      <th>4</th>\n",
       "      <td>bed_bath_table</td>\n",
       "      <td>89.90</td>\n",
       "      <td>2</td>\n",
       "      <td>179.80</td>\n",
       "      <td>5.632293</td>\n",
       "      <td>21.130235</td>\n",
       "      <td>48.979307</td>\n",
       "      <td>11.264586</td>\n",
       "      <td>42.260469</td>\n",
       "      <td>97.958614</td>\n",
       "    </tr>\n",
       "  </tbody>\n",
       "</table>\n",
       "</div>"
      ],
      "text/plain": [
       "  product_category_name  unit_price  qty  total_price  pred_0.025   pred_0.5  \\\n",
       "0        bed_bath_table       39.99   19       759.81    4.704761  12.466285   \n",
       "1        bed_bath_table       45.90   19       872.10    3.166853   9.604346   \n",
       "2        bed_bath_table       86.90   17      1477.30    4.953246  20.339733   \n",
       "3        bed_bath_table       98.30   11      1082.00    7.819541  19.692067   \n",
       "4        bed_bath_table       89.90    2       179.80    5.632293  21.130235   \n",
       "\n",
       "   pred_0.975  revenue_pred_0.025  revenue_pred_0.5  revenue_pred_0.975  \n",
       "0   23.205160           89.390465        236.859415          440.898040  \n",
       "1   25.820797           60.170213        182.482572          490.595140  \n",
       "2   47.476861           84.205190        345.775467          807.106639  \n",
       "3   51.681987           86.014953        216.612733          568.501858  \n",
       "4   48.979307           11.264586         42.260469           97.958614  "
      ]
     },
     "execution_count": 368,
     "metadata": {},
     "output_type": "execute_result"
    }
   ],
   "source": [
    "all_gam_results.head()"
   ]
  },
  {
   "cell_type": "code",
   "execution_count": 366,
   "id": "438a44b4-37a6-49ab-93e0-bff4ea2441ad",
   "metadata": {},
   "outputs": [],
   "source": [
    "for col in all_gam_results.columns.tolist():\n",
    "    if col.startswith('pred'):\n",
    "        all_gam_results['revenue_'+col]=all_gam_results[col]*all_gam_results['qty']"
   ]
  },
  {
   "cell_type": "code",
   "execution_count": 402,
   "id": "87cd12e2-ea8b-4eaa-a4d8-db151bc51e85",
   "metadata": {},
   "outputs": [],
   "source": [
    "# all_gam_results.groupby(['product_category_name'],as_index=False).apply(lambda x: x[x['revenue_pred_0.025']==x['revenue_pred_0.025']\\\n",
    "#                 .max()])"
   ]
  },
  {
   "cell_type": "code",
   "execution_count": 428,
   "id": "340583dc-5de3-49c9-b87e-03ac9ce146e7",
   "metadata": {},
   "outputs": [
    {
     "data": {
      "text/html": [
       "<iframe\n",
       "    scrolling=\"no\"\n",
       "    width=\"100%\"\n",
       "    height=\"545px\"\n",
       "    src=\"iframe_figures/figure_428.html\"\n",
       "    frameborder=\"0\"\n",
       "    allowfullscreen\n",
       "></iframe>\n"
      ]
     },
     "metadata": {},
     "output_type": "display_data"
    },
    {
     "data": {
      "text/html": [
       "<iframe\n",
       "    scrolling=\"no\"\n",
       "    width=\"100%\"\n",
       "    height=\"545px\"\n",
       "    src=\"iframe_figures/figure_428.html\"\n",
       "    frameborder=\"0\"\n",
       "    allowfullscreen\n",
       "></iframe>\n"
      ]
     },
     "metadata": {},
     "output_type": "display_data"
    },
    {
     "data": {
      "text/html": [
       "<iframe\n",
       "    scrolling=\"no\"\n",
       "    width=\"100%\"\n",
       "    height=\"545px\"\n",
       "    src=\"iframe_figures/figure_428.html\"\n",
       "    frameborder=\"0\"\n",
       "    allowfullscreen\n",
       "></iframe>\n"
      ]
     },
     "metadata": {},
     "output_type": "display_data"
    },
    {
     "data": {
      "text/html": [
       "<iframe\n",
       "    scrolling=\"no\"\n",
       "    width=\"100%\"\n",
       "    height=\"545px\"\n",
       "    src=\"iframe_figures/figure_428.html\"\n",
       "    frameborder=\"0\"\n",
       "    allowfullscreen\n",
       "></iframe>\n"
      ]
     },
     "metadata": {},
     "output_type": "display_data"
    },
    {
     "data": {
      "text/html": [
       "<iframe\n",
       "    scrolling=\"no\"\n",
       "    width=\"100%\"\n",
       "    height=\"545px\"\n",
       "    src=\"iframe_figures/figure_428.html\"\n",
       "    frameborder=\"0\"\n",
       "    allowfullscreen\n",
       "></iframe>\n"
      ]
     },
     "metadata": {},
     "output_type": "display_data"
    },
    {
     "data": {
      "text/html": [
       "<iframe\n",
       "    scrolling=\"no\"\n",
       "    width=\"100%\"\n",
       "    height=\"545px\"\n",
       "    src=\"iframe_figures/figure_428.html\"\n",
       "    frameborder=\"0\"\n",
       "    allowfullscreen\n",
       "></iframe>\n"
      ]
     },
     "metadata": {},
     "output_type": "display_data"
    },
    {
     "data": {
      "text/html": [
       "<iframe\n",
       "    scrolling=\"no\"\n",
       "    width=\"100%\"\n",
       "    height=\"545px\"\n",
       "    src=\"iframe_figures/figure_428.html\"\n",
       "    frameborder=\"0\"\n",
       "    allowfullscreen\n",
       "></iframe>\n"
      ]
     },
     "metadata": {},
     "output_type": "display_data"
    },
    {
     "data": {
      "text/html": [
       "<iframe\n",
       "    scrolling=\"no\"\n",
       "    width=\"100%\"\n",
       "    height=\"545px\"\n",
       "    src=\"iframe_figures/figure_428.html\"\n",
       "    frameborder=\"0\"\n",
       "    allowfullscreen\n",
       "></iframe>\n"
      ]
     },
     "metadata": {},
     "output_type": "display_data"
    },
    {
     "data": {
      "text/html": [
       "<iframe\n",
       "    scrolling=\"no\"\n",
       "    width=\"100%\"\n",
       "    height=\"545px\"\n",
       "    src=\"iframe_figures/figure_428.html\"\n",
       "    frameborder=\"0\"\n",
       "    allowfullscreen\n",
       "></iframe>\n"
      ]
     },
     "metadata": {},
     "output_type": "display_data"
    }
   ],
   "source": [
    "for p in product_lists:\n",
    "    plot_revenue_gam_one_product_using_lowess(all_gam_results,p)"
   ]
  },
  {
   "cell_type": "markdown",
   "id": "249489e2-62b8-46e4-855f-d7837f4ee23b",
   "metadata": {},
   "source": [
    "### Train test split Gam model "
   ]
  },
  {
   "cell_type": "code",
   "execution_count": 433,
   "id": "365fdddb-380d-4712-897a-92d85b3f6a4e",
   "metadata": {},
   "outputs": [
    {
     "data": {
      "text/html": [
       "<div>\n",
       "<style scoped>\n",
       "    .dataframe tbody tr th:only-of-type {\n",
       "        vertical-align: middle;\n",
       "    }\n",
       "\n",
       "    .dataframe tbody tr th {\n",
       "        vertical-align: top;\n",
       "    }\n",
       "\n",
       "    .dataframe thead th {\n",
       "        text-align: right;\n",
       "    }\n",
       "</style>\n",
       "<table border=\"1\" class=\"dataframe\">\n",
       "  <thead>\n",
       "    <tr style=\"text-align: right;\">\n",
       "      <th></th>\n",
       "      <th>product_category_name</th>\n",
       "      <th>month_year</th>\n",
       "      <th>unit_price</th>\n",
       "      <th>holiday</th>\n",
       "      <th>year</th>\n",
       "      <th>qty</th>\n",
       "      <th>total_price</th>\n",
       "      <th>if_holiday</th>\n",
       "    </tr>\n",
       "  </thead>\n",
       "  <tbody>\n",
       "    <tr>\n",
       "      <th>0</th>\n",
       "      <td>bed_bath_table</td>\n",
       "      <td>01-01-2018</td>\n",
       "      <td>39.99</td>\n",
       "      <td>2</td>\n",
       "      <td>2018</td>\n",
       "      <td>19</td>\n",
       "      <td>759.81</td>\n",
       "      <td>1</td>\n",
       "    </tr>\n",
       "    <tr>\n",
       "      <th>1</th>\n",
       "      <td>bed_bath_table</td>\n",
       "      <td>01-01-2018</td>\n",
       "      <td>45.90</td>\n",
       "      <td>2</td>\n",
       "      <td>2018</td>\n",
       "      <td>19</td>\n",
       "      <td>872.10</td>\n",
       "      <td>1</td>\n",
       "    </tr>\n",
       "    <tr>\n",
       "      <th>2</th>\n",
       "      <td>bed_bath_table</td>\n",
       "      <td>01-01-2018</td>\n",
       "      <td>86.90</td>\n",
       "      <td>2</td>\n",
       "      <td>2018</td>\n",
       "      <td>17</td>\n",
       "      <td>1477.30</td>\n",
       "      <td>1</td>\n",
       "    </tr>\n",
       "    <tr>\n",
       "      <th>3</th>\n",
       "      <td>bed_bath_table</td>\n",
       "      <td>01-01-2018</td>\n",
       "      <td>98.30</td>\n",
       "      <td>2</td>\n",
       "      <td>2018</td>\n",
       "      <td>11</td>\n",
       "      <td>1082.00</td>\n",
       "      <td>1</td>\n",
       "    </tr>\n",
       "    <tr>\n",
       "      <th>4</th>\n",
       "      <td>bed_bath_table</td>\n",
       "      <td>01-02-2017</td>\n",
       "      <td>89.90</td>\n",
       "      <td>2</td>\n",
       "      <td>2017</td>\n",
       "      <td>2</td>\n",
       "      <td>179.80</td>\n",
       "      <td>1</td>\n",
       "    </tr>\n",
       "  </tbody>\n",
       "</table>\n",
       "</div>"
      ],
      "text/plain": [
       "  product_category_name  month_year  unit_price  holiday  year  qty  \\\n",
       "0        bed_bath_table  01-01-2018       39.99        2  2018   19   \n",
       "1        bed_bath_table  01-01-2018       45.90        2  2018   19   \n",
       "2        bed_bath_table  01-01-2018       86.90        2  2018   17   \n",
       "3        bed_bath_table  01-01-2018       98.30        2  2018   11   \n",
       "4        bed_bath_table  01-02-2017       89.90        2  2017    2   \n",
       "\n",
       "   total_price if_holiday  \n",
       "0       759.81          1  \n",
       "1       872.10          1  \n",
       "2      1477.30          1  \n",
       "3      1082.00          1  \n",
       "4       179.80          1  "
      ]
     },
     "execution_count": 433,
     "metadata": {},
     "output_type": "execute_result"
    }
   ],
   "source": [
    "agg_df.head()"
   ]
  },
  {
   "cell_type": "code",
   "execution_count": 469,
   "id": "87215159-67b5-4366-b404-62330eb66bfb",
   "metadata": {},
   "outputs": [],
   "source": [
    "product_encoder = LabelEncoder()\n",
    "holiday_encoder = LabelEncoder()\n",
    "\n",
    "# Fit the label encoders to the categories\n",
    "agg_df['encoded_product_category_name'] = product_encoder.fit_transform(agg_df['product_category_name'])\n",
    "agg_df['encoded_holiday'] = holiday_encoder.fit_transform(agg_df['if_holiday'])\n",
    "\n",
    "data=agg_df.loc[agg_df['product_category_name']=='garden_tools']\n",
    "X = data[['unit_price', 'encoded_holiday']].copy()\n",
    "y = data[['qty']].copy()"
   ]
  },
  {
   "cell_type": "code",
   "execution_count": 477,
   "id": "48b6a711-7bbe-440e-9355-4e31b09e29a2",
   "metadata": {},
   "outputs": [],
   "source": [
    "# split X and y into training and testing sets\n",
    "X_train, X_test, y_train, y_test = train_test_split(X, y, test_size=0.2, random_state=0)\n",
    "\n",
    "gams = []\n",
    "model_train_performance = []\n",
    "model_test_performance = []\n",
    "df_gam_results = pd.DataFrame()\n",
    "quantiles = [0.025, 0.5, 0.975]\n",
    "for q in quantiles:\n",
    "    # fit the model on the training data\n",
    "    gam = ExpectileGAM(expectile=q).fit(X_train, y_train)   \n",
    "    gams.append({\"q\": q, \"gam_model\": gam})\n",
    "    # predict on the test data\n",
    "    y_train_pred = gam.predict(X_train)\n",
    "    y_test_pred = gam.predict(X_test)\n",
    "    y_pred = gam.predict(X)\n",
    "    # calculate the performance of the model on the test data\n",
    "    train_mse = mean_squared_error(y_train, y_train_pred)\n",
    "    test_mse = mean_squared_error(y_test, y_test_pred)\n",
    "    # calculate R-squared\n",
    "    train_r2 = r2_score(y_train, y_train_pred)\n",
    "    test_r2 = r2_score(y_test, y_test_pred) \n",
    "    model_train_performance.append({\"q\": q, \"mse\": train_mse, \"r2\": train_r2})\n",
    "    model_test_performance.append({\"q\": q, \"mse\": test_mse, \"r2\": test_r2})\n",
    "    df_gam_results[f\"pred_quant_{q}\"] = y_pred"
   ]
  },
  {
   "cell_type": "code",
   "execution_count": 473,
   "id": "a1243b58-4559-40be-9e1f-02a10384dcf8",
   "metadata": {},
   "outputs": [
    {
     "data": {
      "text/plain": [
       "[{'q': 0.025, 'mse': 1535.4132267626019, 'r2': -0.21873506803946774},\n",
       " {'q': 0.5, 'mse': 826.837065956423, 'r2': 0.34369763769674755},\n",
       " {'q': 0.975, 'mse': 2932.245017588763, 'r2': -1.3274710473573172}]"
      ]
     },
     "execution_count": 473,
     "metadata": {},
     "output_type": "execute_result"
    }
   ],
   "source": [
    "model_train_performance"
   ]
  },
  {
   "cell_type": "code",
   "execution_count": 475,
   "id": "7d1056fc-4bf7-4b23-a992-1811cf0cf7b4",
   "metadata": {},
   "outputs": [
    {
     "data": {
      "text/plain": [
       "[{'q': 0.025, 'mse': 736.8650385639352, 'r2': -0.16165893236202722},\n",
       " {'q': 0.5, 'mse': 415.502193034143, 'r2': 0.34496575533723906},\n",
       " {'q': 0.975, 'mse': 1943.0074577654202, 'r2': -2.063128050366028}]"
      ]
     },
     "execution_count": 475,
     "metadata": {},
     "output_type": "execute_result"
    }
   ],
   "source": [
    "model_test_performance"
   ]
  },
  {
   "cell_type": "code",
   "execution_count": null,
   "id": "710c70d6-01db-4c0e-8b9e-a57d2458b72f",
   "metadata": {},
   "outputs": [],
   "source": []
  },
  {
   "cell_type": "code",
   "execution_count": null,
   "id": "803daf69-10bd-4042-9043-8a307cd22dc2",
   "metadata": {},
   "outputs": [],
   "source": []
  },
  {
   "cell_type": "code",
   "execution_count": null,
   "id": "d1f1e869-cd46-4883-87a3-01ec88bccc0d",
   "metadata": {},
   "outputs": [],
   "source": []
  },
  {
   "cell_type": "code",
   "execution_count": null,
   "id": "ebc9260d-a401-48a5-a3f5-439b5b107d67",
   "metadata": {},
   "outputs": [],
   "source": []
  },
  {
   "cell_type": "code",
   "execution_count": null,
   "id": "28a0cec2-e672-4a43-8181-dd708318a1db",
   "metadata": {},
   "outputs": [],
   "source": []
  },
  {
   "cell_type": "code",
   "execution_count": null,
   "id": "36fd9c76-bcf9-413c-ad31-f46d18f7e255",
   "metadata": {},
   "outputs": [],
   "source": []
  },
  {
   "cell_type": "code",
   "execution_count": null,
   "id": "a521b7bf-c22a-4769-bcc1-a680cc2d9645",
   "metadata": {},
   "outputs": [],
   "source": []
  },
  {
   "cell_type": "code",
   "execution_count": null,
   "id": "034ad946-9463-40ae-a57a-0dad2eb95c19",
   "metadata": {},
   "outputs": [],
   "source": []
  },
  {
   "cell_type": "code",
   "execution_count": null,
   "id": "107e984d-f9a9-4b4f-b35b-8802473c9c14",
   "metadata": {},
   "outputs": [],
   "source": []
  },
  {
   "cell_type": "code",
   "execution_count": null,
   "id": "63efda91-d826-443d-971e-ca083d691a4c",
   "metadata": {},
   "outputs": [],
   "source": []
  },
  {
   "cell_type": "code",
   "execution_count": null,
   "id": "e5d00960-2bb0-4caf-b2b3-b69cbb57968f",
   "metadata": {},
   "outputs": [],
   "source": []
  },
  {
   "cell_type": "code",
   "execution_count": null,
   "id": "55d9a5a4-b9ea-437a-85e4-e6e88450e230",
   "metadata": {},
   "outputs": [],
   "source": []
  },
  {
   "cell_type": "code",
   "execution_count": null,
   "id": "c36635e5-1f54-4413-88bb-c7f64069667a",
   "metadata": {},
   "outputs": [],
   "source": []
  },
  {
   "cell_type": "code",
   "execution_count": null,
   "id": "4768e086-9fbb-4280-b60a-4ff11c1fcad2",
   "metadata": {},
   "outputs": [],
   "source": []
  },
  {
   "cell_type": "code",
   "execution_count": null,
   "id": "2a73e503-dc20-4689-9afc-cd09dfe7c6b2",
   "metadata": {},
   "outputs": [],
   "source": []
  },
  {
   "cell_type": "code",
   "execution_count": null,
   "id": "1588ea14-9632-4f41-a981-fd0a9dff160e",
   "metadata": {},
   "outputs": [],
   "source": []
  },
  {
   "cell_type": "code",
   "execution_count": null,
   "id": "afd0ba55-9318-4475-a318-2377281cbb7d",
   "metadata": {},
   "outputs": [],
   "source": []
  },
  {
   "cell_type": "code",
   "execution_count": null,
   "id": "b263ebc0-c2b5-4ddb-ba50-e203ef77745a",
   "metadata": {},
   "outputs": [],
   "source": []
  },
  {
   "cell_type": "code",
   "execution_count": null,
   "id": "a21d7555-813f-4718-854c-45a7ff85cb30",
   "metadata": {},
   "outputs": [],
   "source": []
  },
  {
   "cell_type": "code",
   "execution_count": null,
   "id": "0beb07b8-b84c-4a12-8514-cf4d73f3a8b2",
   "metadata": {},
   "outputs": [],
   "source": []
  },
  {
   "cell_type": "code",
   "execution_count": null,
   "id": "7eb620cf-4e96-4b92-abb6-b133715aa4eb",
   "metadata": {},
   "outputs": [],
   "source": []
  },
  {
   "cell_type": "code",
   "execution_count": null,
   "id": "9d719429-72fa-4d2e-8a15-7dced1d62569",
   "metadata": {},
   "outputs": [],
   "source": []
  },
  {
   "cell_type": "code",
   "execution_count": null,
   "id": "a629d695-0481-402c-b0ae-7f1bc9f9bfdd",
   "metadata": {},
   "outputs": [],
   "source": []
  },
  {
   "cell_type": "code",
   "execution_count": null,
   "id": "403c5a49-f0d6-4958-9b45-4be68cbffe0e",
   "metadata": {},
   "outputs": [],
   "source": []
  },
  {
   "cell_type": "code",
   "execution_count": null,
   "id": "a4e649a2-d45d-4359-a31f-a83441d3633d",
   "metadata": {},
   "outputs": [],
   "source": []
  },
  {
   "cell_type": "code",
   "execution_count": null,
   "id": "1feae092-1cae-44ce-8574-73aa164a0eff",
   "metadata": {},
   "outputs": [],
   "source": []
  },
  {
   "cell_type": "code",
   "execution_count": null,
   "id": "5a52b041-203a-4f92-9762-72cb4a869b79",
   "metadata": {},
   "outputs": [],
   "source": []
  }
 ],
 "metadata": {
  "kernelspec": {
   "display_name": "Python 3 (ipykernel)",
   "language": "python",
   "name": "python3"
  },
  "language_info": {
   "codemirror_mode": {
    "name": "ipython",
    "version": 3
   },
   "file_extension": ".py",
   "mimetype": "text/x-python",
   "name": "python",
   "nbconvert_exporter": "python",
   "pygments_lexer": "ipython3",
   "version": "3.12.4"
  }
 },
 "nbformat": 4,
 "nbformat_minor": 5
}
