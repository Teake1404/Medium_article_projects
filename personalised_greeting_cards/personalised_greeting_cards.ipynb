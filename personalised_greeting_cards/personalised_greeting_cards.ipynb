{
 "cells": [
  {
   "cell_type": "code",
   "execution_count": 13,
   "id": "3571525f-43ac-48f3-8b92-fdf51705b3b1",
   "metadata": {},
   "outputs": [],
   "source": [
    "import os\n",
    "import pandas as pd\n",
    "import numpy as np\n",
    "import torch\n",
    "import torch.nn as nn\n",
    "import torch.optim as optim\n",
    "from torchvision import models, transforms\n",
    "from PIL import Image,ExifTags\n",
    "import plotly.express as go\n",
    "from data import *\n"
   ]
  },
  {
   "cell_type": "code",
   "execution_count": 45,
   "id": "71cbb0c0-479b-4805-82b7-6d52867f196e",
   "metadata": {},
   "outputs": [],
   "source": [
    "image_name=[f for f in os.listdir(os.getcwd()) if f.endswith('jpeg')][1]\n",
    "image_path=os.path.join(os.getcwd(),image_name)"
   ]
  },
  {
   "cell_type": "code",
   "execution_count": null,
   "id": "dde2f1ba-bde6-4f61-8b9e-2ef333244530",
   "metadata": {},
   "outputs": [],
   "source": [
    "content_image=load_image(image_path)"
   ]
  },
  {
   "cell_type": "code",
   "execution_count": 86,
   "id": "d5ab5c22-432c-468a-bfc1-c63cc3014c47",
   "metadata": {},
   "outputs": [],
   "source": [
    "output_path = \"output_image.jpg\""
   ]
  },
  {
   "cell_type": "code",
   "execution_count": null,
   "id": "cff6fb65-018c-4b63-a92a-2c6dce5e116c",
   "metadata": {},
   "outputs": [],
   "source": []
  },
  {
   "cell_type": "code",
   "execution_count": 88,
   "id": "2222960f-3ab8-4b9c-80d6-7dd9d438094b",
   "metadata": {},
   "outputs": [
    {
     "name": "stdout",
     "output_type": "stream",
     "text": [
      "Image saved to output_image.jpg\n"
     ]
    }
   ],
   "source": [
    "save_image(input_image,output_path)"
   ]
  },
  {
   "cell_type": "code",
   "execution_count": null,
   "id": "4a5cab8f-be9e-4f15-a9f8-b54d8e1db145",
   "metadata": {},
   "outputs": [],
   "source": [
    "load_image()"
   ]
  },
  {
   "cell_type": "code",
   "execution_count": 178,
   "id": "4453301f-91bf-48d4-8a16-13c2bf3672a2",
   "metadata": {},
   "outputs": [
    {
     "data": {
      "text/plain": [
       "['output_image.jpg',\n",
       " 'personalised_greeting_cards.ipynb',\n",
       " '__pycache__',\n",
       " 'IMG_0744.jpeg',\n",
       " 'IMG_0769.jpeg',\n",
       " '.ipynb_checkpoints',\n",
       " 'data.py']"
      ]
     },
     "execution_count": 178,
     "metadata": {},
     "output_type": "execute_result"
    }
   ],
   "source": [
    "os.listdir(os.getcwd())"
   ]
  },
  {
   "cell_type": "code",
   "execution_count": 57,
   "id": "2f1c8e26-494f-47e4-8ec2-3761df6267f9",
   "metadata": {},
   "outputs": [
    {
     "ename": "NameError",
     "evalue": "name 'content_image' is not defined",
     "output_type": "error",
     "traceback": [
      "\u001b[0;31m---------------------------------------------------------------------------\u001b[0m",
      "\u001b[0;31mNameError\u001b[0m                                 Traceback (most recent call last)",
      "Cell \u001b[0;32mIn[57], line 1\u001b[0m\n\u001b[0;32m----> 1\u001b[0m style_image \u001b[38;5;241m=\u001b[39m load_image(\u001b[38;5;124m'\u001b[39m\u001b[38;5;124mIMG_0744.jpeg\u001b[39m\u001b[38;5;124m'\u001b[39m, shape\u001b[38;5;241m=\u001b[39mcontent_image\u001b[38;5;241m.\u001b[39mshape[\u001b[38;5;241m-\u001b[39m\u001b[38;5;241m2\u001b[39m:])\n\u001b[1;32m      3\u001b[0m \u001b[38;5;66;03m# Display the images\u001b[39;00m\n\u001b[1;32m      4\u001b[0m fig, (ax1, ax2) \u001b[38;5;241m=\u001b[39m plt\u001b[38;5;241m.\u001b[39msubplots(\u001b[38;5;241m1\u001b[39m, \u001b[38;5;241m2\u001b[39m, figsize\u001b[38;5;241m=\u001b[39m(\u001b[38;5;241m12\u001b[39m, \u001b[38;5;241m6\u001b[39m))\n",
      "\u001b[0;31mNameError\u001b[0m: name 'content_image' is not defined"
     ]
    }
   ],
   "source": [
    "style_image = load_image('IMG_0744.jpeg', shape=content_image.shape[-2:])\n",
    "\n",
    "# Display the images\n",
    "fig, (ax1, ax2) = plt.subplots(1, 2, figsize=(12, 6))\n",
    "ax1.imshow(im_convert(content_image))\n",
    "ax1.set_title(\"Content Image\")\n",
    "ax2.imshow(im_convert(style_image))\n",
    "ax2.set_title(\"Style Image\")\n",
    "plt.show()\n"
   ]
  },
  {
   "cell_type": "code",
   "execution_count": 196,
   "id": "f2722614-4b0e-41a1-b6ea-754002b28809",
   "metadata": {},
   "outputs": [
    {
     "data": {
      "text/plain": [
       "tensor([[[[0.9216, 0.9216, 0.9176,  ..., 0.7529, 0.7490, 0.7490],\n",
       "          [0.9216, 0.9216, 0.9176,  ..., 0.7529, 0.7529, 0.7529],\n",
       "          [0.9216, 0.9216, 0.9176,  ..., 0.7608, 0.7608, 0.7608],\n",
       "          ...,\n",
       "          [0.8000, 0.8000, 0.8039,  ..., 0.6824, 0.6824, 0.6824],\n",
       "          [0.8039, 0.8039, 0.8039,  ..., 0.6824, 0.6824, 0.6824],\n",
       "          [0.8078, 0.8078, 0.8078,  ..., 0.6784, 0.6824, 0.6824]],\n",
       "\n",
       "         [[0.9059, 0.9059, 0.9020,  ..., 0.7255, 0.7216, 0.7216],\n",
       "          [0.9059, 0.9059, 0.9020,  ..., 0.7255, 0.7255, 0.7255],\n",
       "          [0.9059, 0.9059, 0.9020,  ..., 0.7333, 0.7333, 0.7333],\n",
       "          ...,\n",
       "          [0.7961, 0.7961, 0.8000,  ..., 0.6863, 0.6863, 0.6863],\n",
       "          [0.8000, 0.8000, 0.8000,  ..., 0.6863, 0.6863, 0.6863],\n",
       "          [0.8039, 0.8039, 0.8039,  ..., 0.6824, 0.6863, 0.6863]],\n",
       "\n",
       "         [[0.8706, 0.8706, 0.8667,  ..., 0.6863, 0.6824, 0.6824],\n",
       "          [0.8706, 0.8706, 0.8667,  ..., 0.6863, 0.6863, 0.6863],\n",
       "          [0.8706, 0.8706, 0.8667,  ..., 0.6941, 0.6941, 0.6941],\n",
       "          ...,\n",
       "          [0.7765, 0.7765, 0.7804,  ..., 0.6627, 0.6627, 0.6627],\n",
       "          [0.7804, 0.7804, 0.7804,  ..., 0.6627, 0.6627, 0.6627],\n",
       "          [0.7843, 0.7843, 0.7843,  ..., 0.6588, 0.6627, 0.6627]]]])"
      ]
     },
     "execution_count": 196,
     "metadata": {},
     "output_type": "execute_result"
    }
   ],
   "source": [
    "load_image('IMG_0744.jpeg', shape=content_image.shape[-2:])"
   ]
  },
  {
   "cell_type": "code",
   "execution_count": 190,
   "id": "d49e3d61-7fec-4ed5-bf6f-c78cfffae784",
   "metadata": {},
   "outputs": [
    {
     "data": {
      "text/plain": [
       "torch.Size([400, 300])"
      ]
     },
     "execution_count": 190,
     "metadata": {},
     "output_type": "execute_result"
    }
   ],
   "source": [
    "content_image.shape[-2:]"
   ]
  },
  {
   "cell_type": "code",
   "execution_count": null,
   "id": "ff7b902e-525f-4eb7-ad25-ddb18c043aec",
   "metadata": {},
   "outputs": [],
   "source": []
  },
  {
   "cell_type": "code",
   "execution_count": null,
   "id": "be2dc456-2b5b-4395-b022-e58722e3f5f4",
   "metadata": {},
   "outputs": [],
   "source": []
  },
  {
   "cell_type": "code",
   "execution_count": null,
   "id": "e496067b-d486-45d3-8e20-71ed220c1af8",
   "metadata": {},
   "outputs": [],
   "source": []
  },
  {
   "cell_type": "code",
   "execution_count": null,
   "id": "7f2e7d34-00a9-4507-b093-02808c08dd13",
   "metadata": {},
   "outputs": [],
   "source": []
  },
  {
   "cell_type": "code",
   "execution_count": null,
   "id": "548e7c34-ea80-436b-9f26-d46bb9d225fe",
   "metadata": {},
   "outputs": [],
   "source": []
  },
  {
   "cell_type": "code",
   "execution_count": null,
   "id": "ff2eae68-b88f-4ef1-8556-75ddb227b3b4",
   "metadata": {},
   "outputs": [],
   "source": []
  },
  {
   "cell_type": "code",
   "execution_count": null,
   "id": "f7f64be9-2777-4e64-ac20-1a92962610b0",
   "metadata": {},
   "outputs": [],
   "source": []
  },
  {
   "cell_type": "code",
   "execution_count": null,
   "id": "84cc9de7-eb72-44b6-87f4-390c93f5d6d9",
   "metadata": {},
   "outputs": [],
   "source": []
  },
  {
   "cell_type": "code",
   "execution_count": null,
   "id": "a3d6747b-1bc7-4273-8507-e61cca0de8ab",
   "metadata": {},
   "outputs": [],
   "source": []
  },
  {
   "cell_type": "code",
   "execution_count": null,
   "id": "b2d7a468-e77b-43cc-9d08-866aa5d37976",
   "metadata": {},
   "outputs": [],
   "source": []
  },
  {
   "cell_type": "code",
   "execution_count": null,
   "id": "a7758755-c9fc-4442-8152-89176adf7407",
   "metadata": {},
   "outputs": [],
   "source": []
  },
  {
   "cell_type": "code",
   "execution_count": null,
   "id": "28ec3e52-8c57-415e-94d4-ac48ec3cec36",
   "metadata": {},
   "outputs": [],
   "source": []
  }
 ],
 "metadata": {
  "kernelspec": {
   "display_name": "Python 3 (ipykernel)",
   "language": "python",
   "name": "python3"
  },
  "language_info": {
   "codemirror_mode": {
    "name": "ipython",
    "version": 3
   },
   "file_extension": ".py",
   "mimetype": "text/x-python",
   "name": "python",
   "nbconvert_exporter": "python",
   "pygments_lexer": "ipython3",
   "version": "3.12.4"
  }
 },
 "nbformat": 4,
 "nbformat_minor": 5
}
