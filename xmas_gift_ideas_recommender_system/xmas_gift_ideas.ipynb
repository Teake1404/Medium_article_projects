{
 "cells": [
  {
   "cell_type": "code",
   "execution_count": null,
   "id": "3fa5c950-27a5-4c1f-9885-0c547e13426e",
   "metadata": {},
   "outputs": [],
   "source": [
    "import pandas as pd\n",
    "import os\n",
    "import numpy as np\n",
    "from sklearn.preprocessing import StandardScaler\n",
    "import ast\n",
    "import re\n",
    "\n",
    "from wordcloud import WordCloud,STOPWORDS\n",
    "import matplotlib.pyplot as plt"
   ]
  },
  {
   "cell_type": "code",
   "execution_count": 4,
   "id": "305d381a-6821-49f4-b09e-d6bc6e7b06d7",
   "metadata": {},
   "outputs": [],
   "source": [
    "file_name=[f for f in os.listdir(os.getcwd()) if f.endswith('.csv')][0]\n",
    "\n",
    "df=pd.read_csv(os.path.join(os.getcwd(),file_name))"
   ]
  },
  {
   "cell_type": "code",
   "execution_count": 8,
   "id": "a9160be1-bc5d-42fb-9fdb-f6cf0dc64911",
   "metadata": {},
   "outputs": [
    {
     "data": {
      "text/html": [
       "<div>\n",
       "<style scoped>\n",
       "    .dataframe tbody tr th:only-of-type {\n",
       "        vertical-align: middle;\n",
       "    }\n",
       "\n",
       "    .dataframe tbody tr th {\n",
       "        vertical-align: top;\n",
       "    }\n",
       "\n",
       "    .dataframe thead th {\n",
       "        text-align: right;\n",
       "    }\n",
       "</style>\n",
       "<table border=\"1\" class=\"dataframe\">\n",
       "  <thead>\n",
       "    <tr style=\"text-align: right;\">\n",
       "      <th></th>\n",
       "      <th>Gift Idea</th>\n",
       "      <th>Persona</th>\n",
       "      <th>Category</th>\n",
       "      <th>Description</th>\n",
       "      <th>Budget Range</th>\n",
       "      <th>embedding</th>\n",
       "    </tr>\n",
       "  </thead>\n",
       "  <tbody>\n",
       "    <tr>\n",
       "      <th>0</th>\n",
       "      <td>Meta Quest 3</td>\n",
       "      <td>The Tech Enthusiast</td>\n",
       "      <td>Tech</td>\n",
       "      <td>Latest VR headset for immersive gaming and vir...</td>\n",
       "      <td>£225-£375</td>\n",
       "      <td>[-4.72785719e-02  1.27385305e-02 -2.10357774e-...</td>\n",
       "    </tr>\n",
       "    <tr>\n",
       "      <th>1</th>\n",
       "      <td>Apple AirPods Pro 2 (USB-C)</td>\n",
       "      <td>The Tech Enthusiast</td>\n",
       "      <td>Tech</td>\n",
       "      <td>High-quality sound and noise cancellation, ide...</td>\n",
       "      <td>£150-£187</td>\n",
       "      <td>[-4.49886806e-02 -1.42445443e-02  3.32742296e-...</td>\n",
       "    </tr>\n",
       "    <tr>\n",
       "      <th>2</th>\n",
       "      <td>Galaxy Projector</td>\n",
       "      <td>The Tech Enthusiast</td>\n",
       "      <td>Tech</td>\n",
       "      <td>Creates a mesmerizing starry night effect, ble...</td>\n",
       "      <td>£37-£75</td>\n",
       "      <td>[-1.01029001e-01  3.62537466e-02  5.54630011e-...</td>\n",
       "    </tr>\n",
       "    <tr>\n",
       "      <th>3</th>\n",
       "      <td>Smart Home Assistant</td>\n",
       "      <td>The Tech Enthusiast</td>\n",
       "      <td>Tech</td>\n",
       "      <td>Voice-activated assistant for controlling devi...</td>\n",
       "      <td>£37-£75</td>\n",
       "      <td>[-8.40697885e-02 -1.29552325e-02  4.28833850e-...</td>\n",
       "    </tr>\n",
       "    <tr>\n",
       "      <th>4</th>\n",
       "      <td>Portable Phone Charger</td>\n",
       "      <td>The Tech Enthusiast</td>\n",
       "      <td>Tech</td>\n",
       "      <td>Compact power bank to keep devices charged on ...</td>\n",
       "      <td>£15-£37</td>\n",
       "      <td>[-1.11287005e-01  1.39949813e-01 -5.19363619e-...</td>\n",
       "    </tr>\n",
       "  </tbody>\n",
       "</table>\n",
       "</div>"
      ],
      "text/plain": [
       "                     Gift Idea              Persona Category  \\\n",
       "0                 Meta Quest 3  The Tech Enthusiast     Tech   \n",
       "1  Apple AirPods Pro 2 (USB-C)  The Tech Enthusiast     Tech   \n",
       "2             Galaxy Projector  The Tech Enthusiast     Tech   \n",
       "3         Smart Home Assistant  The Tech Enthusiast     Tech   \n",
       "4       Portable Phone Charger  The Tech Enthusiast     Tech   \n",
       "\n",
       "                                         Description Budget Range  \\\n",
       "0  Latest VR headset for immersive gaming and vir...    £225-£375   \n",
       "1  High-quality sound and noise cancellation, ide...    £150-£187   \n",
       "2  Creates a mesmerizing starry night effect, ble...      £37-£75   \n",
       "3  Voice-activated assistant for controlling devi...      £37-£75   \n",
       "4  Compact power bank to keep devices charged on ...      £15-£37   \n",
       "\n",
       "                                           embedding  \n",
       "0  [-4.72785719e-02  1.27385305e-02 -2.10357774e-...  \n",
       "1  [-4.49886806e-02 -1.42445443e-02  3.32742296e-...  \n",
       "2  [-1.01029001e-01  3.62537466e-02  5.54630011e-...  \n",
       "3  [-8.40697885e-02 -1.29552325e-02  4.28833850e-...  \n",
       "4  [-1.11287005e-01  1.39949813e-01 -5.19363619e-...  "
      ]
     },
     "execution_count": 8,
     "metadata": {},
     "output_type": "execute_result"
    }
   ],
   "source": [
    "df.head()"
   ]
  },
  {
   "cell_type": "code",
   "execution_count": 20,
   "id": "5839bfec-66e4-4d7c-af26-d7c135b93a5c",
   "metadata": {},
   "outputs": [],
   "source": [
    "text=''.join(s for s in df['Gift Idea'])"
   ]
  },
  {
   "cell_type": "code",
   "execution_count": 31,
   "id": "ea72f85d-74a0-48b5-8317-a17a81cb6db7",
   "metadata": {},
   "outputs": [],
   "source": [
    "# Combine custom excluded words with WordCloud's default stopwords\n",
    "exclude_words = ['Plus', 'Mini']\n",
    "custom_stopwords = set(STOPWORDS).union(set(exclude_words))"
   ]
  },
  {
   "cell_type": "code",
   "execution_count": 33,
   "id": "7980e201-b4f8-4541-8b94-98c1036bf43d",
   "metadata": {},
   "outputs": [],
   "source": [
    "wordcloud=WordCloud(width=800, height=400, background_color='white',stopwords=custom_stopwords).generate(text)"
   ]
  },
  {
   "cell_type": "code",
   "execution_count": 35,
   "id": "1ca0148a-d528-4f00-860e-2b77c90f8041",
   "metadata": {},
   "outputs": [
    {
     "data": {
      "image/png": "[encoded data removed]",
      "text/plain": [
       "<Figure size 1000x500 with 1 Axes>"
      ]
     },
     "metadata": {},
     "output_type": "display_data"
    }
   ],
   "source": [
    "plt.figure(figsize=(10, 5))\n",
    "plt.imshow(wordcloud, interpolation='bilinear')\n",
    "plt.axis('off')\n",
    "plt.show()"
   ]
  },
  {
   "cell_type": "code",
   "execution_count": null,
   "id": "fd1a67b0-921f-41bf-b5ae-14f8281feaa0",
   "metadata": {},
   "outputs": [],
   "source": []
  },
  {
   "cell_type": "code",
   "execution_count": null,
   "id": "39d80a9c-c6b7-405d-b61e-c627e828d84c",
   "metadata": {},
   "outputs": [],
   "source": []
  },
  {
   "cell_type": "code",
   "execution_count": null,
   "id": "1fa2b52d-4967-432b-ba4b-58aaa67f4c36",
   "metadata": {},
   "outputs": [],
   "source": []
  },
  {
   "cell_type": "markdown",
   "id": "1d893494-c38c-49d5-ad23-fb19026ae2e2",
   "metadata": {
    "jp-MarkdownHeadingCollapsed": true
   },
   "source": [
    "## Data Preparation for Deep Learning"
   ]
  },
  {
   "cell_type": "code",
   "execution_count": 22,
   "id": "85272ffd-ef2a-4253-b45e-c9cb6e8b585d",
   "metadata": {},
   "outputs": [],
   "source": [
    "from transformers import AutoTokenizer,AutoModel\n",
    "import torch\n",
    "import streamlit as st"
   ]
  },
  {
   "cell_type": "code",
   "execution_count": 42,
   "id": "90032ae7-b3ce-45a7-b7e3-f51e8a2a1e56",
   "metadata": {},
   "outputs": [
    {
     "data": {
      "application/vnd.jupyter.widget-view+json": {
       "model_id": "c201af8fdb654303970a94427352814d",
       "version_major": 2,
       "version_minor": 0
      },
      "text/plain": [
       "tokenizer_config.json:   0%|          | 0.00/350 [00:00<?, ?B/s]"
      ]
     },
     "metadata": {},
     "output_type": "display_data"
    },
    {
     "data": {
      "application/vnd.jupyter.widget-view+json": {
       "model_id": "3f1189a930c94b0fa5cbf20724962e4f",
       "version_major": 2,
       "version_minor": 0
      },
      "text/plain": [
       "vocab.txt:   0%|          | 0.00/232k [00:00<?, ?B/s]"
      ]
     },
     "metadata": {},
     "output_type": "display_data"
    },
    {
     "data": {
      "application/vnd.jupyter.widget-view+json": {
       "model_id": "2b75e783d0f845cd921f796b9ed16bbe",
       "version_major": 2,
       "version_minor": 0
      },
      "text/plain": [
       "tokenizer.json:   0%|          | 0.00/466k [00:00<?, ?B/s]"
      ]
     },
     "metadata": {},
     "output_type": "display_data"
    },
    {
     "data": {
      "application/vnd.jupyter.widget-view+json": {
       "model_id": "3583da4bad844b44ab87343f2e96961e",
       "version_major": 2,
       "version_minor": 0
      },
      "text/plain": [
       "special_tokens_map.json:   0%|          | 0.00/112 [00:00<?, ?B/s]"
      ]
     },
     "metadata": {},
     "output_type": "display_data"
    },
    {
     "data": {
      "application/vnd.jupyter.widget-view+json": {
       "model_id": "65e143c7d6a244aca4bc8968428a2df4",
       "version_major": 2,
       "version_minor": 0
      },
      "text/plain": [
       "config.json:   0%|          | 0.00/612 [00:00<?, ?B/s]"
      ]
     },
     "metadata": {},
     "output_type": "display_data"
    },
    {
     "data": {
      "application/vnd.jupyter.widget-view+json": {
       "model_id": "b5a270d9cb1e4974968edb755bd06c5d",
       "version_major": 2,
       "version_minor": 0
      },
      "text/plain": [
       "model.safetensors:   0%|          | 0.00/90.9M [00:00<?, ?B/s]"
      ]
     },
     "metadata": {},
     "output_type": "display_data"
    }
   ],
   "source": [
    "# Load the tokenizer and pre-trained model\n",
    "model_name = \"sentence-transformers/all-MiniLM-L6-v2\"\n",
    "tokenizer = AutoTokenizer.from_pretrained(model_name)\n",
    "model=AutoModel.from_pretrained(model_name)"
   ]
  },
  {
   "cell_type": "code",
   "execution_count": 94,
   "id": "50bd918b-cd14-4425-9d60-49bd5455d64c",
   "metadata": {},
   "outputs": [],
   "source": [
    "#Functions to compute embeddings\n",
    "def get_embedding(text,tokenizer,model):\n",
    "    inputs = tokenizer(text,return_tensors='pt',truncation=True,max_length=128,padding='max_length')\n",
    "    with torch.no_grad(): #no gradient as we are not training model\n",
    "        outputs=model(**inputs) #output is of shape(batch_size ,sequence_length, embedding_dim) batch_size is 1 for 1 text\n",
    "    # Average the last hidden state to get sentence embeddings\n",
    "    embeddings = outputs.last_hidden_state.mean(dim=1)\n",
    "    return embeddings.squeeze().numpy() # change the shape to (embedding_dim)"
   ]
  },
  {
   "cell_type": "code",
   "execution_count": null,
   "id": "3d4af360-6070-4110-8659-e5bd622a251e",
   "metadata": {},
   "outputs": [],
   "source": [
    "df['embedding'] = df['Description'].apply(lambda x:get_embedding(x,tokenizer,model))\n",
    "\n",
    "# Save the embeddings for reuse\n",
    "df.to_csv('christmas_gift_suggestions_with_embeddings.csv', index=False)\n"
   ]
  },
  {
   "cell_type": "code",
   "execution_count": 8,
   "id": "fc743eb1-1001-41cd-8a43-2ee04c71fdcd",
   "metadata": {},
   "outputs": [],
   "source": [
    "embedding_df=pd.read_csv('christmas_gift_suggestions_with_embeddings.csv')"
   ]
  },
  {
   "cell_type": "code",
   "execution_count": null,
   "id": "ce7fd119-9cba-45b8-95bf-022c7c31009f",
   "metadata": {},
   "outputs": [],
   "source": [
    "# Correct the format by replacing spaces with commas inside the brackets\n",
    "embedding_df['embedding'] = embedding_df['embedding'].apply(\n",
    "    lambda x: re.sub(r'(?<=\\d)\\s+(?=\\-?\\d)', ',', x.strip())\n",
    ")\n",
    "\n",
    "embedding_df['embedding']=embedding_df['embedding'].apply(lambda x: np.array(ast.literal_eval(x)))\n",
    "\n",
    "embeddings=np.stack(embedding_df['embedding'].values)"
   ]
  },
  {
   "cell_type": "code",
   "execution_count": 130,
   "id": "0513dc15-04b7-4eb8-b192-45569a007b75",
   "metadata": {},
   "outputs": [
    {
     "name": "stdout",
     "output_type": "stream",
     "text": [
      "(70, 384)\n"
     ]
    }
   ],
   "source": [
    "print(embeddings.shape)  # Should be (num_samples, embedding_dim)"
   ]
  },
  {
   "cell_type": "code",
   "execution_count": null,
   "id": "c8b6dfdc-c550-49e5-99a6-266411e9a437",
   "metadata": {},
   "outputs": [],
   "source": [
    "scaler=StandardScaler()\n",
    "\n",
    "scaled_embeddings=scaler.fit_transform(embeddings)"
   ]
  },
  {
   "cell_type": "markdown",
   "id": "e26a3d64-e0b0-478b-8af8-a5a34e3e5893",
   "metadata": {},
   "source": [
    "## Use Sentence Embeddings"
   ]
  },
  {
   "cell_type": "code",
   "execution_count": 567,
   "id": "5640054f-da30-44d2-9f47-d00bbfd44987",
   "metadata": {},
   "outputs": [],
   "source": [
    "from sentence_transformers import SentenceTransformer\n",
    "from sklearn.metrics.pairwise import cosine_similarity\n",
    "import joblib"
   ]
  },
  {
   "cell_type": "code",
   "execution_count": 390,
   "id": "04cefa46-59be-440f-b002-0d4513b4a750",
   "metadata": {},
   "outputs": [],
   "source": [
    "# Load a pre-trained Sentence-BERT model\n",
    "model = SentenceTransformer('all-MiniLM-L6-v2')  # Lightweight and fast model"
   ]
  },
  {
   "cell_type": "code",
   "execution_count": 406,
   "id": "6083f44a-884a-47a7-ba75-7c3b36200b44",
   "metadata": {},
   "outputs": [],
   "source": [
    "df['embedding']=df.apply(\n",
    "lambda row: model.encode(f\"{row['Gift Idea']} {row['Description']} for {row['Persona']}\"),axis=1\n",
    ")\n"
   ]
  },
  {
   "cell_type": "code",
   "execution_count": 384,
   "id": "b3167af5-3aa4-4176-99b0-c4977cf99834",
   "metadata": {},
   "outputs": [],
   "source": [
    "df.to_csv(\"df_with_embeddings.csv\", index=False)"
   ]
  },
  {
   "cell_type": "code",
   "execution_count": 394,
   "id": "854a9e64-67eb-45aa-b1f5-a1e54fb1af88",
   "metadata": {},
   "outputs": [
    {
     "data": {
      "text/plain": [
       "['model.pkl']"
      ]
     },
     "execution_count": 394,
     "metadata": {},
     "output_type": "execute_result"
    }
   ],
   "source": [
    "joblib.dump(model,\"model.pkl\")"
   ]
  },
  {
   "cell_type": "markdown",
   "id": "bef6d8c8-3f5c-4468-9b0b-eb85c1a87ea1",
   "metadata": {},
   "source": [
    "#### Generate User Input Embedding "
   ]
  },
  {
   "cell_type": "code",
   "execution_count": 574,
   "id": "bbe83354-32fb-4241-bb2c-d073f67e3d32",
   "metadata": {},
   "outputs": [],
   "source": [
    "# User input description (can be dynamically taken from input in the app)\n",
    "user_input = \"Dad who loves tea\"\n"
   ]
  },
  {
   "cell_type": "code",
   "execution_count": 576,
   "id": "70b0f4c4-e77d-4ba2-bb8a-f8a6d488e1be",
   "metadata": {},
   "outputs": [],
   "source": [
    "# Generate embedding for the user input and reshape it to 1 row n columns\n",
    "user_embedding = model.encode(user_input).reshape(1, -1)"
   ]
  },
  {
   "cell_type": "markdown",
   "id": "76450a5a-927b-41d6-92f9-083a6d8b6dba",
   "metadata": {},
   "source": [
    "#### Calculate Cosine Similarity"
   ]
  },
  {
   "cell_type": "code",
   "execution_count": 410,
   "id": "165d4bc9-76ac-4baa-be5f-1475e36e6337",
   "metadata": {},
   "outputs": [],
   "source": [
    "# Convert the 'embedding' column back to a numpy array for similarity calculation\n",
    "gift_embeddings=np.array(df['embedding'].tolist())"
   ]
  },
  {
   "cell_type": "code",
   "execution_count": 450,
   "id": "a2e0ffbc-5f36-4280-ba78-a3848f67740e",
   "metadata": {},
   "outputs": [],
   "source": [
    "#save gift_embeddings\n",
    "np.save('gift_embeddings.npy',gift_embeddings)"
   ]
  },
  {
   "cell_type": "code",
   "execution_count": 578,
   "id": "9e8c7149-971f-4410-9f62-f3ca069a714f",
   "metadata": {},
   "outputs": [],
   "source": [
    "# Compute cosine similarity between user input and all gift embeddings\n",
    "similarity_score=cosine_similarity(user_embedding,gift_embeddings)\n",
    "# Add similarity scores to the dataframe for reference\n",
    "df['similarity_score'] = similarity_score.flatten()\n",
    "# Sort the DataFrame based on similarity score in descending order\n",
    "df_sorted = df.sort_values(by='similarity_score', ascending=False)\n",
    "# Get the top N recommendations (e.g., top 5)\n",
    "top_n = 5\n",
    "top_recommendations = df_sorted.head(top_n)\n"
   ]
  },
  {
   "cell_type": "code",
   "execution_count": 444,
   "id": "5dfcf0e7-0f72-4153-b4af-6c4b7718892e",
   "metadata": {},
   "outputs": [
    {
     "name": "stdout",
     "output_type": "stream",
     "text": [
      "                                     Gift Idea          Persona  \\\n",
      "47                          Indoor Bowling Set  The Busy Parent   \n",
      "52                   French Press Coffee Maker       The Foodie   \n",
      "13                  Family-Friendly Board Game  The Busy Parent   \n",
      "87  Pottery Barn Coffee And Bakery Wooden Shop             Kids   \n",
      "45                    Glow-in-the-Dark Blanket  The Busy Parent   \n",
      "\n",
      "    similarity_score  \n",
      "47          0.307989  \n",
      "52          0.289391  \n",
      "13          0.276610  \n",
      "87          0.270036  \n",
      "45          0.256101  \n"
     ]
    }
   ],
   "source": [
    "# Display top N recommendations\n",
    "print(top_recommendations[['Gift Idea', 'Persona', 'similarity_score']])\n"
   ]
  },
  {
   "cell_type": "code",
   "execution_count": 448,
   "id": "17ccf075-941f-404c-b331-1fc585114d15",
   "metadata": {},
   "outputs": [
    {
     "data": {
      "text/html": [
       "<div>\n",
       "<style scoped>\n",
       "    .dataframe tbody tr th:only-of-type {\n",
       "        vertical-align: middle;\n",
       "    }\n",
       "\n",
       "    .dataframe tbody tr th {\n",
       "        vertical-align: top;\n",
       "    }\n",
       "\n",
       "    .dataframe thead th {\n",
       "        text-align: right;\n",
       "    }\n",
       "</style>\n",
       "<table border=\"1\" class=\"dataframe\">\n",
       "  <thead>\n",
       "    <tr style=\"text-align: right;\">\n",
       "      <th></th>\n",
       "      <th>Gift Idea</th>\n",
       "      <th>Persona</th>\n",
       "      <th>Category</th>\n",
       "      <th>Description</th>\n",
       "      <th>Budget Range</th>\n",
       "      <th>embedding</th>\n",
       "      <th>similarity_score</th>\n",
       "    </tr>\n",
       "  </thead>\n",
       "  <tbody>\n",
       "    <tr>\n",
       "      <th>0</th>\n",
       "      <td>Meta Quest 3</td>\n",
       "      <td>The Tech Enthusiast</td>\n",
       "      <td>Tech</td>\n",
       "      <td>Latest VR headset for immersive gaming and vir...</td>\n",
       "      <td>£225-£375</td>\n",
       "      <td>[-0.047278572, 0.0127385305, -0.021035777, -0....</td>\n",
       "      <td>0.040603</td>\n",
       "    </tr>\n",
       "    <tr>\n",
       "      <th>1</th>\n",
       "      <td>Apple AirPods Pro 2 (USB-C)</td>\n",
       "      <td>The Tech Enthusiast</td>\n",
       "      <td>Tech</td>\n",
       "      <td>High-quality sound and noise cancellation, ide...</td>\n",
       "      <td>£150-£187</td>\n",
       "      <td>[-0.04498868, -0.014244544, 0.03327423, 0.0540...</td>\n",
       "      <td>-0.000477</td>\n",
       "    </tr>\n",
       "    <tr>\n",
       "      <th>2</th>\n",
       "      <td>Galaxy Projector</td>\n",
       "      <td>The Tech Enthusiast</td>\n",
       "      <td>Tech</td>\n",
       "      <td>Creates a mesmerizing starry night effect, ble...</td>\n",
       "      <td>£37-£75</td>\n",
       "      <td>[-0.101029, 0.036253747, 0.055463, 0.006941961...</td>\n",
       "      <td>0.003742</td>\n",
       "    </tr>\n",
       "    <tr>\n",
       "      <th>3</th>\n",
       "      <td>Smart Home Assistant</td>\n",
       "      <td>The Tech Enthusiast</td>\n",
       "      <td>Tech</td>\n",
       "      <td>Voice-activated assistant for controlling devi...</td>\n",
       "      <td>£37-£75</td>\n",
       "      <td>[-0.08406979, -0.0129552325, 0.042883385, -0.0...</td>\n",
       "      <td>0.002745</td>\n",
       "    </tr>\n",
       "    <tr>\n",
       "      <th>4</th>\n",
       "      <td>Portable Phone Charger</td>\n",
       "      <td>The Tech Enthusiast</td>\n",
       "      <td>Tech</td>\n",
       "      <td>Compact power bank to keep devices charged on ...</td>\n",
       "      <td>£15-£37</td>\n",
       "      <td>[-0.111287005, 0.13994981, -0.051936362, 0.033...</td>\n",
       "      <td>0.074124</td>\n",
       "    </tr>\n",
       "  </tbody>\n",
       "</table>\n",
       "</div>"
      ],
      "text/plain": [
       "                     Gift Idea              Persona Category  \\\n",
       "0                 Meta Quest 3  The Tech Enthusiast     Tech   \n",
       "1  Apple AirPods Pro 2 (USB-C)  The Tech Enthusiast     Tech   \n",
       "2             Galaxy Projector  The Tech Enthusiast     Tech   \n",
       "3         Smart Home Assistant  The Tech Enthusiast     Tech   \n",
       "4       Portable Phone Charger  The Tech Enthusiast     Tech   \n",
       "\n",
       "                                         Description Budget Range  \\\n",
       "0  Latest VR headset for immersive gaming and vir...    £225-£375   \n",
       "1  High-quality sound and noise cancellation, ide...    £150-£187   \n",
       "2  Creates a mesmerizing starry night effect, ble...      £37-£75   \n",
       "3  Voice-activated assistant for controlling devi...      £37-£75   \n",
       "4  Compact power bank to keep devices charged on ...      £15-£37   \n",
       "\n",
       "                                           embedding  similarity_score  \n",
       "0  [-0.047278572, 0.0127385305, -0.021035777, -0....          0.040603  \n",
       "1  [-0.04498868, -0.014244544, 0.03327423, 0.0540...         -0.000477  \n",
       "2  [-0.101029, 0.036253747, 0.055463, 0.006941961...          0.003742  \n",
       "3  [-0.08406979, -0.0129552325, 0.042883385, -0.0...          0.002745  \n",
       "4  [-0.111287005, 0.13994981, -0.051936362, 0.033...          0.074124  "
      ]
     },
     "execution_count": 448,
     "metadata": {},
     "output_type": "execute_result"
    }
   ],
   "source": [
    "df.head()"
   ]
  },
  {
   "cell_type": "code",
   "execution_count": 314,
   "id": "908b5cd4-836a-4a39-9c0f-8d8e5773078c",
   "metadata": {},
   "outputs": [],
   "source": [
    "def is_within_budget(price_range, min_budget, max_budget):\n",
    "    try:\n",
    "        # Parse price range (e.g., \"£50-£100\")\n",
    "        price_values = price_range.replace('£', '').split('-')\n",
    "        \n",
    "        if len(price_values) == 2:\n",
    "            min_price, max_price = map(float, price_values)\n",
    "        else:\n",
    "            min_price = max_price = float(price_values[0])\n",
    "        \n",
    "        return min_price >= min_budget and max_price <= max_budget\n",
    "    except Exception as e:\n",
    "        return False  # Handle invalid price range format\n"
   ]
  },
  {
   "cell_type": "code",
   "execution_count": null,
   "id": "90315b3e-27c4-45be-9b71-dee29f56ad07",
   "metadata": {},
   "outputs": [],
   "source": [
    "min_budget = st.slider(\"Min Budget (£)\", min_value=0, max_value=1000, value=20)\n",
    "max_budget = st.slider(\"Max Budget (£)\", min_value=0, max_value=1000, value=100)\n",
    "\n",
    "filtered_df = df[df['Price'].apply(lambda x: is_within_budget(x, min_budget, max_budget))]\n"
   ]
  },
  {
   "cell_type": "code",
   "execution_count": 338,
   "id": "eaf2b8a1-12f9-4f89-9b7f-2c518760caa8",
   "metadata": {},
   "outputs": [],
   "source": [
    "min_budget = st.slider(\"Min Budget (£)\", min_value=0, max_value=1000, value=20)\n",
    "max_budget = st.slider(\"Max Budget (£)\", min_value=0, max_value=1000, value=100)"
   ]
  },
  {
   "cell_type": "code",
   "execution_count": 340,
   "id": "5c56c157-291b-4201-9c44-86fbe7a21d68",
   "metadata": {},
   "outputs": [],
   "source": [
    "filtered_df=df[df['Budget Range'].apply(lambda x:is_within_budget(x,min_budget,max_budget))]"
   ]
  },
  {
   "cell_type": "code",
   "execution_count": 348,
   "id": "f4657745-b12c-4e71-b669-a702e8141c45",
   "metadata": {},
   "outputs": [
    {
     "data": {
      "text/html": [
       "<div>\n",
       "<style scoped>\n",
       "    .dataframe tbody tr th:only-of-type {\n",
       "        vertical-align: middle;\n",
       "    }\n",
       "\n",
       "    .dataframe tbody tr th {\n",
       "        vertical-align: top;\n",
       "    }\n",
       "\n",
       "    .dataframe thead th {\n",
       "        text-align: right;\n",
       "    }\n",
       "</style>\n",
       "<table border=\"1\" class=\"dataframe\">\n",
       "  <thead>\n",
       "    <tr style=\"text-align: right;\">\n",
       "      <th></th>\n",
       "      <th>Gift Idea</th>\n",
       "      <th>Persona</th>\n",
       "      <th>Category</th>\n",
       "      <th>Description</th>\n",
       "      <th>Budget Range</th>\n",
       "      <th>embedding</th>\n",
       "      <th>similarity_score</th>\n",
       "    </tr>\n",
       "  </thead>\n",
       "  <tbody>\n",
       "    <tr>\n",
       "      <th>52</th>\n",
       "      <td>French Press Coffee Maker</td>\n",
       "      <td>The Foodie</td>\n",
       "      <td>Food and Kitchen</td>\n",
       "      <td>Brew fresh and rich coffee at home.</td>\n",
       "      <td>£20-£40</td>\n",
       "      <td>[-0.024498392, -0.022553664, 0.04940896, 0.035...</td>\n",
       "      <td>0.289391</td>\n",
       "    </tr>\n",
       "    <tr>\n",
       "      <th>45</th>\n",
       "      <td>Glow-in-the-Dark Blanket</td>\n",
       "      <td>The Busy Parent</td>\n",
       "      <td>Kids and Family</td>\n",
       "      <td>A cozy blanket that glows in the dark, making ...</td>\n",
       "      <td>£20-£40</td>\n",
       "      <td>[-0.05898827, 0.023490101, -0.0006429975, 0.10...</td>\n",
       "      <td>0.256101</td>\n",
       "    </tr>\n",
       "    <tr>\n",
       "      <th>50</th>\n",
       "      <td>Herb Garden Starter Kit</td>\n",
       "      <td>The Foodie</td>\n",
       "      <td>Food and Kitchen</td>\n",
       "      <td>Grow fresh herbs at home for cooking.</td>\n",
       "      <td>£20-£40</td>\n",
       "      <td>[-0.0238641, -0.017742096, -0.040295057, -0.04...</td>\n",
       "      <td>0.199363</td>\n",
       "    </tr>\n",
       "    <tr>\n",
       "      <th>28</th>\n",
       "      <td>High-End Scented Candles</td>\n",
       "      <td>The Luxury Lover</td>\n",
       "      <td>Luxury and Comfort</td>\n",
       "      <td>Creates a calming atmosphere at home.</td>\n",
       "      <td>£22-£52</td>\n",
       "      <td>[0.026303083, 0.00810329, 0.08368066, 0.049098...</td>\n",
       "      <td>0.196058</td>\n",
       "    </tr>\n",
       "    <tr>\n",
       "      <th>12</th>\n",
       "      <td>Galaxy Projector</td>\n",
       "      <td>The Busy Parent</td>\n",
       "      <td>Kids and Family</td>\n",
       "      <td>Projects starry effects for relaxation or fami...</td>\n",
       "      <td>£37-£75</td>\n",
       "      <td>[-0.090264216, 0.013287729, 0.07809039, 0.0089...</td>\n",
       "      <td>0.176058</td>\n",
       "    </tr>\n",
       "  </tbody>\n",
       "</table>\n",
       "</div>"
      ],
      "text/plain": [
       "                    Gift Idea           Persona            Category  \\\n",
       "52  French Press Coffee Maker        The Foodie    Food and Kitchen   \n",
       "45   Glow-in-the-Dark Blanket   The Busy Parent     Kids and Family   \n",
       "50    Herb Garden Starter Kit        The Foodie    Food and Kitchen   \n",
       "28   High-End Scented Candles  The Luxury Lover  Luxury and Comfort   \n",
       "12           Galaxy Projector   The Busy Parent     Kids and Family   \n",
       "\n",
       "                                          Description Budget Range  \\\n",
       "52                Brew fresh and rich coffee at home.      £20-£40   \n",
       "45  A cozy blanket that glows in the dark, making ...      £20-£40   \n",
       "50              Grow fresh herbs at home for cooking.      £20-£40   \n",
       "28              Creates a calming atmosphere at home.      £22-£52   \n",
       "12  Projects starry effects for relaxation or fami...      £37-£75   \n",
       "\n",
       "                                            embedding  similarity_score  \n",
       "52  [-0.024498392, -0.022553664, 0.04940896, 0.035...          0.289391  \n",
       "45  [-0.05898827, 0.023490101, -0.0006429975, 0.10...          0.256101  \n",
       "50  [-0.0238641, -0.017742096, -0.040295057, -0.04...          0.199363  \n",
       "28  [0.026303083, 0.00810329, 0.08368066, 0.049098...          0.196058  \n",
       "12  [-0.090264216, 0.013287729, 0.07809039, 0.0089...          0.176058  "
      ]
     },
     "execution_count": 348,
     "metadata": {},
     "output_type": "execute_result"
    }
   ],
   "source": [
    "filtered_df.sort_values(by='similarity_score', ascending=False).head(5)"
   ]
  },
  {
   "cell_type": "markdown",
   "id": "3dcf95f1-9ae7-4c20-bbf6-80ecd691bb51",
   "metadata": {},
   "source": [
    "### Content-Based Filtering: This method recommends items (gifts) based on their characteristics and the similarity to the user's input (e.g., matching keywords, descriptions, etc.). We have this implemented with Sentence-BERT for generating embeddings of gift descriptions."
   ]
  },
  {
   "cell_type": "code",
   "execution_count": 16,
   "id": "4ec3989c-3d23-4e33-80ef-8e4bbe0c5a28",
   "metadata": {},
   "outputs": [
    {
     "name": "stdout",
     "output_type": "stream",
     "text": [
      "Overwriting app.py\n"
     ]
    }
   ],
   "source": [
    "%%writefile app.py\n",
    "import streamlit as st\n",
    "import pandas as pd\n",
    "import numpy as np\n",
    "from sklearn.metrics.pairwise import cosine_similarity\n",
    "import joblib\n",
    "import os\n",
    "from sentence_transformers import SentenceTransformer\n",
    "import torch\n",
    "\n",
    "# Load your precomputed embeddings and dataset\n",
    "\n",
    "df = pd.read_csv(os.path.join(os.getcwd(),'xmas_gift_ideas_recommender_system/df_with_embeddings.csv'))  # Replace with the actual dataset\n",
    "gift_embeddings = np.load(os.path.join(os.getcwd(),'xmas_gift_ideas_recommender_system/gift_embeddings.npy'))  # Replace with the actual embeddings\n",
    "\n",
    "# @st.cache_resource\n",
    "# def load_model():\n",
    "#     return joblib.load(os.path.join(os.getcwd(),'xmas_gift_ideas_recommender_system/model.pkl'))\n",
    "\n",
    "# model = load_model()\n",
    "\n",
    "# Force the model to use CPU\n",
    "device = torch.device('cpu')\n",
    "\n",
    "# Load the model and move it to CPU\n",
    "model = SentenceTransformer('all-MiniLM-L6-v2', device=device)\n",
    "\n",
    "\n",
    "# Budget Filter\n",
    "def is_within_budget(price_range, min_budget, max_budget):\n",
    "    try:\n",
    "        price_values = price_range.replace('£', '').split('-')\n",
    "        if len(price_values) == 2:\n",
    "            min_price, max_price = map(float, price_values)\n",
    "        else:\n",
    "            min_price = max_price = float(price_values[0])\n",
    "        return min_price >= min_budget and max_price <= max_budget\n",
    "    except Exception:\n",
    "        return False\n",
    "\n",
    "# Add Festive Xmas heading\n",
    "st.title(\"🎄 Xmas Gift Guide 🎁\")\n",
    "\n",
    "# Add a Christmas-themed image (Replace with your own image URL or path)\n",
    "st.image(os.path.join(os.getcwd(),'xmas_gift_ideas_recommender_system/xmas.png'), caption=\"Holiday Season Gifts!\", use_column_width=True)\n",
    "\n",
    "\n",
    "# Streamlit input fields\n",
    "user_input = st.text_input(\"Enter a description of the recipient (e.g., 'Dad who loves tea')\")\n",
    "min_budget = st.slider(\"Min Budget (£)\", min_value=0, max_value=1000, value=20)\n",
    "max_budget = st.slider(\"Max Budget (£)\", min_value=0, max_value=1000, value=100)\n",
    "\n",
    "# Add the \"Get Recommendations\" button\n",
    "if st.button(\"Get Recommendations\"):\n",
    "    if user_input:\n",
    "        # Generate user embedding for description (ensure you already have the model and embeddings)\n",
    "        user_embedding = model.encode(user_input).reshape(1, -1)  # Replace 'model' with your preloaded model\n",
    "        similarity_scores = cosine_similarity(user_embedding, gift_embeddings)\n",
    "\n",
    "        # Apply budget filtering\n",
    "        df['similarity_score'] = similarity_scores.flatten()\n",
    "        filtered_df = df[df['Budget Range'].apply(lambda x: is_within_budget(x, min_budget, max_budget))]\n",
    "        filtered_df_sorted = filtered_df.sort_values(by='similarity_score', ascending=False)\n",
    "\n",
    "        # Get top N recommendations\n",
    "        top_n = 5\n",
    "        top_recommendations = filtered_df_sorted.head(top_n)\n",
    "\n",
    "        # Display results\n",
    "        st.write(\"🎁 Top Gift Recommendations 🎁\")\n",
    "        st.write(top_recommendations[['Gift Idea', 'Persona', 'Description', 'Budget Range', 'similarity_score']])\n",
    "    else:\n",
    "        st.warning(\"Please enter a description for the recipient.\")\n"
   ]
  },
  {
   "cell_type": "markdown",
   "id": "79daf368-3f31-4bf1-9dc5-5c70a08f9a9c",
   "metadata": {},
   "source": [
    "### Collaborative Filtering"
   ]
  },
  {
   "cell_type": "code",
   "execution_count": null,
   "id": "3556e179-5204-4c39-a18a-a7ec3dae71b1",
   "metadata": {},
   "outputs": [],
   "source": [
    "import plotly.express as px \n",
    "from surprise import SVD, Dataset,Reader\n",
    "from surprise.model_selection import train_test_split\n",
    "from surprise import accuracy"
   ]
  },
  {
   "cell_type": "code",
   "execution_count": 8,
   "id": "212d8be1-cc4d-4ccf-b3f4-574d996cc712",
   "metadata": {},
   "outputs": [],
   "source": [
    "# Load your precomputed embeddings and dataset\n",
    "df = pd.read_csv('df_with_embeddings.csv')  # Replace with the actual dataset\n",
    "gift_embeddings = np.load('gift_embeddings.npy')  # Replace with the actual embeddings"
   ]
  },
  {
   "cell_type": "code",
   "execution_count": 441,
   "id": "c6c2658b-3f22-4c46-8ef3-5893ee309592",
   "metadata": {},
   "outputs": [],
   "source": [
    "user_item_matrix=pd.read_csv([d for d in os.listdir(os.getcwd()) if d.startswith('U')][0]).rename(columns={'Unnamed: 0':\"User\"})"
   ]
  },
  {
   "cell_type": "code",
   "execution_count": 443,
   "id": "edd96235-4788-44f6-967b-dcd9a223ca7d",
   "metadata": {},
   "outputs": [
    {
     "data": {
      "text/html": [
       "<div>\n",
       "<style scoped>\n",
       "    .dataframe tbody tr th:only-of-type {\n",
       "        vertical-align: middle;\n",
       "    }\n",
       "\n",
       "    .dataframe tbody tr th {\n",
       "        vertical-align: top;\n",
       "    }\n",
       "\n",
       "    .dataframe thead th {\n",
       "        text-align: right;\n",
       "    }\n",
       "</style>\n",
       "<table border=\"1\" class=\"dataframe\">\n",
       "  <thead>\n",
       "    <tr style=\"text-align: right;\">\n",
       "      <th></th>\n",
       "      <th>User</th>\n",
       "      <th>Meta Quest 3</th>\n",
       "      <th>Apple AirPods Pro 2 (USB-C)</th>\n",
       "      <th>Galaxy Projector</th>\n",
       "      <th>Smart Home Assistant</th>\n",
       "      <th>Portable Phone Charger</th>\n",
       "      <th>Cleverfy Shower Steamers</th>\n",
       "      <th>Edifier W820NB Plus Headphones</th>\n",
       "      <th>Smart Water Bottle</th>\n",
       "      <th>Fitness Resistance Bands Set</th>\n",
       "      <th>...</th>\n",
       "      <th>Squishmallows Plushies</th>\n",
       "      <th>Play-Doh Rainbow Eight-Pack</th>\n",
       "      <th>Wood City Car Ramp Racer Set</th>\n",
       "      <th>Fat Brain Toys Bilibo by Moluk</th>\n",
       "      <th>3Doodler Start Plus 3D Printing Pen</th>\n",
       "      <th>Pottery Barn Wooden Busy Cube</th>\n",
       "      <th>Fujifilm Instax Mini 12 Instant Camera</th>\n",
       "      <th>Pottery Barn Coffee And Bakery Wooden Shop</th>\n",
       "      <th>Dash Mini Waffle Maker</th>\n",
       "      <th>Google Fitbit Ace LTE Kids Smartwatch</th>\n",
       "    </tr>\n",
       "  </thead>\n",
       "  <tbody>\n",
       "    <tr>\n",
       "      <th>0</th>\n",
       "      <td>User_1</td>\n",
       "      <td>4</td>\n",
       "      <td>5</td>\n",
       "      <td>3</td>\n",
       "      <td>5</td>\n",
       "      <td>5</td>\n",
       "      <td>2</td>\n",
       "      <td>3</td>\n",
       "      <td>3</td>\n",
       "      <td>3</td>\n",
       "      <td>...</td>\n",
       "      <td>5</td>\n",
       "      <td>1</td>\n",
       "      <td>5</td>\n",
       "      <td>5</td>\n",
       "      <td>1</td>\n",
       "      <td>1</td>\n",
       "      <td>1</td>\n",
       "      <td>1</td>\n",
       "      <td>4</td>\n",
       "      <td>3</td>\n",
       "    </tr>\n",
       "    <tr>\n",
       "      <th>1</th>\n",
       "      <td>User_2</td>\n",
       "      <td>3</td>\n",
       "      <td>1</td>\n",
       "      <td>3</td>\n",
       "      <td>3</td>\n",
       "      <td>1</td>\n",
       "      <td>3</td>\n",
       "      <td>5</td>\n",
       "      <td>2</td>\n",
       "      <td>2</td>\n",
       "      <td>...</td>\n",
       "      <td>1</td>\n",
       "      <td>1</td>\n",
       "      <td>2</td>\n",
       "      <td>4</td>\n",
       "      <td>4</td>\n",
       "      <td>2</td>\n",
       "      <td>3</td>\n",
       "      <td>1</td>\n",
       "      <td>5</td>\n",
       "      <td>1</td>\n",
       "    </tr>\n",
       "    <tr>\n",
       "      <th>2</th>\n",
       "      <td>User_3</td>\n",
       "      <td>1</td>\n",
       "      <td>3</td>\n",
       "      <td>1</td>\n",
       "      <td>2</td>\n",
       "      <td>2</td>\n",
       "      <td>4</td>\n",
       "      <td>5</td>\n",
       "      <td>1</td>\n",
       "      <td>1</td>\n",
       "      <td>...</td>\n",
       "      <td>2</td>\n",
       "      <td>3</td>\n",
       "      <td>5</td>\n",
       "      <td>1</td>\n",
       "      <td>4</td>\n",
       "      <td>1</td>\n",
       "      <td>4</td>\n",
       "      <td>1</td>\n",
       "      <td>5</td>\n",
       "      <td>4</td>\n",
       "    </tr>\n",
       "  </tbody>\n",
       "</table>\n",
       "<p>3 rows × 91 columns</p>\n",
       "</div>"
      ],
      "text/plain": [
       "     User  Meta Quest 3  Apple AirPods Pro 2 (USB-C)  Galaxy Projector  \\\n",
       "0  User_1             4                            5                 3   \n",
       "1  User_2             3                            1                 3   \n",
       "2  User_3             1                            3                 1   \n",
       "\n",
       "   Smart Home Assistant  Portable Phone Charger  Cleverfy Shower Steamers  \\\n",
       "0                     5                       5                         2   \n",
       "1                     3                       1                         3   \n",
       "2                     2                       2                         4   \n",
       "\n",
       "   Edifier W820NB Plus Headphones  Smart Water Bottle  \\\n",
       "0                               3                   3   \n",
       "1                               5                   2   \n",
       "2                               5                   1   \n",
       "\n",
       "   Fitness Resistance Bands Set  ...  Squishmallows Plushies  \\\n",
       "0                             3  ...                       5   \n",
       "1                             2  ...                       1   \n",
       "2                             1  ...                       2   \n",
       "\n",
       "   Play-Doh Rainbow Eight-Pack  Wood City Car Ramp Racer Set  \\\n",
       "0                            1                             5   \n",
       "1                            1                             2   \n",
       "2                            3                             5   \n",
       "\n",
       "   Fat Brain Toys Bilibo by Moluk  3Doodler Start Plus 3D Printing Pen  \\\n",
       "0                               5                                    1   \n",
       "1                               4                                    4   \n",
       "2                               1                                    4   \n",
       "\n",
       "   Pottery Barn Wooden Busy Cube  Fujifilm Instax Mini 12 Instant Camera  \\\n",
       "0                              1                                       1   \n",
       "1                              2                                       3   \n",
       "2                              1                                       4   \n",
       "\n",
       "   Pottery Barn Coffee And Bakery Wooden Shop  Dash Mini Waffle Maker  \\\n",
       "0                                           1                       4   \n",
       "1                                           1                       5   \n",
       "2                                           1                       5   \n",
       "\n",
       "   Google Fitbit Ace LTE Kids Smartwatch  \n",
       "0                                      3  \n",
       "1                                      1  \n",
       "2                                      4  \n",
       "\n",
       "[3 rows x 91 columns]"
      ]
     },
     "execution_count": 443,
     "metadata": {},
     "output_type": "execute_result"
    }
   ],
   "source": [
    "user_item_matrix.head(3)"
   ]
  },
  {
   "cell_type": "code",
   "execution_count": null,
   "id": "693a085a-d6fe-493a-9613-8041e54083d9",
   "metadata": {},
   "outputs": [],
   "source": [
    "\n",
    "# Load user-item interaction data into Surprise's format\n",
    "reader = Reader(rating_scale=(1, 5))\n",
    "user_matrix_cleaned=user_item_matrix.reset_index().melt(id_vars='User',var_name='Gift Idea',value_name='Rating').dropna()\n",
    "user_matrix_cleaned=user_matrix_cleaned.loc[user_matrix_cleaned['Gift Idea']!='index']\n",
    "data=Dataset.load_from_df(user_matrix_cleaned,reader)\n",
    "\n",
    "# Split the data into training and testing sets\n",
    "trainset, testset = train_test_split(data, test_size=0.2, random_state=42)\n",
    "\n",
    "# Build and train the SVD (matrix factorization) model\n",
    "model = SVD()\n",
    "model.fit(trainset)\n",
    "\n",
    "# Test the model\n",
    "predictions = model.test(testset)\n",
    "svd_rmse=accuracy.rmse(predictions)\n"
   ]
  },
  {
   "cell_type": "code",
   "execution_count": 125,
   "id": "9eeed6b3-a053-42bb-8649-98080fbb2edc",
   "metadata": {},
   "outputs": [
    {
     "name": "stdout",
     "output_type": "stream",
     "text": [
      "RMSE: 1.4222\n",
      "RMSE: 1.4222\n",
      "My ratings range from 1 to 5, an RMSE of 1.42 means that, on average, the predicted ratings deviate \n",
      " from the actual ratings by approximately 1.42 units.\n"
     ]
    }
   ],
   "source": [
    "print(\n",
    "    f\"My ratings range from 1 to 5, an RMSE of {round(accuracy.rmse(predictions),2)} means that, on average, the predicted ratings deviate \\n from the actual ratings by approximately {round(accuracy.rmse(predictions),2)} units.\")"
   ]
  },
  {
   "cell_type": "markdown",
   "id": "c4ff4442-d333-4ef5-9db2-ba73a60d3207",
   "metadata": {},
   "source": [
    "### Relative Benchmarking and Error Analysis\n"
   ]
  },
  {
   "cell_type": "code",
   "execution_count": 136,
   "id": "78703697-3048-4e82-9498-1ea2c24119ca",
   "metadata": {},
   "outputs": [],
   "source": [
    "global_average_rating=user_matrix_cleaned['Rating'].median()\n",
    "\n",
    "user_matrix_cleaned['baseline_prediction']=global_average_rating"
   ]
  },
  {
   "cell_type": "code",
   "execution_count": 144,
   "id": "cbfed1b4-ea51-4998-94e9-7ccab42f4ee7",
   "metadata": {},
   "outputs": [],
   "source": [
    "from sklearn.metrics import mean_squared_error"
   ]
  },
  {
   "cell_type": "code",
   "execution_count": 150,
   "id": "83dfeeba-d888-4ff9-b4c2-4f3f77fefa76",
   "metadata": {},
   "outputs": [],
   "source": [
    "baseline_rmse=np.sqrt(mean_squared_error(user_matrix_cleaned['Rating'],user_matrix_cleaned['baseline_prediction']))"
   ]
  },
  {
   "cell_type": "code",
   "execution_count": 156,
   "id": "ef83e383-849a-4260-b371-069e7d226bd5",
   "metadata": {},
   "outputs": [
    {
     "name": "stdout",
     "output_type": "stream",
     "text": [
      "SVD Model RMSE: 1.4222302858140894\n",
      "The SVD model performs better than the baseline.\n"
     ]
    }
   ],
   "source": [
    "print(\"SVD Model RMSE:\", svd_rmse)  # Use the RMSE value calculated earlier\n",
    "if svd_rmse < baseline_rmse:\n",
    "    print(\"The SVD model performs better than the baseline.\")\n",
    "else:\n",
    "    print(\"The baseline model performs better. Investigate further.\")\n"
   ]
  },
  {
   "cell_type": "code",
   "execution_count": null,
   "id": "eaf92007-3d8a-49c8-bfb2-e86332275ac2",
   "metadata": {},
   "outputs": [],
   "source": [
    "# Convert predictions to a list of dictionaries\n",
    "predictions_list = [{\n",
    "    'User': pred.uid,\n",
    "    'Gift Idea': pred.iid,\n",
    "    'SVD_Predictions': pred.est\n",
    "} for pred in predictions]\n",
    "\n",
    "predictions_df=pd.DataFrame(predictions_list)\n",
    "\n",
    "# Merge predictions back to the original DataFrame\n",
    "merged_df = user_matrix_cleaned.merge(\n",
    "    predictions_df,\n",
    "    how='left',\n",
    "    on=['User', 'Gift Idea']\n",
    ")\n",
    "\n",
    "merged_df.dropna(inplace=True)"
   ]
  },
  {
   "cell_type": "code",
   "execution_count": 196,
   "id": "4b52aa63-5950-44b1-8cc7-cb57bcc7a93e",
   "metadata": {},
   "outputs": [],
   "source": [
    "# Assuming 'SVD_Predictions' column contains predictions from your SVD model\n",
    "merged_df['Error'] = abs(merged_df['Rating'] - merged_df['SVD_Predictions'])\n"
   ]
  },
  {
   "cell_type": "code",
   "execution_count": 208,
   "id": "4102f1eb-0449-4582-9bfb-1655ffc4f439",
   "metadata": {},
   "outputs": [],
   "source": [
    "top_errors=merged_df.sort_values(by=['Error'],ascending=False).head(50)"
   ]
  },
  {
   "cell_type": "code",
   "execution_count": 258,
   "id": "d7eb9203-934f-49d7-aadc-a25bffdfdb4e",
   "metadata": {},
   "outputs": [
    {
     "data": {
      "application/vnd.plotly.v1+json": {
       "config": {
        "plotlyServerURL": "https://plot.ly"
       },
       "data": [
        {
         "alignmentgroup": "True",
         "bingroup": "x",
         "hovertemplate": "Rating=%{x}<br>count=%{y}<extra></extra>",
         "legendgroup": "",
         "marker": {
          "color": "#636efa",
          "pattern": {
           "shape": ""
          }
         },
         "name": "",
         "nbinsx": 5,
         "offsetgroup": "",
         "orientation": "v",
         "showlegend": false,
         "type": "histogram",
         "x": [
          5,
          5,
          1,
          1,
          5,
          1,
          1,
          5,
          5,
          5,
          1,
          1,
          1,
          5,
          5,
          1,
          5,
          1,
          5,
          1,
          1,
          5,
          1,
          1,
          1,
          1,
          5,
          1,
          5,
          5,
          1,
          5,
          1,
          5,
          5,
          1,
          1,
          1,
          5,
          5,
          1,
          1,
          1,
          5,
          5,
          5,
          5,
          5,
          5,
          5
         ],
         "xaxis": "x",
         "yaxis": "y"
        }
       ],
       "layout": {
        "autosize": true,
        "barmode": "relative",
        "legend": {
         "tracegroupgap": 0
        },
        "template": {
         "data": {
          "bar": [
           {
            "error_x": {
             "color": "#2a3f5f"
            },
            "error_y": {
             "color": "#2a3f5f"
            },
            "marker": {
             "line": {
              "color": "#E5ECF6",
              "width": 0.5
             },
             "pattern": {
              "fillmode": "overlay",
              "size": 10,
              "solidity": 0.2
             }
            },
            "type": "bar"
           }
          ],
          "barpolar": [
           {
            "marker": {
             "line": {
              "color": "#E5ECF6",
              "width": 0.5
             },
             "pattern": {
              "fillmode": "overlay",
              "size": 10,
              "solidity": 0.2
             }
            },
            "type": "barpolar"
           }
          ],
          "carpet": [
           {
            "aaxis": {
             "endlinecolor": "#2a3f5f",
             "gridcolor": "white",
             "linecolor": "white",
             "minorgridcolor": "white",
             "startlinecolor": "#2a3f5f"
            },
            "baxis": {
             "endlinecolor": "#2a3f5f",
             "gridcolor": "white",
             "linecolor": "white",
             "minorgridcolor": "white",
             "startlinecolor": "#2a3f5f"
            },
            "type": "carpet"
           }
          ],
          "choropleth": [
           {
            "colorbar": {
             "outlinewidth": 0,
             "ticks": ""
            },
            "type": "choropleth"
           }
          ],
          "contour": [
           {
            "colorbar": {
             "outlinewidth": 0,
             "ticks": ""
            },
            "colorscale": [
             [
              0,
              "#0d0887"
             ],
             [
              0.1111111111111111,
              "#46039f"
             ],
             [
              0.2222222222222222,
              "#7201a8"
             ],
             [
              0.3333333333333333,
              "#9c179e"
             ],
             [
              0.4444444444444444,
              "#bd3786"
             ],
             [
              0.5555555555555556,
              "#d8576b"
             ],
             [
              0.6666666666666666,
              "#ed7953"
             ],
             [
              0.7777777777777778,
              "#fb9f3a"
             ],
             [
              0.8888888888888888,
              "#fdca26"
             ],
             [
              1,
              "#f0f921"
             ]
            ],
            "type": "contour"
           }
          ],
          "contourcarpet": [
           {
            "colorbar": {
             "outlinewidth": 0,
             "ticks": ""
            },
            "type": "contourcarpet"
           }
          ],
          "heatmap": [
           {
            "colorbar": {
             "outlinewidth": 0,
             "ticks": ""
            },
            "colorscale": [
             [
              0,
              "#0d0887"
             ],
             [
              0.1111111111111111,
              "#46039f"
             ],
             [
              0.2222222222222222,
              "#7201a8"
             ],
             [
              0.3333333333333333,
              "#9c179e"
             ],
             [
              0.4444444444444444,
              "#bd3786"
             ],
             [
              0.5555555555555556,
              "#d8576b"
             ],
             [
              0.6666666666666666,
              "#ed7953"
             ],
             [
              0.7777777777777778,
              "#fb9f3a"
             ],
             [
              0.8888888888888888,
              "#fdca26"
             ],
             [
              1,
              "#f0f921"
             ]
            ],
            "type": "heatmap"
           }
          ],
          "heatmapgl": [
           {
            "colorbar": {
             "outlinewidth": 0,
             "ticks": ""
            },
            "colorscale": [
             [
              0,
              "#0d0887"
             ],
             [
              0.1111111111111111,
              "#46039f"
             ],
             [
              0.2222222222222222,
              "#7201a8"
             ],
             [
              0.3333333333333333,
              "#9c179e"
             ],
             [
              0.4444444444444444,
              "#bd3786"
             ],
             [
              0.5555555555555556,
              "#d8576b"
             ],
             [
              0.6666666666666666,
              "#ed7953"
             ],
             [
              0.7777777777777778,
              "#fb9f3a"
             ],
             [
              0.8888888888888888,
              "#fdca26"
             ],
             [
              1,
              "#f0f921"
             ]
            ],
            "type": "heatmapgl"
           }
          ],
          "histogram": [
           {
            "marker": {
             "pattern": {
              "fillmode": "overlay",
              "size": 10,
              "solidity": 0.2
             }
            },
            "type": "histogram"
           }
          ],
          "histogram2d": [
           {
            "colorbar": {
             "outlinewidth": 0,
             "ticks": ""
            },
            "colorscale": [
             [
              0,
              "#0d0887"
             ],
             [
              0.1111111111111111,
              "#46039f"
             ],
             [
              0.2222222222222222,
              "#7201a8"
             ],
             [
              0.3333333333333333,
              "#9c179e"
             ],
             [
              0.4444444444444444,
              "#bd3786"
             ],
             [
              0.5555555555555556,
              "#d8576b"
             ],
             [
              0.6666666666666666,
              "#ed7953"
             ],
             [
              0.7777777777777778,
              "#fb9f3a"
             ],
             [
              0.8888888888888888,
              "#fdca26"
             ],
             [
              1,
              "#f0f921"
             ]
            ],
            "type": "histogram2d"
           }
          ],
          "histogram2dcontour": [
           {
            "colorbar": {
             "outlinewidth": 0,
             "ticks": ""
            },
            "colorscale": [
             [
              0,
              "#0d0887"
             ],
             [
              0.1111111111111111,
              "#46039f"
             ],
             [
              0.2222222222222222,
              "#7201a8"
             ],
             [
              0.3333333333333333,
              "#9c179e"
             ],
             [
              0.4444444444444444,
              "#bd3786"
             ],
             [
              0.5555555555555556,
              "#d8576b"
             ],
             [
              0.6666666666666666,
              "#ed7953"
             ],
             [
              0.7777777777777778,
              "#fb9f3a"
             ],
             [
              0.8888888888888888,
              "#fdca26"
             ],
             [
              1,
              "#f0f921"
             ]
            ],
            "type": "histogram2dcontour"
           }
          ],
          "mesh3d": [
           {
            "colorbar": {
             "outlinewidth": 0,
             "ticks": ""
            },
            "type": "mesh3d"
           }
          ],
          "parcoords": [
           {
            "line": {
             "colorbar": {
              "outlinewidth": 0,
              "ticks": ""
             }
            },
            "type": "parcoords"
           }
          ],
          "pie": [
           {
            "automargin": true,
            "type": "pie"
           }
          ],
          "scatter": [
           {
            "fillpattern": {
             "fillmode": "overlay",
             "size": 10,
             "solidity": 0.2
            },
            "type": "scatter"
           }
          ],
          "scatter3d": [
           {
            "line": {
             "colorbar": {
              "outlinewidth": 0,
              "ticks": ""
             }
            },
            "marker": {
             "colorbar": {
              "outlinewidth": 0,
              "ticks": ""
             }
            },
            "type": "scatter3d"
           }
          ],
          "scattercarpet": [
           {
            "marker": {
             "colorbar": {
              "outlinewidth": 0,
              "ticks": ""
             }
            },
            "type": "scattercarpet"
           }
          ],
          "scattergeo": [
           {
            "marker": {
             "colorbar": {
              "outlinewidth": 0,
              "ticks": ""
             }
            },
            "type": "scattergeo"
           }
          ],
          "scattergl": [
           {
            "marker": {
             "colorbar": {
              "outlinewidth": 0,
              "ticks": ""
             }
            },
            "type": "scattergl"
           }
          ],
          "scattermapbox": [
           {
            "marker": {
             "colorbar": {
              "outlinewidth": 0,
              "ticks": ""
             }
            },
            "type": "scattermapbox"
           }
          ],
          "scatterpolar": [
           {
            "marker": {
             "colorbar": {
              "outlinewidth": 0,
              "ticks": ""
             }
            },
            "type": "scatterpolar"
           }
          ],
          "scatterpolargl": [
           {
            "marker": {
             "colorbar": {
              "outlinewidth": 0,
              "ticks": ""
             }
            },
            "type": "scatterpolargl"
           }
          ],
          "scatterternary": [
           {
            "marker": {
             "colorbar": {
              "outlinewidth": 0,
              "ticks": ""
             }
            },
            "type": "scatterternary"
           }
          ],
          "surface": [
           {
            "colorbar": {
             "outlinewidth": 0,
             "ticks": ""
            },
            "colorscale": [
             [
              0,
              "#0d0887"
             ],
             [
              0.1111111111111111,
              "#46039f"
             ],
             [
              0.2222222222222222,
              "#7201a8"
             ],
             [
              0.3333333333333333,
              "#9c179e"
             ],
             [
              0.4444444444444444,
              "#bd3786"
             ],
             [
              0.5555555555555556,
              "#d8576b"
             ],
             [
              0.6666666666666666,
              "#ed7953"
             ],
             [
              0.7777777777777778,
              "#fb9f3a"
             ],
             [
              0.8888888888888888,
              "#fdca26"
             ],
             [
              1,
              "#f0f921"
             ]
            ],
            "type": "surface"
           }
          ],
          "table": [
           {
            "cells": {
             "fill": {
              "color": "#EBF0F8"
             },
             "line": {
              "color": "white"
             }
            },
            "header": {
             "fill": {
              "color": "#C8D4E3"
             },
             "line": {
              "color": "white"
             }
            },
            "type": "table"
           }
          ]
         },
         "layout": {
          "annotationdefaults": {
           "arrowcolor": "#2a3f5f",
           "arrowhead": 0,
           "arrowwidth": 1
          },
          "autotypenumbers": "strict",
          "coloraxis": {
           "colorbar": {
            "outlinewidth": 0,
            "ticks": ""
           }
          },
          "colorscale": {
           "diverging": [
            [
             0,
             "#8e0152"
            ],
            [
             0.1,
             "#c51b7d"
            ],
            [
             0.2,
             "#de77ae"
            ],
            [
             0.3,
             "#f1b6da"
            ],
            [
             0.4,
             "#fde0ef"
            ],
            [
             0.5,
             "#f7f7f7"
            ],
            [
             0.6,
             "#e6f5d0"
            ],
            [
             0.7,
             "#b8e186"
            ],
            [
             0.8,
             "#7fbc41"
            ],
            [
             0.9,
             "#4d9221"
            ],
            [
             1,
             "#276419"
            ]
           ],
           "sequential": [
            [
             0,
             "#0d0887"
            ],
            [
             0.1111111111111111,
             "#46039f"
            ],
            [
             0.2222222222222222,
             "#7201a8"
            ],
            [
             0.3333333333333333,
             "#9c179e"
            ],
            [
             0.4444444444444444,
             "#bd3786"
            ],
            [
             0.5555555555555556,
             "#d8576b"
            ],
            [
             0.6666666666666666,
             "#ed7953"
            ],
            [
             0.7777777777777778,
             "#fb9f3a"
            ],
            [
             0.8888888888888888,
             "#fdca26"
            ],
            [
             1,
             "#f0f921"
            ]
           ],
           "sequentialminus": [
            [
             0,
             "#0d0887"
            ],
            [
             0.1111111111111111,
             "#46039f"
            ],
            [
             0.2222222222222222,
             "#7201a8"
            ],
            [
             0.3333333333333333,
             "#9c179e"
            ],
            [
             0.4444444444444444,
             "#bd3786"
            ],
            [
             0.5555555555555556,
             "#d8576b"
            ],
            [
             0.6666666666666666,
             "#ed7953"
            ],
            [
             0.7777777777777778,
             "#fb9f3a"
            ],
            [
             0.8888888888888888,
             "#fdca26"
            ],
            [
             1,
             "#f0f921"
            ]
           ]
          },
          "colorway": [
           "#636efa",
           "#EF553B",
           "#00cc96",
           "#ab63fa",
           "#FFA15A",
           "#19d3f3",
           "#FF6692",
           "#B6E880",
           "#FF97FF",
           "#FECB52"
          ],
          "font": {
           "color": "#2a3f5f"
          },
          "geo": {
           "bgcolor": "white",
           "lakecolor": "white",
           "landcolor": "#E5ECF6",
           "showlakes": true,
           "showland": true,
           "subunitcolor": "white"
          },
          "hoverlabel": {
           "align": "left"
          },
          "hovermode": "closest",
          "mapbox": {
           "style": "light"
          },
          "paper_bgcolor": "white",
          "plot_bgcolor": "#E5ECF6",
          "polar": {
           "angularaxis": {
            "gridcolor": "white",
            "linecolor": "white",
            "ticks": ""
           },
           "bgcolor": "#E5ECF6",
           "radialaxis": {
            "gridcolor": "white",
            "linecolor": "white",
            "ticks": ""
           }
          },
          "scene": {
           "xaxis": {
            "backgroundcolor": "#E5ECF6",
            "gridcolor": "white",
            "gridwidth": 2,
            "linecolor": "white",
            "showbackground": true,
            "ticks": "",
            "zerolinecolor": "white"
           },
           "yaxis": {
            "backgroundcolor": "#E5ECF6",
            "gridcolor": "white",
            "gridwidth": 2,
            "linecolor": "white",
            "showbackground": true,
            "ticks": "",
            "zerolinecolor": "white"
           },
           "zaxis": {
            "backgroundcolor": "#E5ECF6",
            "gridcolor": "white",
            "gridwidth": 2,
            "linecolor": "white",
            "showbackground": true,
            "ticks": "",
            "zerolinecolor": "white"
           }
          },
          "shapedefaults": {
           "line": {
            "color": "#2a3f5f"
           }
          },
          "ternary": {
           "aaxis": {
            "gridcolor": "white",
            "linecolor": "white",
            "ticks": ""
           },
           "baxis": {
            "gridcolor": "white",
            "linecolor": "white",
            "ticks": ""
           },
           "bgcolor": "#E5ECF6",
           "caxis": {
            "gridcolor": "white",
            "linecolor": "white",
            "ticks": ""
           }
          },
          "title": {
           "x": 0.05
          },
          "xaxis": {
           "automargin": true,
           "gridcolor": "white",
           "linecolor": "white",
           "ticks": "",
           "title": {
            "standoff": 15
           },
           "zerolinecolor": "white",
           "zerolinewidth": 2
          },
          "yaxis": {
           "automargin": true,
           "gridcolor": "white",
           "linecolor": "white",
           "ticks": "",
           "title": {
            "standoff": 15
           },
           "zerolinecolor": "white",
           "zerolinewidth": 2
          }
         }
        },
        "title": {
         "text": "Distribution of Errors Based on Rating"
        },
        "xaxis": {
         "anchor": "y",
         "autorange": true,
         "domain": [
          0,
          1
         ],
         "range": [
          0.5,
          5.5
         ],
         "title": {
          "text": "Rating"
         },
         "type": "linear"
        },
        "yaxis": {
         "anchor": "x",
         "autorange": true,
         "domain": [
          0,
          1
         ],
         "range": [
          0,
          27.36842105263158
         ],
         "title": {
          "text": "Frequency"
         }
        }
       }
      },
      "image/png": "[encoded data removed]",
      "text/html": [
       "<div>                            <div id=\"87ed892f-e6a1-456c-b3de-12ba51455c16\" class=\"plotly-graph-div\" style=\"height:525px; width:100%;\"></div>            <script type=\"text/javascript\">                require([\"plotly\"], function(Plotly) {                    window.PLOTLYENV=window.PLOTLYENV || {};                                    if (document.getElementById(\"87ed892f-e6a1-456c-b3de-12ba51455c16\")) {                    Plotly.newPlot(                        \"87ed892f-e6a1-456c-b3de-12ba51455c16\",                        [{\"alignmentgroup\":\"True\",\"bingroup\":\"x\",\"hovertemplate\":\"Rating=%{x}\\u003cbr\\u003ecount=%{y}\\u003cextra\\u003e\\u003c\\u002fextra\\u003e\",\"legendgroup\":\"\",\"marker\":{\"color\":\"#636efa\",\"pattern\":{\"shape\":\"\"}},\"name\":\"\",\"nbinsx\":5,\"offsetgroup\":\"\",\"orientation\":\"v\",\"showlegend\":false,\"x\":[5,5,1,1,5,1,1,5,5,5,1,1,1,5,5,1,5,1,5,1,1,5,1,1,1,1,5,1,5,5,1,5,1,5,5,1,1,1,5,5,1,1,1,5,5,5,5,5,5,5],\"xaxis\":\"x\",\"yaxis\":\"y\",\"type\":\"histogram\"}],                        {\"template\":{\"data\":{\"histogram2dcontour\":[{\"type\":\"histogram2dcontour\",\"colorbar\":{\"outlinewidth\":0,\"ticks\":\"\"},\"colorscale\":[[0.0,\"#0d0887\"],[0.1111111111111111,\"#46039f\"],[0.2222222222222222,\"#7201a8\"],[0.3333333333333333,\"#9c179e\"],[0.4444444444444444,\"#bd3786\"],[0.5555555555555556,\"#d8576b\"],[0.6666666666666666,\"#ed7953\"],[0.7777777777777778,\"#fb9f3a\"],[0.8888888888888888,\"#fdca26\"],[1.0,\"#f0f921\"]]}],\"choropleth\":[{\"type\":\"choropleth\",\"colorbar\":{\"outlinewidth\":0,\"ticks\":\"\"}}],\"histogram2d\":[{\"type\":\"histogram2d\",\"colorbar\":{\"outlinewidth\":0,\"ticks\":\"\"},\"colorscale\":[[0.0,\"#0d0887\"],[0.1111111111111111,\"#46039f\"],[0.2222222222222222,\"#7201a8\"],[0.3333333333333333,\"#9c179e\"],[0.4444444444444444,\"#bd3786\"],[0.5555555555555556,\"#d8576b\"],[0.6666666666666666,\"#ed7953\"],[0.7777777777777778,\"#fb9f3a\"],[0.8888888888888888,\"#fdca26\"],[1.0,\"#f0f921\"]]}],\"heatmap\":[{\"type\":\"heatmap\",\"colorbar\":{\"outlinewidth\":0,\"ticks\":\"\"},\"colorscale\":[[0.0,\"#0d0887\"],[0.1111111111111111,\"#46039f\"],[0.2222222222222222,\"#7201a8\"],[0.3333333333333333,\"#9c179e\"],[0.4444444444444444,\"#bd3786\"],[0.5555555555555556,\"#d8576b\"],[0.6666666666666666,\"#ed7953\"],[0.7777777777777778,\"#fb9f3a\"],[0.8888888888888888,\"#fdca26\"],[1.0,\"#f0f921\"]]}],\"heatmapgl\":[{\"type\":\"heatmapgl\",\"colorbar\":{\"outlinewidth\":0,\"ticks\":\"\"},\"colorscale\":[[0.0,\"#0d0887\"],[0.1111111111111111,\"#46039f\"],[0.2222222222222222,\"#7201a8\"],[0.3333333333333333,\"#9c179e\"],[0.4444444444444444,\"#bd3786\"],[0.5555555555555556,\"#d8576b\"],[0.6666666666666666,\"#ed7953\"],[0.7777777777777778,\"#fb9f3a\"],[0.8888888888888888,\"#fdca26\"],[1.0,\"#f0f921\"]]}],\"contourcarpet\":[{\"type\":\"contourcarpet\",\"colorbar\":{\"outlinewidth\":0,\"ticks\":\"\"}}],\"contour\":[{\"type\":\"contour\",\"colorbar\":{\"outlinewidth\":0,\"ticks\":\"\"},\"colorscale\":[[0.0,\"#0d0887\"],[0.1111111111111111,\"#46039f\"],[0.2222222222222222,\"#7201a8\"],[0.3333333333333333,\"#9c179e\"],[0.4444444444444444,\"#bd3786\"],[0.5555555555555556,\"#d8576b\"],[0.6666666666666666,\"#ed7953\"],[0.7777777777777778,\"#fb9f3a\"],[0.8888888888888888,\"#fdca26\"],[1.0,\"#f0f921\"]]}],\"surface\":[{\"type\":\"surface\",\"colorbar\":{\"outlinewidth\":0,\"ticks\":\"\"},\"colorscale\":[[0.0,\"#0d0887\"],[0.1111111111111111,\"#46039f\"],[0.2222222222222222,\"#7201a8\"],[0.3333333333333333,\"#9c179e\"],[0.4444444444444444,\"#bd3786\"],[0.5555555555555556,\"#d8576b\"],[0.6666666666666666,\"#ed7953\"],[0.7777777777777778,\"#fb9f3a\"],[0.8888888888888888,\"#fdca26\"],[1.0,\"#f0f921\"]]}],\"mesh3d\":[{\"type\":\"mesh3d\",\"colorbar\":{\"outlinewidth\":0,\"ticks\":\"\"}}],\"scatter\":[{\"fillpattern\":{\"fillmode\":\"overlay\",\"size\":10,\"solidity\":0.2},\"type\":\"scatter\"}],\"parcoords\":[{\"type\":\"parcoords\",\"line\":{\"colorbar\":{\"outlinewidth\":0,\"ticks\":\"\"}}}],\"scatterpolargl\":[{\"type\":\"scatterpolargl\",\"marker\":{\"colorbar\":{\"outlinewidth\":0,\"ticks\":\"\"}}}],\"bar\":[{\"error_x\":{\"color\":\"#2a3f5f\"},\"error_y\":{\"color\":\"#2a3f5f\"},\"marker\":{\"line\":{\"color\":\"#E5ECF6\",\"width\":0.5},\"pattern\":{\"fillmode\":\"overlay\",\"size\":10,\"solidity\":0.2}},\"type\":\"bar\"}],\"scattergeo\":[{\"type\":\"scattergeo\",\"marker\":{\"colorbar\":{\"outlinewidth\":0,\"ticks\":\"\"}}}],\"scatterpolar\":[{\"type\":\"scatterpolar\",\"marker\":{\"colorbar\":{\"outlinewidth\":0,\"ticks\":\"\"}}}],\"histogram\":[{\"marker\":{\"pattern\":{\"fillmode\":\"overlay\",\"size\":10,\"solidity\":0.2}},\"type\":\"histogram\"}],\"scattergl\":[{\"type\":\"scattergl\",\"marker\":{\"colorbar\":{\"outlinewidth\":0,\"ticks\":\"\"}}}],\"scatter3d\":[{\"type\":\"scatter3d\",\"line\":{\"colorbar\":{\"outlinewidth\":0,\"ticks\":\"\"}},\"marker\":{\"colorbar\":{\"outlinewidth\":0,\"ticks\":\"\"}}}],\"scattermapbox\":[{\"type\":\"scattermapbox\",\"marker\":{\"colorbar\":{\"outlinewidth\":0,\"ticks\":\"\"}}}],\"scatterternary\":[{\"type\":\"scatterternary\",\"marker\":{\"colorbar\":{\"outlinewidth\":0,\"ticks\":\"\"}}}],\"scattercarpet\":[{\"type\":\"scattercarpet\",\"marker\":{\"colorbar\":{\"outlinewidth\":0,\"ticks\":\"\"}}}],\"carpet\":[{\"aaxis\":{\"endlinecolor\":\"#2a3f5f\",\"gridcolor\":\"white\",\"linecolor\":\"white\",\"minorgridcolor\":\"white\",\"startlinecolor\":\"#2a3f5f\"},\"baxis\":{\"endlinecolor\":\"#2a3f5f\",\"gridcolor\":\"white\",\"linecolor\":\"white\",\"minorgridcolor\":\"white\",\"startlinecolor\":\"#2a3f5f\"},\"type\":\"carpet\"}],\"table\":[{\"cells\":{\"fill\":{\"color\":\"#EBF0F8\"},\"line\":{\"color\":\"white\"}},\"header\":{\"fill\":{\"color\":\"#C8D4E3\"},\"line\":{\"color\":\"white\"}},\"type\":\"table\"}],\"barpolar\":[{\"marker\":{\"line\":{\"color\":\"#E5ECF6\",\"width\":0.5},\"pattern\":{\"fillmode\":\"overlay\",\"size\":10,\"solidity\":0.2}},\"type\":\"barpolar\"}],\"pie\":[{\"automargin\":true,\"type\":\"pie\"}]},\"layout\":{\"autotypenumbers\":\"strict\",\"colorway\":[\"#636efa\",\"#EF553B\",\"#00cc96\",\"#ab63fa\",\"#FFA15A\",\"#19d3f3\",\"#FF6692\",\"#B6E880\",\"#FF97FF\",\"#FECB52\"],\"font\":{\"color\":\"#2a3f5f\"},\"hovermode\":\"closest\",\"hoverlabel\":{\"align\":\"left\"},\"paper_bgcolor\":\"white\",\"plot_bgcolor\":\"#E5ECF6\",\"polar\":{\"bgcolor\":\"#E5ECF6\",\"angularaxis\":{\"gridcolor\":\"white\",\"linecolor\":\"white\",\"ticks\":\"\"},\"radialaxis\":{\"gridcolor\":\"white\",\"linecolor\":\"white\",\"ticks\":\"\"}},\"ternary\":{\"bgcolor\":\"#E5ECF6\",\"aaxis\":{\"gridcolor\":\"white\",\"linecolor\":\"white\",\"ticks\":\"\"},\"baxis\":{\"gridcolor\":\"white\",\"linecolor\":\"white\",\"ticks\":\"\"},\"caxis\":{\"gridcolor\":\"white\",\"linecolor\":\"white\",\"ticks\":\"\"}},\"coloraxis\":{\"colorbar\":{\"outlinewidth\":0,\"ticks\":\"\"}},\"colorscale\":{\"sequential\":[[0.0,\"#0d0887\"],[0.1111111111111111,\"#46039f\"],[0.2222222222222222,\"#7201a8\"],[0.3333333333333333,\"#9c179e\"],[0.4444444444444444,\"#bd3786\"],[0.5555555555555556,\"#d8576b\"],[0.6666666666666666,\"#ed7953\"],[0.7777777777777778,\"#fb9f3a\"],[0.8888888888888888,\"#fdca26\"],[1.0,\"#f0f921\"]],\"sequentialminus\":[[0.0,\"#0d0887\"],[0.1111111111111111,\"#46039f\"],[0.2222222222222222,\"#7201a8\"],[0.3333333333333333,\"#9c179e\"],[0.4444444444444444,\"#bd3786\"],[0.5555555555555556,\"#d8576b\"],[0.6666666666666666,\"#ed7953\"],[0.7777777777777778,\"#fb9f3a\"],[0.8888888888888888,\"#fdca26\"],[1.0,\"#f0f921\"]],\"diverging\":[[0,\"#8e0152\"],[0.1,\"#c51b7d\"],[0.2,\"#de77ae\"],[0.3,\"#f1b6da\"],[0.4,\"#fde0ef\"],[0.5,\"#f7f7f7\"],[0.6,\"#e6f5d0\"],[0.7,\"#b8e186\"],[0.8,\"#7fbc41\"],[0.9,\"#4d9221\"],[1,\"#276419\"]]},\"xaxis\":{\"gridcolor\":\"white\",\"linecolor\":\"white\",\"ticks\":\"\",\"title\":{\"standoff\":15},\"zerolinecolor\":\"white\",\"automargin\":true,\"zerolinewidth\":2},\"yaxis\":{\"gridcolor\":\"white\",\"linecolor\":\"white\",\"ticks\":\"\",\"title\":{\"standoff\":15},\"zerolinecolor\":\"white\",\"automargin\":true,\"zerolinewidth\":2},\"scene\":{\"xaxis\":{\"backgroundcolor\":\"#E5ECF6\",\"gridcolor\":\"white\",\"linecolor\":\"white\",\"showbackground\":true,\"ticks\":\"\",\"zerolinecolor\":\"white\",\"gridwidth\":2},\"yaxis\":{\"backgroundcolor\":\"#E5ECF6\",\"gridcolor\":\"white\",\"linecolor\":\"white\",\"showbackground\":true,\"ticks\":\"\",\"zerolinecolor\":\"white\",\"gridwidth\":2},\"zaxis\":{\"backgroundcolor\":\"#E5ECF6\",\"gridcolor\":\"white\",\"linecolor\":\"white\",\"showbackground\":true,\"ticks\":\"\",\"zerolinecolor\":\"white\",\"gridwidth\":2}},\"shapedefaults\":{\"line\":{\"color\":\"#2a3f5f\"}},\"annotationdefaults\":{\"arrowcolor\":\"#2a3f5f\",\"arrowhead\":0,\"arrowwidth\":1},\"geo\":{\"bgcolor\":\"white\",\"landcolor\":\"#E5ECF6\",\"subunitcolor\":\"white\",\"showland\":true,\"showlakes\":true,\"lakecolor\":\"white\"},\"title\":{\"x\":0.05},\"mapbox\":{\"style\":\"light\"}}},\"xaxis\":{\"anchor\":\"y\",\"domain\":[0.0,1.0],\"title\":{\"text\":\"Rating\"}},\"yaxis\":{\"anchor\":\"x\",\"domain\":[0.0,1.0],\"title\":{\"text\":\"Frequency\"}},\"legend\":{\"tracegroupgap\":0},\"title\":{\"text\":\"Distribution of Errors Based on Rating\"},\"barmode\":\"relative\"},                        {\"responsive\": true}                    ).then(function(){\n",
       "                            \n",
       "var gd = document.getElementById('87ed892f-e6a1-456c-b3de-12ba51455c16');\n",
       "var x = new MutationObserver(function (mutations, observer) {{\n",
       "        var display = window.getComputedStyle(gd).display;\n",
       "        if (!display || display === 'none') {{\n",
       "            console.log([gd, 'removed!']);\n",
       "            Plotly.purge(gd);\n",
       "            observer.disconnect();\n",
       "        }}\n",
       "}});\n",
       "\n",
       "// Listen for the removal of the full notebook cells\n",
       "var notebookContainer = gd.closest('#notebook-container');\n",
       "if (notebookContainer) {{\n",
       "    x.observe(notebookContainer, {childList: true});\n",
       "}}\n",
       "\n",
       "// Listen for the clearing of the current output cell\n",
       "var outputEl = gd.closest('.output');\n",
       "if (outputEl) {{\n",
       "    x.observe(outputEl, {childList: true});\n",
       "}}\n",
       "\n",
       "                        })                };                });            </script>        </div>"
      ]
     },
     "metadata": {},
     "output_type": "display_data"
    }
   ],
   "source": [
    "fig=px.histogram(top_errors['Rating'],x='Rating',nbins=5,title='Distribution of Errors Based on Rating')\n",
    "fig.update_layout(xaxis_title='Rating',\n",
    "                 yaxis_title='Frequency')\n",
    "\n",
    "fig.show()\n"
   ]
  },
  {
   "cell_type": "markdown",
   "id": "a7ba7c87-ee1a-411b-b327-08b4f1ab42b0",
   "metadata": {},
   "source": [
    "### Based on the error, we can see that SVD model predicts extreme ratings poorly (1 and 5)\n",
    "#### it could be due to biases in the training data (e.g., fewer ratings of 1 or 5).  -- Implement bias correction or use a bias-aware matrix factorization model, which I checked the training data distribution which doesn't have data bias \n",
    "#### The model might overfit the training data, leading to poor generalization on extreme ratings (like 1 and 5).  ---Regularization"
   ]
  },
  {
   "cell_type": "code",
   "execution_count": 279,
   "id": "92321f83-58b4-499d-bcc9-191a872f0b0d",
   "metadata": {},
   "outputs": [
    {
     "data": {
      "application/vnd.plotly.v1+json": {
       "config": {
        "plotlyServerURL": "https://plot.ly"
       },
       "data": [
        {
         "alignmentgroup": "True",
         "bingroup": "x",
         "hovertemplate": "variable=Rating<br>value=%{x}<br>count=%{y}<extra></extra>",
         "legendgroup": "Rating",
         "marker": {
          "color": "#636efa",
          "pattern": {
           "shape": ""
          }
         },
         "name": "Rating",
         "offsetgroup": "Rating",
         "orientation": "v",
         "showlegend": true,
         "type": "histogram",
         "x": [
          4,
          1,
          3,
          4,
          3,
          1,
          5,
          4,
          3,
          2,
          1,
          5,
          5,
          5,
          4,
          2,
          3,
          1,
          4,
          4,
          1,
          3,
          2,
          1,
          3,
          3,
          2,
          1,
          3,
          1,
          4,
          3,
          1,
          1,
          4,
          5,
          2,
          4,
          2,
          1,
          5,
          4,
          2,
          2,
          1,
          2,
          1,
          2,
          2,
          5,
          3,
          2,
          4,
          5,
          4,
          3,
          4,
          1,
          4,
          2,
          2,
          2,
          1,
          1,
          3,
          3,
          1,
          2,
          5,
          1,
          2,
          3,
          4,
          4,
          1,
          1,
          2,
          4,
          4,
          4,
          1,
          2,
          5,
          4,
          2,
          3,
          4,
          5,
          2,
          5,
          1,
          1,
          4,
          2,
          2,
          1,
          4,
          4,
          3,
          1,
          1,
          2,
          3,
          5,
          4,
          5,
          5,
          1,
          4,
          1,
          1,
          2,
          2,
          3,
          5,
          5,
          5,
          3,
          3,
          2,
          1,
          3,
          3,
          5,
          2,
          1,
          1,
          5,
          2,
          5,
          5,
          1,
          3,
          1,
          3,
          4,
          2,
          4,
          3,
          5,
          1,
          4,
          4,
          5,
          1,
          5,
          1,
          3,
          5,
          2,
          5,
          1,
          3,
          3,
          5,
          3,
          1,
          2,
          3,
          1,
          1,
          5,
          5,
          3,
          4,
          5,
          2,
          2,
          5,
          1,
          4,
          4,
          5,
          2,
          1,
          5,
          2,
          2,
          3,
          1,
          5,
          5,
          4,
          2,
          5,
          5,
          4,
          3,
          4,
          2,
          3,
          1,
          4,
          2,
          3,
          5,
          4,
          1,
          2,
          5,
          5,
          4,
          2,
          3,
          4,
          1,
          4,
          3,
          3,
          2,
          5,
          2,
          2,
          4,
          3,
          2,
          5,
          3,
          2,
          1,
          4,
          2,
          2,
          4,
          3,
          3,
          2,
          4,
          1,
          4,
          1,
          2,
          5,
          5,
          1,
          4,
          5,
          3,
          3,
          1,
          3,
          2,
          5,
          2,
          5,
          3,
          5,
          3,
          2,
          5,
          2,
          2,
          5,
          5,
          5,
          2,
          3,
          2,
          5,
          2,
          1,
          4,
          3,
          3,
          4,
          4,
          2,
          3,
          3,
          1,
          2,
          2,
          4,
          1,
          1,
          1,
          3,
          2,
          3,
          5,
          4,
          1,
          2,
          5,
          5,
          4,
          4,
          1,
          1,
          1,
          3,
          5,
          4,
          5,
          4,
          4,
          2,
          1,
          3,
          5,
          3,
          2,
          1,
          1,
          1,
          4,
          2,
          5,
          4,
          4,
          2,
          2,
          4,
          1,
          5,
          4,
          3,
          4,
          4,
          4,
          5,
          1,
          4,
          4,
          2,
          3,
          5,
          3,
          2,
          2,
          2,
          2,
          2,
          4,
          3,
          1,
          5,
          5,
          1,
          4,
          2,
          5,
          4,
          5,
          3,
          3,
          1,
          5,
          5,
          1,
          2,
          5,
          3,
          5,
          3,
          1,
          1,
          2,
          5,
          4,
          3,
          2,
          4,
          1,
          1,
          1,
          2,
          5,
          3,
          2,
          2,
          5,
          5,
          5,
          5,
          3,
          4,
          3,
          1,
          3,
          1,
          4,
          5,
          5,
          5,
          5,
          1,
          2,
          3,
          4,
          3,
          1,
          5,
          1,
          1,
          4,
          4,
          3,
          4,
          5,
          5,
          3,
          3,
          5,
          5,
          5,
          5,
          1,
          1,
          5,
          3,
          5,
          5,
          1,
          5,
          4,
          1,
          1,
          5,
          1,
          1,
          2,
          3,
          5,
          1,
          1,
          2,
          5,
          5,
          4,
          3,
          1,
          3,
          2,
          2,
          5,
          1,
          2,
          3,
          3,
          5,
          3,
          2,
          4,
          3,
          3,
          3,
          2,
          1,
          5,
          2,
          3,
          2,
          5,
          5,
          5,
          2,
          2,
          3,
          4,
          5,
          4,
          1,
          4,
          1,
          1,
          3,
          1,
          2,
          3,
          4,
          3,
          1,
          1,
          2,
          1,
          4,
          2,
          4,
          1,
          2,
          5,
          3,
          3,
          3,
          5,
          4,
          2,
          5,
          2,
          3,
          2,
          4,
          4,
          2,
          3,
          5,
          1,
          1,
          2,
          5,
          5,
          2,
          1,
          2,
          2,
          1,
          2,
          4,
          4,
          2,
          4,
          4,
          4,
          5,
          4,
          2,
          4,
          5,
          1,
          1,
          4,
          4,
          1,
          2,
          2,
          3,
          1,
          5,
          1,
          2,
          3,
          2,
          3,
          3,
          2,
          3,
          5,
          3,
          1,
          3,
          2,
          1,
          5,
          3,
          3,
          3,
          1,
          3,
          5,
          3,
          1,
          2,
          3,
          5,
          3,
          4,
          1,
          3,
          3,
          5,
          1,
          3,
          5,
          5,
          1,
          3,
          3,
          3,
          5,
          2,
          1,
          5,
          4,
          4,
          5,
          3,
          5,
          1,
          3,
          1,
          5,
          4,
          5,
          2,
          5,
          4,
          1,
          2,
          3,
          5,
          4,
          1,
          5,
          2,
          5,
          5,
          1,
          1,
          4,
          4,
          1,
          1,
          2,
          4,
          2,
          2,
          5,
          4,
          4,
          3,
          3,
          4,
          1,
          5,
          3,
          3,
          1,
          5,
          2,
          3,
          3,
          1,
          5,
          1,
          4,
          4,
          2,
          5,
          1,
          4,
          5,
          2,
          4,
          4,
          1,
          2,
          5,
          1,
          5,
          2,
          2,
          4,
          1,
          2,
          3,
          1,
          2,
          5,
          4,
          4,
          5,
          3,
          2,
          1,
          4,
          3,
          3,
          3,
          2,
          5,
          2,
          5,
          5,
          2,
          4,
          2,
          1,
          1,
          1,
          3,
          5,
          5,
          5,
          1,
          3,
          5,
          5,
          1,
          3,
          2,
          5,
          1,
          3,
          4,
          4,
          3,
          2,
          1,
          4,
          1,
          5,
          5,
          4,
          3,
          1,
          5,
          3,
          5,
          1,
          2,
          4,
          5,
          4,
          5,
          1,
          1,
          4,
          5,
          2,
          3,
          4,
          5,
          3,
          1,
          5,
          3,
          1,
          4,
          5,
          3,
          1,
          2,
          4,
          3,
          5,
          1,
          3,
          2,
          4,
          3,
          1,
          3,
          1,
          2,
          5,
          1,
          5,
          5,
          4,
          4,
          3,
          1,
          3,
          2,
          3,
          1,
          3,
          5,
          2,
          2,
          4,
          2,
          3,
          1,
          3,
          4,
          5,
          2,
          2,
          4,
          3,
          4,
          2,
          2,
          2,
          1,
          3,
          5,
          2,
          2,
          2,
          4,
          1,
          1,
          3,
          5,
          4,
          4,
          5,
          2,
          5,
          2,
          3,
          2,
          5,
          1,
          4,
          5,
          5,
          1,
          5,
          2,
          5,
          4,
          5,
          3,
          3,
          5,
          4,
          4,
          3,
          4,
          1,
          1,
          5,
          1,
          3,
          1,
          2,
          2,
          1,
          5,
          3,
          5,
          2,
          2,
          4,
          1,
          2,
          2,
          2,
          4,
          1,
          5,
          5,
          1,
          4,
          3,
          2,
          3,
          3,
          4,
          1,
          2,
          2,
          1,
          5,
          2,
          3,
          2,
          1,
          4,
          5,
          5,
          2,
          5,
          1,
          4,
          4,
          4,
          2,
          5,
          2,
          4,
          3,
          4,
          5,
          4,
          2,
          5,
          4,
          5,
          4,
          4,
          1,
          3,
          2,
          2,
          2,
          2,
          5,
          4,
          3,
          1,
          1,
          2,
          5,
          5,
          3,
          4,
          1,
          1,
          3,
          3,
          2,
          3,
          1,
          3,
          3,
          3,
          5,
          4,
          3,
          5,
          4,
          1,
          4,
          2,
          1,
          1,
          5,
          1,
          1,
          1,
          3,
          2,
          4,
          2,
          4,
          4,
          4,
          3,
          3,
          4,
          4,
          2,
          4,
          5,
          2,
          4,
          2,
          3,
          4,
          1,
          4,
          4,
          2,
          3,
          4,
          2,
          4,
          5,
          5,
          5,
          5,
          3,
          2,
          5,
          1,
          1,
          4,
          2,
          2,
          5,
          5,
          5,
          1,
          3,
          2,
          3,
          4,
          3,
          3,
          3,
          4,
          4,
          2,
          1,
          4,
          5,
          1,
          3,
          1,
          4,
          1,
          1,
          4,
          5,
          1,
          4,
          4,
          3,
          4,
          2,
          1,
          3,
          3,
          2,
          3,
          3,
          2,
          3,
          4,
          4,
          5,
          3,
          2,
          4,
          4,
          4,
          4,
          1,
          1,
          2,
          4,
          4,
          5,
          1,
          4,
          2,
          5,
          5,
          2,
          3,
          3,
          2,
          1,
          1,
          5,
          1,
          1,
          2,
          1,
          5,
          4,
          1,
          1,
          1,
          1,
          4,
          3,
          3,
          2,
          1,
          3,
          5,
          4,
          3,
          4,
          5,
          1,
          2,
          2,
          5,
          3,
          4,
          3,
          5,
          2,
          3,
          4,
          3,
          4,
          3,
          1,
          5,
          1,
          3,
          5,
          2,
          1,
          1,
          4,
          5,
          1,
          3,
          2,
          2,
          3,
          2,
          1,
          4,
          2,
          3,
          4,
          5,
          3,
          3,
          4,
          5,
          2,
          4,
          2,
          4,
          1,
          1,
          2,
          4,
          2,
          1,
          1,
          2,
          1,
          3,
          1,
          1,
          3,
          5,
          2,
          5,
          1,
          4,
          5,
          5,
          1,
          2,
          4,
          5,
          4,
          4,
          1,
          2,
          2,
          3,
          3,
          1,
          4,
          1,
          4,
          5,
          5,
          2,
          1,
          4,
          1,
          5,
          4,
          1,
          5,
          5,
          1,
          4,
          3,
          4,
          4,
          3,
          1,
          2,
          3,
          5,
          4,
          1,
          1,
          2,
          4,
          3,
          1,
          1,
          2,
          4,
          1,
          3,
          1,
          5,
          3,
          5,
          1,
          4,
          5,
          1,
          4,
          4,
          1,
          1,
          3,
          5,
          5,
          1,
          2,
          5,
          1,
          2,
          5,
          5,
          4,
          4,
          5,
          2,
          4,
          3,
          5,
          3,
          3,
          4,
          5,
          2,
          2,
          1,
          2,
          1,
          4,
          3,
          3,
          3,
          2,
          3,
          5,
          1,
          1,
          2,
          1,
          3,
          5,
          3,
          5,
          3,
          2,
          1,
          1,
          4,
          1,
          4,
          1,
          2,
          1,
          5,
          2,
          2,
          2,
          4,
          4,
          3,
          4,
          2,
          4,
          4,
          3,
          1,
          4,
          1,
          2,
          4,
          3,
          2,
          5,
          4,
          5,
          4,
          1,
          4,
          3,
          4,
          2,
          4,
          3,
          5,
          1,
          3,
          1,
          3,
          2,
          5,
          2,
          5,
          1,
          2,
          1,
          3,
          3,
          4,
          5,
          1,
          4,
          1,
          2,
          4,
          5,
          4,
          1,
          3,
          2,
          1,
          2,
          5,
          4,
          5,
          4,
          4,
          4,
          2,
          4,
          1,
          3,
          4,
          1,
          4,
          2,
          5,
          4,
          5,
          1,
          2,
          2,
          1,
          2,
          5,
          5,
          3,
          2,
          5,
          1,
          4,
          1,
          2,
          3,
          4,
          2,
          1,
          1,
          3,
          2,
          5,
          2,
          2,
          3,
          5,
          3,
          1,
          3,
          5,
          5,
          1,
          5,
          5,
          1,
          3,
          2,
          4,
          2,
          4,
          2,
          4,
          2,
          4,
          1,
          1,
          5,
          4,
          1,
          3,
          5,
          3,
          5,
          4,
          2,
          3,
          4,
          4,
          5,
          5,
          4,
          2,
          3,
          1,
          4,
          4,
          2,
          5,
          2,
          1,
          3,
          2,
          4,
          1,
          5,
          1,
          1,
          3,
          4,
          2,
          5,
          3,
          1,
          2,
          5,
          4,
          5,
          3,
          4,
          5,
          1,
          3,
          4,
          4,
          3,
          4,
          2,
          1,
          5,
          5,
          4,
          2,
          5,
          2,
          4,
          1,
          3,
          1,
          1,
          1,
          5,
          3,
          2,
          2,
          3,
          4,
          5,
          5,
          1,
          2,
          1,
          4,
          5,
          4,
          5,
          5,
          1,
          1,
          2,
          4,
          1,
          1,
          3,
          2,
          3,
          1,
          2,
          2,
          2,
          2,
          1,
          3,
          1,
          5,
          2,
          4,
          4,
          2,
          5,
          3,
          2,
          2,
          5,
          1,
          1,
          5,
          2,
          5,
          1
         ],
         "xaxis": "x",
         "yaxis": "y"
        }
       ],
       "layout": {
        "autosize": true,
        "barmode": "relative",
        "legend": {
         "title": {
          "text": "variable"
         },
         "tracegroupgap": 0
        },
        "template": {
         "data": {
          "bar": [
           {
            "error_x": {
             "color": "#2a3f5f"
            },
            "error_y": {
             "color": "#2a3f5f"
            },
            "marker": {
             "line": {
              "color": "#E5ECF6",
              "width": 0.5
             },
             "pattern": {
              "fillmode": "overlay",
              "size": 10,
              "solidity": 0.2
             }
            },
            "type": "bar"
           }
          ],
          "barpolar": [
           {
            "marker": {
             "line": {
              "color": "#E5ECF6",
              "width": 0.5
             },
             "pattern": {
              "fillmode": "overlay",
              "size": 10,
              "solidity": 0.2
             }
            },
            "type": "barpolar"
           }
          ],
          "carpet": [
           {
            "aaxis": {
             "endlinecolor": "#2a3f5f",
             "gridcolor": "white",
             "linecolor": "white",
             "minorgridcolor": "white",
             "startlinecolor": "#2a3f5f"
            },
            "baxis": {
             "endlinecolor": "#2a3f5f",
             "gridcolor": "white",
             "linecolor": "white",
             "minorgridcolor": "white",
             "startlinecolor": "#2a3f5f"
            },
            "type": "carpet"
           }
          ],
          "choropleth": [
           {
            "colorbar": {
             "outlinewidth": 0,
             "ticks": ""
            },
            "type": "choropleth"
           }
          ],
          "contour": [
           {
            "colorbar": {
             "outlinewidth": 0,
             "ticks": ""
            },
            "colorscale": [
             [
              0,
              "#0d0887"
             ],
             [
              0.1111111111111111,
              "#46039f"
             ],
             [
              0.2222222222222222,
              "#7201a8"
             ],
             [
              0.3333333333333333,
              "#9c179e"
             ],
             [
              0.4444444444444444,
              "#bd3786"
             ],
             [
              0.5555555555555556,
              "#d8576b"
             ],
             [
              0.6666666666666666,
              "#ed7953"
             ],
             [
              0.7777777777777778,
              "#fb9f3a"
             ],
             [
              0.8888888888888888,
              "#fdca26"
             ],
             [
              1,
              "#f0f921"
             ]
            ],
            "type": "contour"
           }
          ],
          "contourcarpet": [
           {
            "colorbar": {
             "outlinewidth": 0,
             "ticks": ""
            },
            "type": "contourcarpet"
           }
          ],
          "heatmap": [
           {
            "colorbar": {
             "outlinewidth": 0,
             "ticks": ""
            },
            "colorscale": [
             [
              0,
              "#0d0887"
             ],
             [
              0.1111111111111111,
              "#46039f"
             ],
             [
              0.2222222222222222,
              "#7201a8"
             ],
             [
              0.3333333333333333,
              "#9c179e"
             ],
             [
              0.4444444444444444,
              "#bd3786"
             ],
             [
              0.5555555555555556,
              "#d8576b"
             ],
             [
              0.6666666666666666,
              "#ed7953"
             ],
             [
              0.7777777777777778,
              "#fb9f3a"
             ],
             [
              0.8888888888888888,
              "#fdca26"
             ],
             [
              1,
              "#f0f921"
             ]
            ],
            "type": "heatmap"
           }
          ],
          "heatmapgl": [
           {
            "colorbar": {
             "outlinewidth": 0,
             "ticks": ""
            },
            "colorscale": [
             [
              0,
              "#0d0887"
             ],
             [
              0.1111111111111111,
              "#46039f"
             ],
             [
              0.2222222222222222,
              "#7201a8"
             ],
             [
              0.3333333333333333,
              "#9c179e"
             ],
             [
              0.4444444444444444,
              "#bd3786"
             ],
             [
              0.5555555555555556,
              "#d8576b"
             ],
             [
              0.6666666666666666,
              "#ed7953"
             ],
             [
              0.7777777777777778,
              "#fb9f3a"
             ],
             [
              0.8888888888888888,
              "#fdca26"
             ],
             [
              1,
              "#f0f921"
             ]
            ],
            "type": "heatmapgl"
           }
          ],
          "histogram": [
           {
            "marker": {
             "pattern": {
              "fillmode": "overlay",
              "size": 10,
              "solidity": 0.2
             }
            },
            "type": "histogram"
           }
          ],
          "histogram2d": [
           {
            "colorbar": {
             "outlinewidth": 0,
             "ticks": ""
            },
            "colorscale": [
             [
              0,
              "#0d0887"
             ],
             [
              0.1111111111111111,
              "#46039f"
             ],
             [
              0.2222222222222222,
              "#7201a8"
             ],
             [
              0.3333333333333333,
              "#9c179e"
             ],
             [
              0.4444444444444444,
              "#bd3786"
             ],
             [
              0.5555555555555556,
              "#d8576b"
             ],
             [
              0.6666666666666666,
              "#ed7953"
             ],
             [
              0.7777777777777778,
              "#fb9f3a"
             ],
             [
              0.8888888888888888,
              "#fdca26"
             ],
             [
              1,
              "#f0f921"
             ]
            ],
            "type": "histogram2d"
           }
          ],
          "histogram2dcontour": [
           {
            "colorbar": {
             "outlinewidth": 0,
             "ticks": ""
            },
            "colorscale": [
             [
              0,
              "#0d0887"
             ],
             [
              0.1111111111111111,
              "#46039f"
             ],
             [
              0.2222222222222222,
              "#7201a8"
             ],
             [
              0.3333333333333333,
              "#9c179e"
             ],
             [
              0.4444444444444444,
              "#bd3786"
             ],
             [
              0.5555555555555556,
              "#d8576b"
             ],
             [
              0.6666666666666666,
              "#ed7953"
             ],
             [
              0.7777777777777778,
              "#fb9f3a"
             ],
             [
              0.8888888888888888,
              "#fdca26"
             ],
             [
              1,
              "#f0f921"
             ]
            ],
            "type": "histogram2dcontour"
           }
          ],
          "mesh3d": [
           {
            "colorbar": {
             "outlinewidth": 0,
             "ticks": ""
            },
            "type": "mesh3d"
           }
          ],
          "parcoords": [
           {
            "line": {
             "colorbar": {
              "outlinewidth": 0,
              "ticks": ""
             }
            },
            "type": "parcoords"
           }
          ],
          "pie": [
           {
            "automargin": true,
            "type": "pie"
           }
          ],
          "scatter": [
           {
            "fillpattern": {
             "fillmode": "overlay",
             "size": 10,
             "solidity": 0.2
            },
            "type": "scatter"
           }
          ],
          "scatter3d": [
           {
            "line": {
             "colorbar": {
              "outlinewidth": 0,
              "ticks": ""
             }
            },
            "marker": {
             "colorbar": {
              "outlinewidth": 0,
              "ticks": ""
             }
            },
            "type": "scatter3d"
           }
          ],
          "scattercarpet": [
           {
            "marker": {
             "colorbar": {
              "outlinewidth": 0,
              "ticks": ""
             }
            },
            "type": "scattercarpet"
           }
          ],
          "scattergeo": [
           {
            "marker": {
             "colorbar": {
              "outlinewidth": 0,
              "ticks": ""
             }
            },
            "type": "scattergeo"
           }
          ],
          "scattergl": [
           {
            "marker": {
             "colorbar": {
              "outlinewidth": 0,
              "ticks": ""
             }
            },
            "type": "scattergl"
           }
          ],
          "scattermapbox": [
           {
            "marker": {
             "colorbar": {
              "outlinewidth": 0,
              "ticks": ""
             }
            },
            "type": "scattermapbox"
           }
          ],
          "scatterpolar": [
           {
            "marker": {
             "colorbar": {
              "outlinewidth": 0,
              "ticks": ""
             }
            },
            "type": "scatterpolar"
           }
          ],
          "scatterpolargl": [
           {
            "marker": {
             "colorbar": {
              "outlinewidth": 0,
              "ticks": ""
             }
            },
            "type": "scatterpolargl"
           }
          ],
          "scatterternary": [
           {
            "marker": {
             "colorbar": {
              "outlinewidth": 0,
              "ticks": ""
             }
            },
            "type": "scatterternary"
           }
          ],
          "surface": [
           {
            "colorbar": {
             "outlinewidth": 0,
             "ticks": ""
            },
            "colorscale": [
             [
              0,
              "#0d0887"
             ],
             [
              0.1111111111111111,
              "#46039f"
             ],
             [
              0.2222222222222222,
              "#7201a8"
             ],
             [
              0.3333333333333333,
              "#9c179e"
             ],
             [
              0.4444444444444444,
              "#bd3786"
             ],
             [
              0.5555555555555556,
              "#d8576b"
             ],
             [
              0.6666666666666666,
              "#ed7953"
             ],
             [
              0.7777777777777778,
              "#fb9f3a"
             ],
             [
              0.8888888888888888,
              "#fdca26"
             ],
             [
              1,
              "#f0f921"
             ]
            ],
            "type": "surface"
           }
          ],
          "table": [
           {
            "cells": {
             "fill": {
              "color": "#EBF0F8"
             },
             "line": {
              "color": "white"
             }
            },
            "header": {
             "fill": {
              "color": "#C8D4E3"
             },
             "line": {
              "color": "white"
             }
            },
            "type": "table"
           }
          ]
         },
         "layout": {
          "annotationdefaults": {
           "arrowcolor": "#2a3f5f",
           "arrowhead": 0,
           "arrowwidth": 1
          },
          "autotypenumbers": "strict",
          "coloraxis": {
           "colorbar": {
            "outlinewidth": 0,
            "ticks": ""
           }
          },
          "colorscale": {
           "diverging": [
            [
             0,
             "#8e0152"
            ],
            [
             0.1,
             "#c51b7d"
            ],
            [
             0.2,
             "#de77ae"
            ],
            [
             0.3,
             "#f1b6da"
            ],
            [
             0.4,
             "#fde0ef"
            ],
            [
             0.5,
             "#f7f7f7"
            ],
            [
             0.6,
             "#e6f5d0"
            ],
            [
             0.7,
             "#b8e186"
            ],
            [
             0.8,
             "#7fbc41"
            ],
            [
             0.9,
             "#4d9221"
            ],
            [
             1,
             "#276419"
            ]
           ],
           "sequential": [
            [
             0,
             "#0d0887"
            ],
            [
             0.1111111111111111,
             "#46039f"
            ],
            [
             0.2222222222222222,
             "#7201a8"
            ],
            [
             0.3333333333333333,
             "#9c179e"
            ],
            [
             0.4444444444444444,
             "#bd3786"
            ],
            [
             0.5555555555555556,
             "#d8576b"
            ],
            [
             0.6666666666666666,
             "#ed7953"
            ],
            [
             0.7777777777777778,
             "#fb9f3a"
            ],
            [
             0.8888888888888888,
             "#fdca26"
            ],
            [
             1,
             "#f0f921"
            ]
           ],
           "sequentialminus": [
            [
             0,
             "#0d0887"
            ],
            [
             0.1111111111111111,
             "#46039f"
            ],
            [
             0.2222222222222222,
             "#7201a8"
            ],
            [
             0.3333333333333333,
             "#9c179e"
            ],
            [
             0.4444444444444444,
             "#bd3786"
            ],
            [
             0.5555555555555556,
             "#d8576b"
            ],
            [
             0.6666666666666666,
             "#ed7953"
            ],
            [
             0.7777777777777778,
             "#fb9f3a"
            ],
            [
             0.8888888888888888,
             "#fdca26"
            ],
            [
             1,
             "#f0f921"
            ]
           ]
          },
          "colorway": [
           "#636efa",
           "#EF553B",
           "#00cc96",
           "#ab63fa",
           "#FFA15A",
           "#19d3f3",
           "#FF6692",
           "#B6E880",
           "#FF97FF",
           "#FECB52"
          ],
          "font": {
           "color": "#2a3f5f"
          },
          "geo": {
           "bgcolor": "white",
           "lakecolor": "white",
           "landcolor": "#E5ECF6",
           "showlakes": true,
           "showland": true,
           "subunitcolor": "white"
          },
          "hoverlabel": {
           "align": "left"
          },
          "hovermode": "closest",
          "mapbox": {
           "style": "light"
          },
          "paper_bgcolor": "white",
          "plot_bgcolor": "#E5ECF6",
          "polar": {
           "angularaxis": {
            "gridcolor": "white",
            "linecolor": "white",
            "ticks": ""
           },
           "bgcolor": "#E5ECF6",
           "radialaxis": {
            "gridcolor": "white",
            "linecolor": "white",
            "ticks": ""
           }
          },
          "scene": {
           "xaxis": {
            "backgroundcolor": "#E5ECF6",
            "gridcolor": "white",
            "gridwidth": 2,
            "linecolor": "white",
            "showbackground": true,
            "ticks": "",
            "zerolinecolor": "white"
           },
           "yaxis": {
            "backgroundcolor": "#E5ECF6",
            "gridcolor": "white",
            "gridwidth": 2,
            "linecolor": "white",
            "showbackground": true,
            "ticks": "",
            "zerolinecolor": "white"
           },
           "zaxis": {
            "backgroundcolor": "#E5ECF6",
            "gridcolor": "white",
            "gridwidth": 2,
            "linecolor": "white",
            "showbackground": true,
            "ticks": "",
            "zerolinecolor": "white"
           }
          },
          "shapedefaults": {
           "line": {
            "color": "#2a3f5f"
           }
          },
          "ternary": {
           "aaxis": {
            "gridcolor": "white",
            "linecolor": "white",
            "ticks": ""
           },
           "baxis": {
            "gridcolor": "white",
            "linecolor": "white",
            "ticks": ""
           },
           "bgcolor": "#E5ECF6",
           "caxis": {
            "gridcolor": "white",
            "linecolor": "white",
            "ticks": ""
           }
          },
          "title": {
           "x": 0.05
          },
          "xaxis": {
           "automargin": true,
           "gridcolor": "white",
           "linecolor": "white",
           "ticks": "",
           "title": {
            "standoff": 15
           },
           "zerolinecolor": "white",
           "zerolinewidth": 2
          },
          "yaxis": {
           "automargin": true,
           "gridcolor": "white",
           "linecolor": "white",
           "ticks": "",
           "title": {
            "standoff": 15
           },
           "zerolinecolor": "white",
           "zerolinewidth": 2
          }
         }
        },
        "title": {
         "text": "Distribution of Rating of Training Data"
        },
        "xaxis": {
         "anchor": "y",
         "autorange": true,
         "domain": [
          0,
          1
         ],
         "range": [
          0.5,
          5.5
         ],
         "title": {
          "text": "Rating"
         },
         "type": "linear"
        },
        "yaxis": {
         "anchor": "x",
         "autorange": true,
         "domain": [
          0,
          1
         ],
         "range": [
          0,
          323.1578947368421
         ],
         "title": {
          "text": "Frequency"
         }
        }
       }
      },
      "image/png": "[encoded data removed]",
      "text/html": [
       "<div>                            <div id=\"4b156285-dc00-4d62-a8d6-05468c326f68\" class=\"plotly-graph-div\" style=\"height:525px; width:100%;\"></div>            <script type=\"text/javascript\">                require([\"plotly\"], function(Plotly) {                    window.PLOTLYENV=window.PLOTLYENV || {};                                    if (document.getElementById(\"4b156285-dc00-4d62-a8d6-05468c326f68\")) {                    Plotly.newPlot(                        \"4b156285-dc00-4d62-a8d6-05468c326f68\",                        [{\"alignmentgroup\":\"True\",\"bingroup\":\"x\",\"hovertemplate\":\"variable=Rating\\u003cbr\\u003evalue=%{x}\\u003cbr\\u003ecount=%{y}\\u003cextra\\u003e\\u003c\\u002fextra\\u003e\",\"legendgroup\":\"Rating\",\"marker\":{\"color\":\"#636efa\",\"pattern\":{\"shape\":\"\"}},\"name\":\"Rating\",\"offsetgroup\":\"Rating\",\"orientation\":\"v\",\"showlegend\":true,\"x\":[4,1,3,4,3,1,5,4,3,2,1,5,5,5,4,2,3,1,4,4,1,3,2,1,3,3,2,1,3,1,4,3,1,1,4,5,2,4,2,1,5,4,2,2,1,2,1,2,2,5,3,2,4,5,4,3,4,1,4,2,2,2,1,1,3,3,1,2,5,1,2,3,4,4,1,1,2,4,4,4,1,2,5,4,2,3,4,5,2,5,1,1,4,2,2,1,4,4,3,1,1,2,3,5,4,5,5,1,4,1,1,2,2,3,5,5,5,3,3,2,1,3,3,5,2,1,1,5,2,5,5,1,3,1,3,4,2,4,3,5,1,4,4,5,1,5,1,3,5,2,5,1,3,3,5,3,1,2,3,1,1,5,5,3,4,5,2,2,5,1,4,4,5,2,1,5,2,2,3,1,5,5,4,2,5,5,4,3,4,2,3,1,4,2,3,5,4,1,2,5,5,4,2,3,4,1,4,3,3,2,5,2,2,4,3,2,5,3,2,1,4,2,2,4,3,3,2,4,1,4,1,2,5,5,1,4,5,3,3,1,3,2,5,2,5,3,5,3,2,5,2,2,5,5,5,2,3,2,5,2,1,4,3,3,4,4,2,3,3,1,2,2,4,1,1,1,3,2,3,5,4,1,2,5,5,4,4,1,1,1,3,5,4,5,4,4,2,1,3,5,3,2,1,1,1,4,2,5,4,4,2,2,4,1,5,4,3,4,4,4,5,1,4,4,2,3,5,3,2,2,2,2,2,4,3,1,5,5,1,4,2,5,4,5,3,3,1,5,5,1,2,5,3,5,3,1,1,2,5,4,3,2,4,1,1,1,2,5,3,2,2,5,5,5,5,3,4,3,1,3,1,4,5,5,5,5,1,2,3,4,3,1,5,1,1,4,4,3,4,5,5,3,3,5,5,5,5,1,1,5,3,5,5,1,5,4,1,1,5,1,1,2,3,5,1,1,2,5,5,4,3,1,3,2,2,5,1,2,3,3,5,3,2,4,3,3,3,2,1,5,2,3,2,5,5,5,2,2,3,4,5,4,1,4,1,1,3,1,2,3,4,3,1,1,2,1,4,2,4,1,2,5,3,3,3,5,4,2,5,2,3,2,4,4,2,3,5,1,1,2,5,5,2,1,2,2,1,2,4,4,2,4,4,4,5,4,2,4,5,1,1,4,4,1,2,2,3,1,5,1,2,3,2,3,3,2,3,5,3,1,3,2,1,5,3,3,3,1,3,5,3,1,2,3,5,3,4,1,3,3,5,1,3,5,5,1,3,3,3,5,2,1,5,4,4,5,3,5,1,3,1,5,4,5,2,5,4,1,2,3,5,4,1,5,2,5,5,1,1,4,4,1,1,2,4,2,2,5,4,4,3,3,4,1,5,3,3,1,5,2,3,3,1,5,1,4,4,2,5,1,4,5,2,4,4,1,2,5,1,5,2,2,4,1,2,3,1,2,5,4,4,5,3,2,1,4,3,3,3,2,5,2,5,5,2,4,2,1,1,1,3,5,5,5,1,3,5,5,1,3,2,5,1,3,4,4,3,2,1,4,1,5,5,4,3,1,5,3,5,1,2,4,5,4,5,1,1,4,5,2,3,4,5,3,1,5,3,1,4,5,3,1,2,4,3,5,1,3,2,4,3,1,3,1,2,5,1,5,5,4,4,3,1,3,2,3,1,3,5,2,2,4,2,3,1,3,4,5,2,2,4,3,4,2,2,2,1,3,5,2,2,2,4,1,1,3,5,4,4,5,2,5,2,3,2,5,1,4,5,5,1,5,2,5,4,5,3,3,5,4,4,3,4,1,1,5,1,3,1,2,2,1,5,3,5,2,2,4,1,2,2,2,4,1,5,5,1,4,3,2,3,3,4,1,2,2,1,5,2,3,2,1,4,5,5,2,5,1,4,4,4,2,5,2,4,3,4,5,4,2,5,4,5,4,4,1,3,2,2,2,2,5,4,3,1,1,2,5,5,3,4,1,1,3,3,2,3,1,3,3,3,5,4,3,5,4,1,4,2,1,1,5,1,1,1,3,2,4,2,4,4,4,3,3,4,4,2,4,5,2,4,2,3,4,1,4,4,2,3,4,2,4,5,5,5,5,3,2,5,1,1,4,2,2,5,5,5,1,3,2,3,4,3,3,3,4,4,2,1,4,5,1,3,1,4,1,1,4,5,1,4,4,3,4,2,1,3,3,2,3,3,2,3,4,4,5,3,2,4,4,4,4,1,1,2,4,4,5,1,4,2,5,5,2,3,3,2,1,1,5,1,1,2,1,5,4,1,1,1,1,4,3,3,2,1,3,5,4,3,4,5,1,2,2,5,3,4,3,5,2,3,4,3,4,3,1,5,1,3,5,2,1,1,4,5,1,3,2,2,3,2,1,4,2,3,4,5,3,3,4,5,2,4,2,4,1,1,2,4,2,1,1,2,1,3,1,1,3,5,2,5,1,4,5,5,1,2,4,5,4,4,1,2,2,3,3,1,4,1,4,5,5,2,1,4,1,5,4,1,5,5,1,4,3,4,4,3,1,2,3,5,4,1,1,2,4,3,1,1,2,4,1,3,1,5,3,5,1,4,5,1,4,4,1,1,3,5,5,1,2,5,1,2,5,5,4,4,5,2,4,3,5,3,3,4,5,2,2,1,2,1,4,3,3,3,2,3,5,1,1,2,1,3,5,3,5,3,2,1,1,4,1,4,1,2,1,5,2,2,2,4,4,3,4,2,4,4,3,1,4,1,2,4,3,2,5,4,5,4,1,4,3,4,2,4,3,5,1,3,1,3,2,5,2,5,1,2,1,3,3,4,5,1,4,1,2,4,5,4,1,3,2,1,2,5,4,5,4,4,4,2,4,1,3,4,1,4,2,5,4,5,1,2,2,1,2,5,5,3,2,5,1,4,1,2,3,4,2,1,1,3,2,5,2,2,3,5,3,1,3,5,5,1,5,5,1,3,2,4,2,4,2,4,2,4,1,1,5,4,1,3,5,3,5,4,2,3,4,4,5,5,4,2,3,1,4,4,2,5,2,1,3,2,4,1,5,1,1,3,4,2,5,3,1,2,5,4,5,3,4,5,1,3,4,4,3,4,2,1,5,5,4,2,5,2,4,1,3,1,1,1,5,3,2,2,3,4,5,5,1,2,1,4,5,4,5,5,1,1,2,4,1,1,3,2,3,1,2,2,2,2,1,3,1,5,2,4,4,2,5,3,2,2,5,1,1,5,2,5,1],\"xaxis\":\"x\",\"yaxis\":\"y\",\"type\":\"histogram\"}],                        {\"template\":{\"data\":{\"histogram2dcontour\":[{\"type\":\"histogram2dcontour\",\"colorbar\":{\"outlinewidth\":0,\"ticks\":\"\"},\"colorscale\":[[0.0,\"#0d0887\"],[0.1111111111111111,\"#46039f\"],[0.2222222222222222,\"#7201a8\"],[0.3333333333333333,\"#9c179e\"],[0.4444444444444444,\"#bd3786\"],[0.5555555555555556,\"#d8576b\"],[0.6666666666666666,\"#ed7953\"],[0.7777777777777778,\"#fb9f3a\"],[0.8888888888888888,\"#fdca26\"],[1.0,\"#f0f921\"]]}],\"choropleth\":[{\"type\":\"choropleth\",\"colorbar\":{\"outlinewidth\":0,\"ticks\":\"\"}}],\"histogram2d\":[{\"type\":\"histogram2d\",\"colorbar\":{\"outlinewidth\":0,\"ticks\":\"\"},\"colorscale\":[[0.0,\"#0d0887\"],[0.1111111111111111,\"#46039f\"],[0.2222222222222222,\"#7201a8\"],[0.3333333333333333,\"#9c179e\"],[0.4444444444444444,\"#bd3786\"],[0.5555555555555556,\"#d8576b\"],[0.6666666666666666,\"#ed7953\"],[0.7777777777777778,\"#fb9f3a\"],[0.8888888888888888,\"#fdca26\"],[1.0,\"#f0f921\"]]}],\"heatmap\":[{\"type\":\"heatmap\",\"colorbar\":{\"outlinewidth\":0,\"ticks\":\"\"},\"colorscale\":[[0.0,\"#0d0887\"],[0.1111111111111111,\"#46039f\"],[0.2222222222222222,\"#7201a8\"],[0.3333333333333333,\"#9c179e\"],[0.4444444444444444,\"#bd3786\"],[0.5555555555555556,\"#d8576b\"],[0.6666666666666666,\"#ed7953\"],[0.7777777777777778,\"#fb9f3a\"],[0.8888888888888888,\"#fdca26\"],[1.0,\"#f0f921\"]]}],\"heatmapgl\":[{\"type\":\"heatmapgl\",\"colorbar\":{\"outlinewidth\":0,\"ticks\":\"\"},\"colorscale\":[[0.0,\"#0d0887\"],[0.1111111111111111,\"#46039f\"],[0.2222222222222222,\"#7201a8\"],[0.3333333333333333,\"#9c179e\"],[0.4444444444444444,\"#bd3786\"],[0.5555555555555556,\"#d8576b\"],[0.6666666666666666,\"#ed7953\"],[0.7777777777777778,\"#fb9f3a\"],[0.8888888888888888,\"#fdca26\"],[1.0,\"#f0f921\"]]}],\"contourcarpet\":[{\"type\":\"contourcarpet\",\"colorbar\":{\"outlinewidth\":0,\"ticks\":\"\"}}],\"contour\":[{\"type\":\"contour\",\"colorbar\":{\"outlinewidth\":0,\"ticks\":\"\"},\"colorscale\":[[0.0,\"#0d0887\"],[0.1111111111111111,\"#46039f\"],[0.2222222222222222,\"#7201a8\"],[0.3333333333333333,\"#9c179e\"],[0.4444444444444444,\"#bd3786\"],[0.5555555555555556,\"#d8576b\"],[0.6666666666666666,\"#ed7953\"],[0.7777777777777778,\"#fb9f3a\"],[0.8888888888888888,\"#fdca26\"],[1.0,\"#f0f921\"]]}],\"surface\":[{\"type\":\"surface\",\"colorbar\":{\"outlinewidth\":0,\"ticks\":\"\"},\"colorscale\":[[0.0,\"#0d0887\"],[0.1111111111111111,\"#46039f\"],[0.2222222222222222,\"#7201a8\"],[0.3333333333333333,\"#9c179e\"],[0.4444444444444444,\"#bd3786\"],[0.5555555555555556,\"#d8576b\"],[0.6666666666666666,\"#ed7953\"],[0.7777777777777778,\"#fb9f3a\"],[0.8888888888888888,\"#fdca26\"],[1.0,\"#f0f921\"]]}],\"mesh3d\":[{\"type\":\"mesh3d\",\"colorbar\":{\"outlinewidth\":0,\"ticks\":\"\"}}],\"scatter\":[{\"fillpattern\":{\"fillmode\":\"overlay\",\"size\":10,\"solidity\":0.2},\"type\":\"scatter\"}],\"parcoords\":[{\"type\":\"parcoords\",\"line\":{\"colorbar\":{\"outlinewidth\":0,\"ticks\":\"\"}}}],\"scatterpolargl\":[{\"type\":\"scatterpolargl\",\"marker\":{\"colorbar\":{\"outlinewidth\":0,\"ticks\":\"\"}}}],\"bar\":[{\"error_x\":{\"color\":\"#2a3f5f\"},\"error_y\":{\"color\":\"#2a3f5f\"},\"marker\":{\"line\":{\"color\":\"#E5ECF6\",\"width\":0.5},\"pattern\":{\"fillmode\":\"overlay\",\"size\":10,\"solidity\":0.2}},\"type\":\"bar\"}],\"scattergeo\":[{\"type\":\"scattergeo\",\"marker\":{\"colorbar\":{\"outlinewidth\":0,\"ticks\":\"\"}}}],\"scatterpolar\":[{\"type\":\"scatterpolar\",\"marker\":{\"colorbar\":{\"outlinewidth\":0,\"ticks\":\"\"}}}],\"histogram\":[{\"marker\":{\"pattern\":{\"fillmode\":\"overlay\",\"size\":10,\"solidity\":0.2}},\"type\":\"histogram\"}],\"scattergl\":[{\"type\":\"scattergl\",\"marker\":{\"colorbar\":{\"outlinewidth\":0,\"ticks\":\"\"}}}],\"scatter3d\":[{\"type\":\"scatter3d\",\"line\":{\"colorbar\":{\"outlinewidth\":0,\"ticks\":\"\"}},\"marker\":{\"colorbar\":{\"outlinewidth\":0,\"ticks\":\"\"}}}],\"scattermapbox\":[{\"type\":\"scattermapbox\",\"marker\":{\"colorbar\":{\"outlinewidth\":0,\"ticks\":\"\"}}}],\"scatterternary\":[{\"type\":\"scatterternary\",\"marker\":{\"colorbar\":{\"outlinewidth\":0,\"ticks\":\"\"}}}],\"scattercarpet\":[{\"type\":\"scattercarpet\",\"marker\":{\"colorbar\":{\"outlinewidth\":0,\"ticks\":\"\"}}}],\"carpet\":[{\"aaxis\":{\"endlinecolor\":\"#2a3f5f\",\"gridcolor\":\"white\",\"linecolor\":\"white\",\"minorgridcolor\":\"white\",\"startlinecolor\":\"#2a3f5f\"},\"baxis\":{\"endlinecolor\":\"#2a3f5f\",\"gridcolor\":\"white\",\"linecolor\":\"white\",\"minorgridcolor\":\"white\",\"startlinecolor\":\"#2a3f5f\"},\"type\":\"carpet\"}],\"table\":[{\"cells\":{\"fill\":{\"color\":\"#EBF0F8\"},\"line\":{\"color\":\"white\"}},\"header\":{\"fill\":{\"color\":\"#C8D4E3\"},\"line\":{\"color\":\"white\"}},\"type\":\"table\"}],\"barpolar\":[{\"marker\":{\"line\":{\"color\":\"#E5ECF6\",\"width\":0.5},\"pattern\":{\"fillmode\":\"overlay\",\"size\":10,\"solidity\":0.2}},\"type\":\"barpolar\"}],\"pie\":[{\"automargin\":true,\"type\":\"pie\"}]},\"layout\":{\"autotypenumbers\":\"strict\",\"colorway\":[\"#636efa\",\"#EF553B\",\"#00cc96\",\"#ab63fa\",\"#FFA15A\",\"#19d3f3\",\"#FF6692\",\"#B6E880\",\"#FF97FF\",\"#FECB52\"],\"font\":{\"color\":\"#2a3f5f\"},\"hovermode\":\"closest\",\"hoverlabel\":{\"align\":\"left\"},\"paper_bgcolor\":\"white\",\"plot_bgcolor\":\"#E5ECF6\",\"polar\":{\"bgcolor\":\"#E5ECF6\",\"angularaxis\":{\"gridcolor\":\"white\",\"linecolor\":\"white\",\"ticks\":\"\"},\"radialaxis\":{\"gridcolor\":\"white\",\"linecolor\":\"white\",\"ticks\":\"\"}},\"ternary\":{\"bgcolor\":\"#E5ECF6\",\"aaxis\":{\"gridcolor\":\"white\",\"linecolor\":\"white\",\"ticks\":\"\"},\"baxis\":{\"gridcolor\":\"white\",\"linecolor\":\"white\",\"ticks\":\"\"},\"caxis\":{\"gridcolor\":\"white\",\"linecolor\":\"white\",\"ticks\":\"\"}},\"coloraxis\":{\"colorbar\":{\"outlinewidth\":0,\"ticks\":\"\"}},\"colorscale\":{\"sequential\":[[0.0,\"#0d0887\"],[0.1111111111111111,\"#46039f\"],[0.2222222222222222,\"#7201a8\"],[0.3333333333333333,\"#9c179e\"],[0.4444444444444444,\"#bd3786\"],[0.5555555555555556,\"#d8576b\"],[0.6666666666666666,\"#ed7953\"],[0.7777777777777778,\"#fb9f3a\"],[0.8888888888888888,\"#fdca26\"],[1.0,\"#f0f921\"]],\"sequentialminus\":[[0.0,\"#0d0887\"],[0.1111111111111111,\"#46039f\"],[0.2222222222222222,\"#7201a8\"],[0.3333333333333333,\"#9c179e\"],[0.4444444444444444,\"#bd3786\"],[0.5555555555555556,\"#d8576b\"],[0.6666666666666666,\"#ed7953\"],[0.7777777777777778,\"#fb9f3a\"],[0.8888888888888888,\"#fdca26\"],[1.0,\"#f0f921\"]],\"diverging\":[[0,\"#8e0152\"],[0.1,\"#c51b7d\"],[0.2,\"#de77ae\"],[0.3,\"#f1b6da\"],[0.4,\"#fde0ef\"],[0.5,\"#f7f7f7\"],[0.6,\"#e6f5d0\"],[0.7,\"#b8e186\"],[0.8,\"#7fbc41\"],[0.9,\"#4d9221\"],[1,\"#276419\"]]},\"xaxis\":{\"gridcolor\":\"white\",\"linecolor\":\"white\",\"ticks\":\"\",\"title\":{\"standoff\":15},\"zerolinecolor\":\"white\",\"automargin\":true,\"zerolinewidth\":2},\"yaxis\":{\"gridcolor\":\"white\",\"linecolor\":\"white\",\"ticks\":\"\",\"title\":{\"standoff\":15},\"zerolinecolor\":\"white\",\"automargin\":true,\"zerolinewidth\":2},\"scene\":{\"xaxis\":{\"backgroundcolor\":\"#E5ECF6\",\"gridcolor\":\"white\",\"linecolor\":\"white\",\"showbackground\":true,\"ticks\":\"\",\"zerolinecolor\":\"white\",\"gridwidth\":2},\"yaxis\":{\"backgroundcolor\":\"#E5ECF6\",\"gridcolor\":\"white\",\"linecolor\":\"white\",\"showbackground\":true,\"ticks\":\"\",\"zerolinecolor\":\"white\",\"gridwidth\":2},\"zaxis\":{\"backgroundcolor\":\"#E5ECF6\",\"gridcolor\":\"white\",\"linecolor\":\"white\",\"showbackground\":true,\"ticks\":\"\",\"zerolinecolor\":\"white\",\"gridwidth\":2}},\"shapedefaults\":{\"line\":{\"color\":\"#2a3f5f\"}},\"annotationdefaults\":{\"arrowcolor\":\"#2a3f5f\",\"arrowhead\":0,\"arrowwidth\":1},\"geo\":{\"bgcolor\":\"white\",\"landcolor\":\"#E5ECF6\",\"subunitcolor\":\"white\",\"showland\":true,\"showlakes\":true,\"lakecolor\":\"white\"},\"title\":{\"x\":0.05},\"mapbox\":{\"style\":\"light\"}}},\"xaxis\":{\"anchor\":\"y\",\"domain\":[0.0,1.0],\"title\":{\"text\":\"Rating\"}},\"yaxis\":{\"anchor\":\"x\",\"domain\":[0.0,1.0],\"title\":{\"text\":\"Frequency\"}},\"legend\":{\"title\":{\"text\":\"variable\"},\"tracegroupgap\":0},\"title\":{\"text\":\"Distribution of Rating of Training Data\"},\"barmode\":\"relative\"},                        {\"responsive\": true}                    ).then(function(){\n",
       "                            \n",
       "var gd = document.getElementById('4b156285-dc00-4d62-a8d6-05468c326f68');\n",
       "var x = new MutationObserver(function (mutations, observer) {{\n",
       "        var display = window.getComputedStyle(gd).display;\n",
       "        if (!display || display === 'none') {{\n",
       "            console.log([gd, 'removed!']);\n",
       "            Plotly.purge(gd);\n",
       "            observer.disconnect();\n",
       "        }}\n",
       "}});\n",
       "\n",
       "// Listen for the removal of the full notebook cells\n",
       "var notebookContainer = gd.closest('#notebook-container');\n",
       "if (notebookContainer) {{\n",
       "    x.observe(notebookContainer, {childList: true});\n",
       "}}\n",
       "\n",
       "// Listen for the clearing of the current output cell\n",
       "var outputEl = gd.closest('.output');\n",
       "if (outputEl) {{\n",
       "    x.observe(outputEl, {childList: true});\n",
       "}}\n",
       "\n",
       "                        })                };                });            </script>        </div>"
      ]
     },
     "metadata": {},
     "output_type": "display_data"
    }
   ],
   "source": [
    "tmp=user_matrix_cleaned.merge(\n",
    "    predictions_df,\n",
    "    how='left',\n",
    "    on=['User', 'Gift Idea']\n",
    ")\n",
    "fig=px.histogram(tmp.loc[tmp['SVD_Predictions'].isna(),'Rating'],title='Distribution of Rating of Training Data')\n",
    "fig.update_layout(xaxis_title='Rating',\n",
    "                 yaxis_title='Frequency')"
   ]
  },
  {
   "cell_type": "code",
   "execution_count": 295,
   "id": "5c0e184e-e0a4-40ec-acd8-1bddd56348c2",
   "metadata": {},
   "outputs": [
    {
     "name": "stdout",
     "output_type": "stream",
     "text": [
      "RMSE: 1.1355\n"
     ]
    }
   ],
   "source": [
    "# Define the model with regularization parameter\n",
    "svd = SVD(reg_all=0.1)  # You can try different values for reg_all (e.g., 0.05, 0.2)\n",
    "\n",
    "# Train the model\n",
    "trainset = data.build_full_trainset()\n",
    "svd.fit(trainset)\n",
    "\n",
    "# Test the model\n",
    "predictions = svd.test(testset)\n",
    "\n",
    "svd_rmse=accuracy.rmse(predictions)"
   ]
  },
  {
   "cell_type": "code",
   "execution_count": 321,
   "id": "e0ce1306-e5ad-447b-a350-05c0b6abfe9b",
   "metadata": {},
   "outputs": [
    {
     "data": {
      "text/plain": [
       "['svd_model.pkl']"
      ]
     },
     "execution_count": 321,
     "metadata": {},
     "output_type": "execute_result"
    }
   ],
   "source": [
    "joblib.dump(svd,'svd_model.pkl')"
   ]
  },
  {
   "cell_type": "code",
   "execution_count": null,
   "id": "95195f82-2ca5-46d9-b4bd-0928eec164c9",
   "metadata": {},
   "outputs": [],
   "source": [
    "user_item_matrix=user_item_matrix.set_index('User')"
   ]
  },
  {
   "cell_type": "code",
   "execution_count": 509,
   "id": "3f792f81-0d71-4930-93d3-29285c83ec67",
   "metadata": {},
   "outputs": [],
   "source": [
    "def generate_nan_for_df(df):\n",
    "    \"\"\"\n",
    "    This function is to generate random np.nan value in the original df\n",
    "    \"\"\"\n",
    "    #Set the random seed for reproducibility\n",
    "    np.random.seed(42)\n",
    "    # Define the percentage of missing values you want to introduce (e.g., 20%)\n",
    "    missing_percentage=0.2\n",
    "    missing_num=int(np.floor(df.size*missing_percentage))\n",
    "    #Get random indices where missing values will be introduced\n",
    "    missing_indices=np.random.choice(df.size,num_missing,replace=False)\n",
    "    # Convert the indices to row and column coordinates in the user-item matrix\n",
    "    rows,cols=np.unravel_index(missing_indices,df.shape)\n",
    "    # Now, correctly set the NaN values in the user-item matrix\n",
    "    for row,col in zip(rows,cols):\n",
    "        df.iloc[row,col]=np.nan\n",
    "    return df\n",
    "\n",
    "    "
   ]
  },
  {
   "cell_type": "code",
   "execution_count": null,
   "id": "75408bd6-7f17-4b62-be43-ac68dbe2a675",
   "metadata": {},
   "outputs": [],
   "source": [
    "user_item_matrix = generate_nan_for_df(user_item_matrix)"
   ]
  },
  {
   "cell_type": "code",
   "execution_count": 517,
   "id": "2a662850-9ae9-48c9-8f13-b29a082f1fc1",
   "metadata": {},
   "outputs": [],
   "source": [
    "user_item_matrix.reset_index(inplace=True)"
   ]
  },
  {
   "cell_type": "code",
   "execution_count": 539,
   "id": "cf48694c-7977-49f9-b74a-9833ca6fd189",
   "metadata": {},
   "outputs": [],
   "source": [
    "def recommend_gifts(user_id, model, df, top_n=5):\n",
    "    \"\"\"\n",
    "    Recommend top N gifts for a specific user based on collaborative filtering.\n",
    "    \"\"\"\n",
    "    # Get all gift ideas\n",
    "    all_gifts = df.columns.tolist()\n",
    "    \n",
    "    # Gifts the user has already rated\n",
    "    rated_gifts = user_item_matrix.loc[user_id].dropna().index.tolist()\n",
    "\n",
    "    # Predict ratings for unrated gifts\n",
    "    predictions = [\n",
    "        (gift, model.predict(user_id, gift).est)\n",
    "        for gift in all_gifts\n",
    "        if gift not in rated_gifts\n",
    "    ]\n",
    "\n",
    "    # Sort by predicted ratings in descending order\n",
    "    predictions.sort(key=lambda x: x[1], reverse=True)\n",
    "\n",
    "    # Return top N recommendations\n",
    "    return pd.DataFrame(predictions[:top_n], columns=[\"Gift Idea\", \"Predicted Rating\"])"
   ]
  },
  {
   "cell_type": "code",
   "execution_count": 545,
   "id": "fb4a0432-bf79-456b-beed-3df06f3798d4",
   "metadata": {},
   "outputs": [
    {
     "name": "stdout",
     "output_type": "stream",
     "text": [
      "                             Gift Idea  Predicted Rating\n",
      "0            French Press Coffee Maker          3.459369\n",
      "1  Nixplay Smart Digital Photo Frame.1          3.414728\n",
      "2            Infantino Pop-Up Ball Pit          3.360619\n",
      "3                     Luxury Spice Set          3.307940\n",
      "4                   Galaxy Projector.1          3.233859\n"
     ]
    }
   ],
   "source": [
    "# Example usage\n",
    "user_id = 0\n",
    "recommendations = recommend_gifts(user_id, svd, user_item_matrix, top_n=5)\n",
    "print(recommendations)\n"
   ]
  },
  {
   "cell_type": "code",
   "execution_count": 618,
   "id": "ac030436-f0b9-4e26-8df5-1485eb6986dc",
   "metadata": {},
   "outputs": [],
   "source": [
    "df_sorted.to_csv('df_sorted.csv',index=False)"
   ]
  },
  {
   "cell_type": "code",
   "execution_count": 606,
   "id": "5144e04b-8930-48e3-8c5f-4788aca85818",
   "metadata": {},
   "outputs": [],
   "source": [
    "def hybrid_recommendations(user_input, user_id, model, content_scores, top_n=5):\n",
    "    \"\"\"\n",
    "    Combine content-based and collaborative filtering for hybrid recommendations.\n",
    "    \"\"\"\n",
    "    collaborative_recs = recommend_gifts(user_id, model, user_item_matrix)\n",
    "    collaborative_scores = collaborative_recs.set_index('Gift Idea')['Predicted Rating']\n",
    "\n",
    "    # Merge collaborative scores with content-based scores\n",
    "    combined_scores = content_scores.copy()\n",
    "    combined_scores['Collaborative Score'] = combined_scores['Gift Idea'].map(collaborative_scores)\n",
    "    combined_scores['Hybrid Score'] = 0.5 * combined_scores['similarity_score'] + 0.5 * combined_scores['Collaborative Score']\n",
    "    \n",
    "    # Sort by hybrid score\n",
    "    combined_scores = combined_scores.sort_values(by='Hybrid Score', ascending=False)\n",
    "    return combined_scores[['Gift Idea', 'Persona', 'Description', 'Hybrid Score']].head(top_n)\n"
   ]
  },
  {
   "cell_type": "code",
   "execution_count": 622,
   "id": "45b18525-0711-4293-9947-2fd6ff8167cf",
   "metadata": {},
   "outputs": [],
   "source": [
    "user_item_matrix.to_csv('updated_nan_user_item_matrix.csv',index=False)"
   ]
  },
  {
   "cell_type": "code",
   "execution_count": 628,
   "id": "2b0144d8-d4b4-496a-a914-6757b766a1a3",
   "metadata": {},
   "outputs": [
    {
     "name": "stdout",
     "output_type": "stream",
     "text": [
      "Overwriting hybrid_app.py\n"
     ]
    }
   ],
   "source": [
    "%%writefile hybrid_app.py \n",
    "import streamlit as st\n",
    "import pandas as pd\n",
    "import numpy as np\n",
    "import joblib\n",
    "\n",
    "# Load your precomputed embeddings and dataset\n",
    "df_sorted= pd.read_csv('df_sorted.csv')\n",
    "user_item_matrix = pd.read_csv('updated_nan_user_item_matrix.csv')\n",
    "\n",
    "\n",
    "\n",
    "@st.cache_resource\n",
    "def load_model():\n",
    "    return joblib.load(\"svd_model.pkl\")\n",
    "\n",
    "svd = load_model()\n",
    "\n",
    "def recommend_gifts(user_id, model, df, top_n=5):\n",
    "    \"\"\"\n",
    "    Recommend top N gifts for a specific user based on collaborative filtering.\n",
    "    \"\"\"\n",
    "    # Get all gift ideas\n",
    "    all_gifts = df.columns.tolist()\n",
    "    \n",
    "    # Gifts the user has already rated\n",
    "    rated_gifts = user_item_matrix.loc[user_id].dropna().index.tolist()\n",
    "\n",
    "    # Predict ratings for unrated gifts\n",
    "    predictions = [\n",
    "        (gift, model.predict(user_id, gift).est)\n",
    "        for gift in all_gifts\n",
    "        if gift not in rated_gifts\n",
    "    ]\n",
    "\n",
    "    # Sort by predicted ratings in descending order\n",
    "    predictions.sort(key=lambda x: x[1], reverse=True)\n",
    "\n",
    "    # Return top N recommendations\n",
    "    return pd.DataFrame(predictions[:top_n], columns=[\"Gift Idea\", \"Predicted Rating\"])\n",
    "\n",
    "def hybrid_recommendations(user_input, user_id, model, content_scores, top_n=5):\n",
    "    \"\"\"\n",
    "    Combine content-based and collaborative filtering for hybrid recommendations.\n",
    "    \"\"\"\n",
    "    collaborative_recs = recommend_gifts(user_id, model, user_item_matrix)\n",
    "    collaborative_scores = collaborative_recs.set_index('Gift Idea')['Predicted Rating']\n",
    "\n",
    "    # Merge collaborative scores with content-based scores\n",
    "    combined_scores = content_scores.copy()\n",
    "    combined_scores['Collaborative Score'] = combined_scores['Gift Idea'].map(collaborative_scores)\n",
    "    combined_scores['Hybrid Score'] = 0.5 * combined_scores['similarity_score'] + 0.5 * combined_scores['Collaborative Score']\n",
    "    \n",
    "    # Sort by hybrid score\n",
    "    combined_scores = combined_scores.sort_values(by='Hybrid Score', ascending=False)\n",
    "    return combined_scores[['Gift Idea', 'Persona', 'Description', 'Hybrid Score']].head(top_n)\n",
    "\n",
    "# Get content-based scores\n",
    "content_scores = df_sorted.copy()\n",
    "\n",
    "user_input='2 year old toddler who loves animals'\n",
    "\n",
    "# Example usage\n",
    "hybrid_recs = hybrid_recommendations(user_input, 0, svd, content_scores, top_n=5)\n",
    "st.write(hybrid_recs)\n",
    "\n",
    "# Add User ID input\n",
    "\n",
    "user_id = st.selectbox(\"Select a User ID\", user_item_matrix.index.tolist())\n",
    "\n",
    "# Add a button to generate recommendations\n",
    "if st.button(\"Get Hybrid Recommendations\"):\n",
    "    hybrid_recs = hybrid_recommendations(user_input, user_id, svd, content_scores, top_n=5)\n",
    "    st.write(\"Top Hybrid Recommendations:\")\n",
    "    st.write(hybrid_recs)\n",
    "\n"
   ]
  },
  {
   "cell_type": "code",
   "execution_count": null,
   "id": "299bf177-6586-4eb1-bf8a-3659f504e4ab",
   "metadata": {},
   "outputs": [],
   "source": []
  },
  {
   "cell_type": "code",
   "execution_count": null,
   "id": "83dceb68-629b-4601-9898-89ba80db0318",
   "metadata": {},
   "outputs": [],
   "source": []
  },
  {
   "cell_type": "code",
   "execution_count": null,
   "id": "26e74092-a537-4526-9590-4a9d2bb60bb4",
   "metadata": {},
   "outputs": [],
   "source": []
  }
 ],
 "metadata": {
  "kernelspec": {
   "display_name": "Python 3 (ipykernel)",
   "language": "python",
   "name": "python3"
  },
  "language_info": {
   "codemirror_mode": {
    "name": "ipython",
    "version": 3
   },
   "file_extension": ".py",
   "mimetype": "text/x-python",
   "name": "python",
   "nbconvert_exporter": "python",
   "pygments_lexer": "ipython3",
   "version": "3.12.4"
  }
 },
 "nbformat": 4,
 "nbformat_minor": 5
}
