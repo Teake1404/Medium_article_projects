{
 "cells": [
  {
   "cell_type": "code",
   "execution_count": null,
   "id": "10fe2723-027e-4f39-895a-d2e46f279841",
   "metadata": {},
   "outputs": [],
   "source": [
    "import pandas as pd\n",
    "import numpy as np\n",
    "import re\n",
    "import os\n",
    "import requests\n",
    "from bs4 import BeautifulSoup\n",
    "from selenium import webdriver\n",
    "from selenium.webdriver.common.by import By\n",
    "from selenium.webdriver.common.action_chains import ActionChains\n",
    "import time\n"
   ]
  },
  {
   "cell_type": "code",
   "execution_count": 11,
   "id": "b500ed8e-7da5-447d-8734-de88de801982",
   "metadata": {},
   "outputs": [],
   "source": [
    "#URL of the Medium account\n",
    "url='https://medium.com/@shuqingke1404'\n",
    "other_user_url=\"https://medium.com/@natassha6789\""
   ]
  },
  {
   "cell_type": "code",
   "execution_count": null,
   "id": "c30ad68f-0e37-473b-99ef-c6ebb633cc1a",
   "metadata": {},
   "outputs": [],
   "source": [
    "# Send a request to the Medium account\n",
    "response=requests.get(url)\n",
    "\n",
    "#Parse the HTML content of profile page\n",
    "soup=BeautifulSoup(response.content,'html.parser')"
   ]
  },
  {
   "cell_type": "code",
   "execution_count": 227,
   "id": "21bcd7c8-b4d0-4cf4-a2fb-be8b0074f301",
   "metadata": {},
   "outputs": [],
   "source": [
    "article_links=scrape_article_links(url)"
   ]
  },
  {
   "cell_type": "code",
   "execution_count": 213,
   "id": "6967a97f-c519-4ab3-853f-868a5004adca",
   "metadata": {},
   "outputs": [],
   "source": [
    "all_links=scrape_articles_infinite_scroll(other_user_url)"
   ]
  },
  {
   "cell_type": "code",
   "execution_count": 229,
   "id": "527128f3-2c55-4663-9687-a00e1f783f1c",
   "metadata": {
    "scrolled": true
   },
   "outputs": [
    {
     "data": {
      "text/plain": [
       "['https://medium.com/@shuqingke1404/why-you-should-stop-using-ols-regression-for-pricing-optimization-a-new-data-science-c75b47aa1ec3',\n",
       " 'https://medium.com/@shuqingke1404/forget-ols-regression-discover-expectilegam-for-smarter-price-optimization-part-two-02cf348aabef',\n",
       " 'https://medium.com/illumination/be-like-a-koi-fish-think-less-swim-more-14a61df0f6da',\n",
       " 'https://medium.com/illumination/inkspired-productivity-how-a-tattoo-parlor-became-my-secret-to-focus-and-success-384f61d1a48c',\n",
       " 'https://medium.com/towards-data-science/ai-my-holiday-elf-building-a-gift-recommender-for-the-perfect-christmas-caf163d38e10',\n",
       " 'https://medium.com/illumination/how-i-used-ai-to-decode-2-300-disneyland-reviews-and-plan-the-perfect-visit-9bfc74665ae6',\n",
       " 'https://medium.com/practice-in-public/ai-predicted-i-am-how-old-60973bd48225']"
      ]
     },
     "execution_count": 229,
     "metadata": {},
     "output_type": "execute_result"
    }
   ],
   "source": [
    "article_links"
   ]
  },
  {
   "cell_type": "code",
   "execution_count": null,
   "id": "2d5a9c9f-0dc4-4b51-85bc-6cdc9b7b961a",
   "metadata": {},
   "outputs": [],
   "source": []
  },
  {
   "cell_type": "code",
   "execution_count": null,
   "id": "0db4543c-ede4-4471-a38c-0a697fed3677",
   "metadata": {},
   "outputs": [],
   "source": []
  },
  {
   "cell_type": "code",
   "execution_count": null,
   "id": "1eebeedf-bc87-44cd-99c5-ff314d59c14c",
   "metadata": {},
   "outputs": [],
   "source": []
  },
  {
   "cell_type": "code",
   "execution_count": null,
   "id": "19e021e2-55e2-4694-ab52-c0e6126b0e65",
   "metadata": {},
   "outputs": [],
   "source": []
  },
  {
   "cell_type": "code",
   "execution_count": null,
   "id": "31dfb756-fe07-4e46-b257-37b93be3416e",
   "metadata": {},
   "outputs": [],
   "source": []
  },
  {
   "cell_type": "code",
   "execution_count": null,
   "id": "dcc79670-bf28-414c-b11c-42f66dabac6f",
   "metadata": {},
   "outputs": [],
   "source": []
  },
  {
   "cell_type": "code",
   "execution_count": null,
   "id": "932389a2-d14e-4555-b560-b11415facc5e",
   "metadata": {},
   "outputs": [],
   "source": []
  },
  {
   "cell_type": "code",
   "execution_count": null,
   "id": "9f61f346-5734-4584-a6a6-94115dc6db1e",
   "metadata": {},
   "outputs": [],
   "source": []
  },
  {
   "cell_type": "code",
   "execution_count": null,
   "id": "fb268ba1-e5ba-401a-82ef-c41ca6a0b0d6",
   "metadata": {},
   "outputs": [],
   "source": []
  },
  {
   "cell_type": "code",
   "execution_count": null,
   "id": "e94aff91-7909-48c3-94d1-fb9c8a8bbe57",
   "metadata": {},
   "outputs": [],
   "source": []
  },
  {
   "cell_type": "code",
   "execution_count": null,
   "id": "b2630edb-6f09-46d9-992d-783909ce59b5",
   "metadata": {},
   "outputs": [],
   "source": []
  },
  {
   "cell_type": "code",
   "execution_count": null,
   "id": "fbe9b38b-ed47-4fb3-ae80-f7a107753026",
   "metadata": {},
   "outputs": [],
   "source": []
  },
  {
   "cell_type": "code",
   "execution_count": null,
   "id": "70678c3a-dd2b-4a29-bb2d-cdf5f20bf505",
   "metadata": {},
   "outputs": [],
   "source": []
  },
  {
   "cell_type": "code",
   "execution_count": null,
   "id": "52a9cdbd-29b4-4b8d-ac23-ad92b885d06b",
   "metadata": {},
   "outputs": [],
   "source": []
  },
  {
   "cell_type": "code",
   "execution_count": null,
   "id": "f2efcec8-b305-42d2-b2ad-3e9ba9197745",
   "metadata": {},
   "outputs": [],
   "source": []
  },
  {
   "cell_type": "code",
   "execution_count": null,
   "id": "5cc43063-c3a1-47d4-bb38-b8c8aef67c28",
   "metadata": {},
   "outputs": [],
   "source": []
  }
 ],
 "metadata": {
  "kernelspec": {
   "display_name": "Python 3 (ipykernel)",
   "language": "python",
   "name": "python3"
  },
  "language_info": {
   "codemirror_mode": {
    "name": "ipython",
    "version": 3
   },
   "file_extension": ".py",
   "mimetype": "text/x-python",
   "name": "python",
   "nbconvert_exporter": "python",
   "pygments_lexer": "ipython3",
   "version": "3.12.4"
  }
 },
 "nbformat": 4,
 "nbformat_minor": 5
}
